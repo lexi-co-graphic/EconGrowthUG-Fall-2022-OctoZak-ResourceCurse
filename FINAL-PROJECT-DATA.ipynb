{
 "cells": [
  {
   "cell_type": "markdown",
   "id": "3561f03c",
   "metadata": {},
   "source": [
    "Lexi Eid and Krithi Choudhary \\\n",
    "Dr. Ozak \\\n",
    "ECON 4362 \\\n",
    "13 November 2022  \n",
    "\n",
    "# Paying for Poverty: Why Resource Endowment Prevents Growth \n",
    "## Final Project: Data and Analysis\n"
   ]
  },
  {
   "cell_type": "markdown",
   "id": "dee12de6",
   "metadata": {},
   "source": [
    "## Question/ Problem We’re Addressing\n",
    "Beginning in the 1950s, scholars have reflected on the lack of development in low and middle-income countries. This correlation between lower income and slower growth was originally suspected to be a factor of path dependence, where a lack of wealth in the 1800s and 1900s could lead to a lack of growth in the 21st century. However, the 1980s demonstrated that lower-income countries CAN experience rapid economic growth, by a factor of more than 10% per year. In particular, the “miracle growth” countries like China, Korea, and Japan, categorized as countries with sustained economic growth of more than 6% per year, inspired further research. Still, the majority of low-income nations remained low-income. Some glaring exceptions also stood out: countries endowed with natural resources which should catalyze growth and integration into the international economy. Often, the results were counterintuitive to logic. These countries, endowed with oil, natural gas, and other high-value-added resources, experienced slower economic growth than their high-income counterparts and their low-income neighbors. In 1993, Richard Auty coined the term *resource curse* to describe this phenomenon of lower economic growth in resource-abundant countries. \n",
    "\n",
    "The resource curse was inspired by another similar phenomenon, the Dutch disease. The Dutch disease suggests that increased exports of natural resources instigated a decline in national production competitiveness and created conditions for recessions. Growing natural resource markets often correlate to weakened export markets of goods and services because tradable goods become less competitive as the country becomes less specialized in its non-resource goods. Particularly for countries in the fuel industry, these changes in specialization influence how competitive countries are in the international and create unfavorable conditions for economic growth. The resource curse expands this phenomenon to include economic stagnation and stunting of growth in sectors outside of the export market. \n",
    "    \n",
    "Our research aims to investigate this exact topic: *How does the resource curse affect low-income economies and do natural resources induce economic stagnation?*"
   ]
  },
  {
   "cell_type": "markdown",
   "id": "1d8160a8",
   "metadata": {},
   "source": [
    "## Explanation of Variables\n",
    "1) Volatility of prices \\\n",
    "\tMost natural resources are roughly price inelastic on the supply and demand side, making the market highly vulnerable to small price changes. Changes in demand or supply shocks of all kinds can create large swings in prices that affect the market rapidly. As Michael Ross highlights, “the price of oil is more volatile than the price of 95 percent of all products sold in the United States,” making energy resources and other natural resources dangerous investments (Ross, 50). When governments rely on these revenues, economic growth is highly dependent on international prices. If prices dip, as they did in 2020 during the COVID pandemic, unexpected changes can create detrimental setbacks in growth. Goods and services are much less volatile, making them safer investments for growth. Resource-rich countries are therefore at the mercy of the international market for economic revenue and growth. \\\n",
    "    We will tracking the trend lines between prices of oil and other nautral resources and economic growth. A positive correlation would indicate that economic growth is reliant on export prices. Thus, the volatility of the prices would be an impediment to economic growth.     \n",
    "    \n",
    "2) Resource Rent Revenues \\\n",
    "\tOverwhelmingly, a positive correlation exists between resource endowment and the size of government. These larger governments are also disproportionately dependent on revenues from natural resources, relying less on taxes than their resource-poor counterparts (Ross, 29). These disproportionately large governments rely on resource revenues and often fail to stabilize their economies due to shorter time horizons. The alternating periods of high prices tend to correlate with faster growth whereas low prices are associated with poor budgeting and high expenditures. Thus, governmental rents from resources can reveal where money is wasted or spent on consumption rather than investment.\\\n",
    "    We will observe the trends between the size of government and economic growth. If there is a negative correlation, it would imply that government rents are detrimental to economic growth. \n",
    "\n",
    "3) Income Stagnation and Unemployment \\\n",
    "\tAs a factor of the Dutch disease, a competitive advantage in natural resources prevents development in other export industries. The “competitive hypothesis” of the resource curse argues that specialization in the resource industry can subdue growth in more diversified and stable industries, thus preventing the overall growth of the economy (Mershed and Serino, 152). In addition, the overemphasis on the resource sector can create unemployment as jobs shift from other industries. In the long term, the oversaturation of the labor market can create wage stagnation, lower GDP per capita, and lower standards of living. This combination of hyperspecialized industries and low wages can subdue economic growth, even when prices for natural resources are high. \\\n",
    "    For this section, we will be observing what percent of the economy is employed by the natural resource industry and whether employment in other sectors is decreasing. We will also be comparing natural resource rents to GDP per capita. If increased unemployment in non-resource industries is negatively correlated with economic growth, this data would suggest that natural resources are detrimental to economic growth. "
   ]
  },
  {
   "cell_type": "markdown",
   "id": "60a196e8",
   "metadata": {},
   "source": [
    "## Data \n",
    "The data necessary to assess our argument is compiled into five essential pieces of data: \n",
    "1) Statistics of resource endowment, detailing which resource each country has and the percent of exports \\\n",
    "2) GDP growth (and reductions) since exporting natural resources \\\n",
    "3) GDP per capita growth (and reductions) since exporting natural resources \\\n",
    "4) Prices of the natural resources before and after exportation \\\n",
    "5) Government rents from natural resources and their factor of total GDP/production \\\n",
    "and \\\n",
    "6) Exports and Natural Resource Exports as a percentage of Total GDP. \n",
    "\n",
    "These five factors will demonstrate how the exchange of natural resources has changed in recent years and how developing economies have responded. As outlined above, our goal is to compare the data on the total production of natural resources to GDP per capita and total GDP growth to measure whether correlations exist between the two variables. The prices of the resources and the government rents will serve as control variables, to test whether extreme variation in GDP comes from internal or external factors. Due to a large number of confounding variables, we chose two external factors (price and government rents) to measure internal and external pressure on the market at all times. \n",
    "\n",
    "Ultimately, these variables will address the factors of economic growth and demonstrate how resource-rich countries are at a unique disadvantage: despite an ingrained source for wealth, the countries are failing to develop or to grow. \n",
    "\n",
    "### Goals of Analysis \n",
    "\n",
    "With our data, we intend to demonstrate four main correlations. \n",
    "\n",
    "1) Demonstrate a correlation between the price of natural resource exports and negative (OR neutral) GDP growth \\\n",
    "Economic logic suggests that increase exports is linked to GDP growth. Therefore, a negative or neutral correlation between GDP growth and natural resource exports would illustrate some negative pressure from natural resources on GDP. \\ \n",
    "\n",
    "We plan to run regression to determine a correlation between price of exports and GDP growth both average for countries and over time. Ideally, both will demonstrate that peaks of prices are correlated with dips in GDP growth. \n",
    "\n",
    "\n",
    "2) Demonstrating negative (OR neutral) correlation between price of natural resources and GDP per capita growth \\\n",
    "Again, economic logic would suggest that increasing GDP and increased natural resources exports would benefit the country's population. A negative or neutral correlation suggests that the increased revenues do not go to the people, but go somewhere else. If GDPPC is stagnant, this suggests limited development and growth. \\\n",
    "\n",
    "We plan to run regression between prices of natural resources and GDPPC growth, as well as a regression for resource endowment as a percentage of exports and GDPPC growth. A negative correlation for both would support or hypothesis. \n",
    "\n",
    "\n",
    "3) Illustrating a correlation between prices of natural resource exports and government rents \\\n",
    "Given that natural resource have a negative pressure on GDP growth and GDPPC is stagnant, where does that extra income go? Demonstrating a correlation between prices and rents will illustrate that in some way, governments benefit from increase prices rather than the people. Therefore, government rents would be detrimental to development and growth. \\\n",
    "\n",
    "We plan to run regressions between prices of natural resources and government rent growth, as well as a regression for resource endowment as a percentage of exports and rent growth. It is crucially import to note that we plan to use region as a control variable for these regressions. Regions that are more authoritarian than others (like the Middle East) will naturally have higher resource rents than democratic regions (like Europe or Africa). However, all regions should show negative trends. Therefore, by keeping region as a control variable, we will ensure that no data is skewed by government type or regional diversity. \n",
    "\n",
    "\n",
    "and lastly, \\\n",
    "4) Illustrating the general correlation between high resource endowment and GDP growth over time \\\n",
    "Using the data compiled previously, we hope to illustrate how resource endowment has an overwhelmingly negative impact of GDP growth and GDPPC growth. These variables demonstrate the various factors of the economy which are influenced by resource endowment and those which are negatively impacted. \n",
    "\n",
    "\n",
    "Our outputs will be linear regression dynamic models and several R2 data analyses. Particularly for regressions over time, we intend to use linear regressions to show correlations between variables. \n",
    "\n",
    "### Source of the Data\n",
    "\n",
    "Most of our data can be sources from either OEC, the IMF, and the World Bank. However, some data is incomplete or unreliable. By using international market price and reported government rents of minerals, we hope to limit the effect of unreliable information. "
   ]
  },
  {
   "cell_type": "markdown",
   "id": "2e7c467b",
   "metadata": {},
   "source": [
    "<div class=\"alert alert-block alert-warning\">\n",
    "    <b> Country Selection </b> \n",
    "\n",
    "We chose our countries from the IMF(2012) Data set. These countries were chosen as \"resource-rich\" as natural resources account for 20%+ of exports or 20%+ of fiscal revenue. \n",
    "This data set is organized by GNI per capita from lowest to highest. We excluded the rising natural resource exporters due to a lack of reliable information across several data banks. Information not included in the IMF Data Set was acquired through OEC data banks. "
   ]
  },
  {
   "cell_type": "code",
   "execution_count": 30,
   "id": "5a10990d",
   "metadata": {},
   "outputs": [
    {
     "name": "stdout",
     "output_type": "stream",
     "text": [
      "Using matplotlib backend: QtAgg\n",
      "Populating the interactive namespace from numpy and matplotlib\n"
     ]
    }
   ],
   "source": [
    "#Importing\n",
    "# Basic Packages\n",
    "from __future__ import division\n",
    "import os\n",
    "from datetime import datetime\n",
    "\n",
    "# Web & file access\n",
    "import requests\n",
    "import io\n",
    "\n",
    "# Import display options for showing websites\n",
    "from IPython.display import IFrame, HTML\n",
    "# Plotting\n",
    "import matplotlib as mpl\n",
    "import matplotlib.pyplot as plt\n",
    "import matplotlib.ticker as mtick\n",
    "\n",
    "%pylab --no-import-all\n",
    "%matplotlib inline\n",
    "\n",
    "import seaborn as sns\n",
    "sns.set(rc={'figure.figsize':(11.7,8.27)})\n",
    "sns.set_context(\"talk\")\n",
    "\n",
    "import plotly.express as px\n",
    "import plotly.graph_objects as go\n",
    "\n",
    "from plotnine import ggplot, geom_point, aes, stat_smooth, facet_wrap\n",
    "\n",
    "# Data\n",
    "import pandas as pd\n",
    "import numpy as np\n",
    "from pandas_datareader import data, wb\n",
    "\n",
    "# GIS & maps\n",
    "import geopandas as gpd\n",
    "gp = gpd\n",
    "import georasters as gr\n",
    "import geoplot as gplt\n",
    "import geoplot.crs as gcrs\n",
    "import mapclassify as mc\n",
    "import textwrap\n",
    "import statsmodels.api as sm\n",
    "from stargazer.stargazer import Stargazer, LineLocation\n",
    "\n",
    "# Data Munging\n",
    "from itertools import product, combinations\n",
    "import difflib\n",
    "import pycountry\n",
    "import geocoder\n",
    "from geonamescache.mappers import country\n",
    "mapper = country(from_key='name', to_key='iso3')\n",
    "mapper2 = country(from_key='iso3', to_key='iso')\n",
    "mapper3 = country(from_key='iso3', to_key='name')\n",
    "\n",
    "# Regressions & Stats\n",
    "from scipy.stats import norm\n",
    "import statsmodels.formula.api as smf"
   ]
  },
  {
   "cell_type": "code",
   "execution_count": 65,
   "id": "d903ee98",
   "metadata": {},
   "outputs": [],
   "source": [
    "countryprelimdata = (['Congo, Dem. Rep', 'COD', 'Minerals & Oil', 94],\n",
    "                     ['Liberia', 'LBR', 'Gold/Iron Ore', 35],\n",
    "                     ['Niger', 'NER', 'Gold/Oil/Uranium', 79],\n",
    "                     ['Guinea', 'GIN', 'Mining Products', 93],\n",
    "                     ['Mali', 'MLI', 'Gold', 75],\n",
    "                     ['Chad', 'TCD', 'Oil', 89],\n",
    "                     ['Mauritania', 'MRT', 'Iron Ore', 24],\n",
    "                     ['Lao PDR', 'LAO', 'Copper & Gold', 57],\n",
    "                     ['Zambia', 'ZMB', 'Copper', 72],\n",
    "                     ['Vietnam', 'VNM', 'Oil', 14],\n",
    "                     ['Yemen', 'YEM', 'Oil', 82],\n",
    "                     ['Nigeria', 'NGA', 'Oil', 97],\n",
    "                     ['Cameroon', 'CMR', 'Oil', 47],\n",
    "                     ['Papua New Guinea', 'PNG', 'Oil/Copper/Gold', 77],\n",
    "                     ['Sudan', 'SDN', 'Oil', 97],\n",
    "                     ['Uzbekistan', 'UZB', 'Gold/Gas', 54],\n",
    "                     ['Cote d\\'Ivoire', 'CIV', 'Oil/Gold', 17],\n",
    "                     ['Bolivia', 'BOL', 'Gas', 74],\n",
    "                     ['Mongolia', 'MNG', 'Copper', 81],\n",
    "                     ['Congo, Rep. of', 'COG', 'Oil', 90],\n",
    "                     ['Iraq', 'IRQ', 'Oil', 99],\n",
    "                     ['Indonesia', 'IDN', 'Oil', 10],\n",
    "                     ['Timor Leste', 'TLS', 'Oil', 99],\n",
    "                     ['Syrian Arab Republic', 'SYR', 'Oil', 36],\n",
    "                     ['Guyana', 'GUY', 'Gold & Bauxite', 42],\n",
    "                     ['Turkmenistan', 'TKM', 'Oil', 91],\n",
    "                     ['Angola', 'AGO', 'Oil', 95],\n",
    "                     ['Gabon', 'GAB', 'Oil', 83],\n",
    "                     ['Equatorial Guinea', 'GNQ', 'Oil', 99],\n",
    "                     ['Ecuador', 'ECU', 'Oil', 55],\n",
    "                     ['Albania', 'ALB', 'Oil/Gas', 10],\n",
    "                     ['Algeria', 'DZA', 'Oil', 98],\n",
    "                     ['South Africa', 'ZAF', 'Minerals', 55],\n",
    "                     ['Iran', 'AZE', 'Oil', 94],\n",
    "                     ['Peru', 'PER', 'Minerals', 48],\n",
    "                     ['Brazil', 'BRA', 'Oil/Iron', 26],\n",
    "                     ['Azerbaijan', 'AZE', 'Oil', 94],\n",
    "                     ['Botswana', 'BWA', 'Diamonds', 66],\n",
    "                     ['Kazakhstan', 'KAZ', 'Oil', 60],\n",
    "                     ['Suriname', 'SUR', 'Minerals', 11],\n",
    "                     ['Mexico', 'MEX', 'Oil', 15],\n",
    "                     ['Russia', 'RUS', 'Oil/Minerals', 61],\n",
    "                     ['Chile', 'CHL', 'Copper', 53],\n",
    "                     ['Venezuela', 'VEN', 'Oil', 93],\n",
    "                     ['Libya', 'LBY', 'Oil', 97],\n",
    "                     ['Bahrain', 'BHR', 'Oil', 96],\n",
    "                     ['Brunei Darussalam', 'BRN', 'Gas', 87],\n",
    "                     ['Trinidad and Tobago', 'TTO', 'Gas', 38],\n",
    "                     ['Saudi Arabia', 'SAU', 'Oil', 87],\n",
    "                     ['Oman', 'OMN', 'Oil', 73],\n",
    "                     ['United Arab Emirates', 'UAE', 'Oil', 41],\n",
    "                     ['Qatar', 'QAT', 'Gas', 88],\n",
    "                     ['Norway', 'NOR', 'Oil', 62])                             \n",
    "\n",
    "cpd = pd.DataFrame(countryprelimdata, columns=['Country Name', 'iso3c', 'Exports', 'NR_TE'])\n",
    "#NR/TE represents natural resources as a percentage of total exports"
   ]
  },
  {
   "cell_type": "code",
   "execution_count": 66,
   "id": "82f05579",
   "metadata": {
    "scrolled": false
   },
   "outputs": [
    {
     "data": {
      "text/html": [
       "<div>\n",
       "<style scoped>\n",
       "    .dataframe tbody tr th:only-of-type {\n",
       "        vertical-align: middle;\n",
       "    }\n",
       "\n",
       "    .dataframe tbody tr th {\n",
       "        vertical-align: top;\n",
       "    }\n",
       "\n",
       "    .dataframe thead th {\n",
       "        text-align: right;\n",
       "    }\n",
       "</style>\n",
       "<table border=\"1\" class=\"dataframe\">\n",
       "  <thead>\n",
       "    <tr style=\"text-align: right;\">\n",
       "      <th></th>\n",
       "      <th>Country Name</th>\n",
       "      <th>iso3c</th>\n",
       "      <th>Exports</th>\n",
       "      <th>NR_TE</th>\n",
       "    </tr>\n",
       "  </thead>\n",
       "  <tbody>\n",
       "    <tr>\n",
       "      <th>0</th>\n",
       "      <td>Congo, Dem. Rep</td>\n",
       "      <td>COD</td>\n",
       "      <td>Minerals &amp; Oil</td>\n",
       "      <td>94</td>\n",
       "    </tr>\n",
       "    <tr>\n",
       "      <th>1</th>\n",
       "      <td>Liberia</td>\n",
       "      <td>LBR</td>\n",
       "      <td>Gold/Iron Ore</td>\n",
       "      <td>35</td>\n",
       "    </tr>\n",
       "    <tr>\n",
       "      <th>2</th>\n",
       "      <td>Niger</td>\n",
       "      <td>NER</td>\n",
       "      <td>Gold/Oil/Uranium</td>\n",
       "      <td>79</td>\n",
       "    </tr>\n",
       "    <tr>\n",
       "      <th>3</th>\n",
       "      <td>Guinea</td>\n",
       "      <td>GIN</td>\n",
       "      <td>Mining Products</td>\n",
       "      <td>93</td>\n",
       "    </tr>\n",
       "    <tr>\n",
       "      <th>4</th>\n",
       "      <td>Mali</td>\n",
       "      <td>MLI</td>\n",
       "      <td>Gold</td>\n",
       "      <td>75</td>\n",
       "    </tr>\n",
       "    <tr>\n",
       "      <th>5</th>\n",
       "      <td>Chad</td>\n",
       "      <td>TCD</td>\n",
       "      <td>Oil</td>\n",
       "      <td>89</td>\n",
       "    </tr>\n",
       "    <tr>\n",
       "      <th>6</th>\n",
       "      <td>Mauritania</td>\n",
       "      <td>MRT</td>\n",
       "      <td>Iron Ore</td>\n",
       "      <td>24</td>\n",
       "    </tr>\n",
       "    <tr>\n",
       "      <th>7</th>\n",
       "      <td>Lao PDR</td>\n",
       "      <td>LAO</td>\n",
       "      <td>Copper &amp; Gold</td>\n",
       "      <td>57</td>\n",
       "    </tr>\n",
       "    <tr>\n",
       "      <th>8</th>\n",
       "      <td>Zambia</td>\n",
       "      <td>ZMB</td>\n",
       "      <td>Copper</td>\n",
       "      <td>72</td>\n",
       "    </tr>\n",
       "    <tr>\n",
       "      <th>9</th>\n",
       "      <td>Vietnam</td>\n",
       "      <td>VNM</td>\n",
       "      <td>Oil</td>\n",
       "      <td>14</td>\n",
       "    </tr>\n",
       "    <tr>\n",
       "      <th>10</th>\n",
       "      <td>Yemen</td>\n",
       "      <td>YEM</td>\n",
       "      <td>Oil</td>\n",
       "      <td>82</td>\n",
       "    </tr>\n",
       "    <tr>\n",
       "      <th>11</th>\n",
       "      <td>Nigeria</td>\n",
       "      <td>NGA</td>\n",
       "      <td>Oil</td>\n",
       "      <td>97</td>\n",
       "    </tr>\n",
       "    <tr>\n",
       "      <th>12</th>\n",
       "      <td>Cameroon</td>\n",
       "      <td>CMR</td>\n",
       "      <td>Oil</td>\n",
       "      <td>47</td>\n",
       "    </tr>\n",
       "    <tr>\n",
       "      <th>13</th>\n",
       "      <td>Papua New Guinea</td>\n",
       "      <td>PNG</td>\n",
       "      <td>Oil/Copper/Gold</td>\n",
       "      <td>77</td>\n",
       "    </tr>\n",
       "    <tr>\n",
       "      <th>14</th>\n",
       "      <td>Sudan</td>\n",
       "      <td>SDN</td>\n",
       "      <td>Oil</td>\n",
       "      <td>97</td>\n",
       "    </tr>\n",
       "    <tr>\n",
       "      <th>15</th>\n",
       "      <td>Uzbekistan</td>\n",
       "      <td>UZB</td>\n",
       "      <td>Gold/Gas</td>\n",
       "      <td>54</td>\n",
       "    </tr>\n",
       "    <tr>\n",
       "      <th>16</th>\n",
       "      <td>Cote d'Ivoire</td>\n",
       "      <td>CIV</td>\n",
       "      <td>Oil/Gold</td>\n",
       "      <td>17</td>\n",
       "    </tr>\n",
       "    <tr>\n",
       "      <th>17</th>\n",
       "      <td>Bolivia</td>\n",
       "      <td>BOL</td>\n",
       "      <td>Gas</td>\n",
       "      <td>74</td>\n",
       "    </tr>\n",
       "    <tr>\n",
       "      <th>18</th>\n",
       "      <td>Mongolia</td>\n",
       "      <td>MNG</td>\n",
       "      <td>Copper</td>\n",
       "      <td>81</td>\n",
       "    </tr>\n",
       "    <tr>\n",
       "      <th>19</th>\n",
       "      <td>Congo, Rep. of</td>\n",
       "      <td>COG</td>\n",
       "      <td>Oil</td>\n",
       "      <td>90</td>\n",
       "    </tr>\n",
       "    <tr>\n",
       "      <th>20</th>\n",
       "      <td>Iraq</td>\n",
       "      <td>IRQ</td>\n",
       "      <td>Oil</td>\n",
       "      <td>99</td>\n",
       "    </tr>\n",
       "    <tr>\n",
       "      <th>21</th>\n",
       "      <td>Indonesia</td>\n",
       "      <td>IDN</td>\n",
       "      <td>Oil</td>\n",
       "      <td>10</td>\n",
       "    </tr>\n",
       "    <tr>\n",
       "      <th>22</th>\n",
       "      <td>Timor Leste</td>\n",
       "      <td>TLS</td>\n",
       "      <td>Oil</td>\n",
       "      <td>99</td>\n",
       "    </tr>\n",
       "    <tr>\n",
       "      <th>23</th>\n",
       "      <td>Syrian Arab Republic</td>\n",
       "      <td>SYR</td>\n",
       "      <td>Oil</td>\n",
       "      <td>36</td>\n",
       "    </tr>\n",
       "    <tr>\n",
       "      <th>24</th>\n",
       "      <td>Guyana</td>\n",
       "      <td>GUY</td>\n",
       "      <td>Gold &amp; Bauxite</td>\n",
       "      <td>42</td>\n",
       "    </tr>\n",
       "    <tr>\n",
       "      <th>25</th>\n",
       "      <td>Turkmenistan</td>\n",
       "      <td>TKM</td>\n",
       "      <td>Oil</td>\n",
       "      <td>91</td>\n",
       "    </tr>\n",
       "    <tr>\n",
       "      <th>26</th>\n",
       "      <td>Angola</td>\n",
       "      <td>AGO</td>\n",
       "      <td>Oil</td>\n",
       "      <td>95</td>\n",
       "    </tr>\n",
       "    <tr>\n",
       "      <th>27</th>\n",
       "      <td>Gabon</td>\n",
       "      <td>GAB</td>\n",
       "      <td>Oil</td>\n",
       "      <td>83</td>\n",
       "    </tr>\n",
       "    <tr>\n",
       "      <th>28</th>\n",
       "      <td>Equatorial Guinea</td>\n",
       "      <td>GNQ</td>\n",
       "      <td>Oil</td>\n",
       "      <td>99</td>\n",
       "    </tr>\n",
       "    <tr>\n",
       "      <th>29</th>\n",
       "      <td>Ecuador</td>\n",
       "      <td>ECU</td>\n",
       "      <td>Oil</td>\n",
       "      <td>55</td>\n",
       "    </tr>\n",
       "    <tr>\n",
       "      <th>30</th>\n",
       "      <td>Albania</td>\n",
       "      <td>ALB</td>\n",
       "      <td>Oil/Gas</td>\n",
       "      <td>10</td>\n",
       "    </tr>\n",
       "    <tr>\n",
       "      <th>31</th>\n",
       "      <td>Algeria</td>\n",
       "      <td>DZA</td>\n",
       "      <td>Oil</td>\n",
       "      <td>98</td>\n",
       "    </tr>\n",
       "    <tr>\n",
       "      <th>32</th>\n",
       "      <td>South Africa</td>\n",
       "      <td>ZAF</td>\n",
       "      <td>Minerals</td>\n",
       "      <td>55</td>\n",
       "    </tr>\n",
       "    <tr>\n",
       "      <th>33</th>\n",
       "      <td>Iran</td>\n",
       "      <td>AZE</td>\n",
       "      <td>Oil</td>\n",
       "      <td>94</td>\n",
       "    </tr>\n",
       "    <tr>\n",
       "      <th>34</th>\n",
       "      <td>Peru</td>\n",
       "      <td>PER</td>\n",
       "      <td>Minerals</td>\n",
       "      <td>48</td>\n",
       "    </tr>\n",
       "    <tr>\n",
       "      <th>35</th>\n",
       "      <td>Brazil</td>\n",
       "      <td>BRA</td>\n",
       "      <td>Oil/Iron</td>\n",
       "      <td>26</td>\n",
       "    </tr>\n",
       "    <tr>\n",
       "      <th>36</th>\n",
       "      <td>Azerbaijan</td>\n",
       "      <td>AZE</td>\n",
       "      <td>Oil</td>\n",
       "      <td>94</td>\n",
       "    </tr>\n",
       "    <tr>\n",
       "      <th>37</th>\n",
       "      <td>Botswana</td>\n",
       "      <td>BWA</td>\n",
       "      <td>Diamonds</td>\n",
       "      <td>66</td>\n",
       "    </tr>\n",
       "    <tr>\n",
       "      <th>38</th>\n",
       "      <td>Kazakhstan</td>\n",
       "      <td>KAZ</td>\n",
       "      <td>Oil</td>\n",
       "      <td>60</td>\n",
       "    </tr>\n",
       "    <tr>\n",
       "      <th>39</th>\n",
       "      <td>Suriname</td>\n",
       "      <td>SUR</td>\n",
       "      <td>Minerals</td>\n",
       "      <td>11</td>\n",
       "    </tr>\n",
       "    <tr>\n",
       "      <th>40</th>\n",
       "      <td>Mexico</td>\n",
       "      <td>MEX</td>\n",
       "      <td>Oil</td>\n",
       "      <td>15</td>\n",
       "    </tr>\n",
       "    <tr>\n",
       "      <th>41</th>\n",
       "      <td>Russia</td>\n",
       "      <td>RUS</td>\n",
       "      <td>Oil/Minerals</td>\n",
       "      <td>61</td>\n",
       "    </tr>\n",
       "    <tr>\n",
       "      <th>42</th>\n",
       "      <td>Chile</td>\n",
       "      <td>CHL</td>\n",
       "      <td>Copper</td>\n",
       "      <td>53</td>\n",
       "    </tr>\n",
       "    <tr>\n",
       "      <th>43</th>\n",
       "      <td>Venezuela</td>\n",
       "      <td>VEN</td>\n",
       "      <td>Oil</td>\n",
       "      <td>93</td>\n",
       "    </tr>\n",
       "    <tr>\n",
       "      <th>44</th>\n",
       "      <td>Libya</td>\n",
       "      <td>LBY</td>\n",
       "      <td>Oil</td>\n",
       "      <td>97</td>\n",
       "    </tr>\n",
       "    <tr>\n",
       "      <th>45</th>\n",
       "      <td>Bahrain</td>\n",
       "      <td>BHR</td>\n",
       "      <td>Oil</td>\n",
       "      <td>96</td>\n",
       "    </tr>\n",
       "    <tr>\n",
       "      <th>46</th>\n",
       "      <td>Brunei Darussalam</td>\n",
       "      <td>BRN</td>\n",
       "      <td>Gas</td>\n",
       "      <td>87</td>\n",
       "    </tr>\n",
       "    <tr>\n",
       "      <th>47</th>\n",
       "      <td>Trinidad and Tobago</td>\n",
       "      <td>TTO</td>\n",
       "      <td>Gas</td>\n",
       "      <td>38</td>\n",
       "    </tr>\n",
       "    <tr>\n",
       "      <th>48</th>\n",
       "      <td>Saudi Arabia</td>\n",
       "      <td>SAU</td>\n",
       "      <td>Oil</td>\n",
       "      <td>87</td>\n",
       "    </tr>\n",
       "    <tr>\n",
       "      <th>49</th>\n",
       "      <td>Oman</td>\n",
       "      <td>OMN</td>\n",
       "      <td>Oil</td>\n",
       "      <td>73</td>\n",
       "    </tr>\n",
       "    <tr>\n",
       "      <th>50</th>\n",
       "      <td>United Arab Emirates</td>\n",
       "      <td>UAE</td>\n",
       "      <td>Oil</td>\n",
       "      <td>41</td>\n",
       "    </tr>\n",
       "    <tr>\n",
       "      <th>51</th>\n",
       "      <td>Qatar</td>\n",
       "      <td>QAT</td>\n",
       "      <td>Gas</td>\n",
       "      <td>88</td>\n",
       "    </tr>\n",
       "    <tr>\n",
       "      <th>52</th>\n",
       "      <td>Norway</td>\n",
       "      <td>NOR</td>\n",
       "      <td>Oil</td>\n",
       "      <td>62</td>\n",
       "    </tr>\n",
       "  </tbody>\n",
       "</table>\n",
       "</div>"
      ],
      "text/plain": [
       "            Country Name iso3c           Exports  NR_TE\n",
       "0        Congo, Dem. Rep   COD    Minerals & Oil     94\n",
       "1                Liberia   LBR     Gold/Iron Ore     35\n",
       "2                  Niger   NER  Gold/Oil/Uranium     79\n",
       "3                 Guinea   GIN   Mining Products     93\n",
       "4                   Mali   MLI              Gold     75\n",
       "5                   Chad   TCD               Oil     89\n",
       "6             Mauritania   MRT          Iron Ore     24\n",
       "7                Lao PDR   LAO     Copper & Gold     57\n",
       "8                 Zambia   ZMB            Copper     72\n",
       "9                Vietnam   VNM               Oil     14\n",
       "10                 Yemen   YEM               Oil     82\n",
       "11               Nigeria   NGA               Oil     97\n",
       "12              Cameroon   CMR               Oil     47\n",
       "13      Papua New Guinea   PNG   Oil/Copper/Gold     77\n",
       "14                 Sudan   SDN               Oil     97\n",
       "15            Uzbekistan   UZB          Gold/Gas     54\n",
       "16         Cote d'Ivoire   CIV          Oil/Gold     17\n",
       "17               Bolivia   BOL               Gas     74\n",
       "18              Mongolia   MNG            Copper     81\n",
       "19        Congo, Rep. of   COG               Oil     90\n",
       "20                  Iraq   IRQ               Oil     99\n",
       "21             Indonesia   IDN               Oil     10\n",
       "22           Timor Leste   TLS               Oil     99\n",
       "23  Syrian Arab Republic   SYR               Oil     36\n",
       "24                Guyana   GUY    Gold & Bauxite     42\n",
       "25          Turkmenistan   TKM               Oil     91\n",
       "26                Angola   AGO               Oil     95\n",
       "27                 Gabon   GAB               Oil     83\n",
       "28     Equatorial Guinea   GNQ               Oil     99\n",
       "29               Ecuador   ECU               Oil     55\n",
       "30               Albania   ALB           Oil/Gas     10\n",
       "31               Algeria   DZA               Oil     98\n",
       "32          South Africa   ZAF          Minerals     55\n",
       "33                  Iran   AZE               Oil     94\n",
       "34                  Peru   PER          Minerals     48\n",
       "35                Brazil   BRA          Oil/Iron     26\n",
       "36            Azerbaijan   AZE               Oil     94\n",
       "37              Botswana   BWA          Diamonds     66\n",
       "38            Kazakhstan   KAZ               Oil     60\n",
       "39              Suriname   SUR          Minerals     11\n",
       "40                Mexico   MEX               Oil     15\n",
       "41                Russia   RUS      Oil/Minerals     61\n",
       "42                 Chile   CHL            Copper     53\n",
       "43             Venezuela   VEN               Oil     93\n",
       "44                 Libya   LBY               Oil     97\n",
       "45               Bahrain   BHR               Oil     96\n",
       "46     Brunei Darussalam   BRN               Gas     87\n",
       "47   Trinidad and Tobago   TTO               Gas     38\n",
       "48          Saudi Arabia   SAU               Oil     87\n",
       "49                  Oman   OMN               Oil     73\n",
       "50  United Arab Emirates   UAE               Oil     41\n",
       "51                 Qatar   QAT               Gas     88\n",
       "52                Norway   NOR               Oil     62"
      ]
     },
     "execution_count": 66,
     "metadata": {},
     "output_type": "execute_result"
    }
   ],
   "source": [
    "cpd"
   ]
  },
  {
   "cell_type": "markdown",
   "id": "da41b216",
   "metadata": {},
   "source": [
    "<div class=\"alert alert-block alert-warning\">\n",
    "    <b>Compilation of Data</b> Combining the IMF and OEC data set with the WDI data"
   ]
  },
  {
   "cell_type": "code",
   "execution_count": 33,
   "id": "15aa3720",
   "metadata": {},
   "outputs": [],
   "source": [
    "# Paths\n",
    "pathout = './data/'\n",
    "\n",
    "if not os.path.exists(pathout):\n",
    "    os.mkdir(pathout)\n",
    "    \n",
    "pathgraphs = './graphs/'\n",
    "if not os.path.exists(pathgraphs):\n",
    "    os.mkdir(pathgraphs)"
   ]
  },
  {
   "cell_type": "code",
   "execution_count": 34,
   "id": "a30d7866",
   "metadata": {},
   "outputs": [],
   "source": [
    "currentYear = datetime.now().year\n",
    "year = min(2020, currentYear-2)"
   ]
  },
  {
   "cell_type": "code",
   "execution_count": 35,
   "id": "5d52040a",
   "metadata": {},
   "outputs": [],
   "source": [
    "wbcountries = wb.get_countries()\n",
    "wbcountries = wbcountries.loc[wbcountries.region.isin(['Aggregates'])==False].reset_index(drop=True)\n",
    "wbcountries['name'] = wbcountries.name.str.strip()\n",
    "wbcountries['incomeLevel'] = wbcountries['incomeLevel'].str.title()\n",
    "wbcountries.loc[wbcountries.iso3c=='VEN', 'incomeLevel'] = 'Upper Middle Income'"
   ]
  },
  {
   "cell_type": "code",
   "execution_count": 36,
   "id": "fdd35ca1",
   "metadata": {},
   "outputs": [],
   "source": [
    "wdi_indicators = ['NY.GDP.MKTP.KD.ZG', 'NY.GDP.PCAP.KD.ZG', 'NY.GDP.PETR.RT.ZS', 'NE.EXP.GNFS.ZS', 'NY.GDP.TOTL.RT.ZS', 'NY.GDP.PCAP.PP.KD', 'EP.PMP.SGAS.CD']"
   ]
  },
  {
   "cell_type": "code",
   "execution_count": 37,
   "id": "55ac32a7",
   "metadata": {},
   "outputs": [
    {
     "data": {
      "text/html": [
       "<div>\n",
       "<style scoped>\n",
       "    .dataframe tbody tr th:only-of-type {\n",
       "        vertical-align: middle;\n",
       "    }\n",
       "\n",
       "    .dataframe tbody tr th {\n",
       "        vertical-align: top;\n",
       "    }\n",
       "\n",
       "    .dataframe thead th {\n",
       "        text-align: right;\n",
       "    }\n",
       "</style>\n",
       "<table border=\"1\" class=\"dataframe\">\n",
       "  <thead>\n",
       "    <tr style=\"text-align: right;\">\n",
       "      <th></th>\n",
       "      <th>id</th>\n",
       "      <th>name</th>\n",
       "      <th>unit</th>\n",
       "      <th>source</th>\n",
       "      <th>sourceNote</th>\n",
       "      <th>sourceOrganization</th>\n",
       "      <th>topics</th>\n",
       "    </tr>\n",
       "  </thead>\n",
       "  <tbody>\n",
       "    <tr>\n",
       "      <th>24</th>\n",
       "      <td>1.1_ACCESS.ELECTRICITY.TOT</td>\n",
       "      <td>Access to electricity (% of total population)</td>\n",
       "      <td></td>\n",
       "      <td>Sustainable Energy for All</td>\n",
       "      <td>Access to electricity is the percentage of pop...</td>\n",
       "      <td>b'World Bank Global Electrification Database 2...</td>\n",
       "      <td></td>\n",
       "    </tr>\n",
       "    <tr>\n",
       "      <th>39</th>\n",
       "      <td>1.2_ACCESS.ELECTRICITY.RURAL</td>\n",
       "      <td>Access to electricity (% of rural population)</td>\n",
       "      <td></td>\n",
       "      <td>Sustainable Energy for All</td>\n",
       "      <td>Access to electricity is the percentage of rur...</td>\n",
       "      <td>b'World Bank Global Electrification Database 2...</td>\n",
       "      <td></td>\n",
       "    </tr>\n",
       "    <tr>\n",
       "      <th>40</th>\n",
       "      <td>1.3_ACCESS.ELECTRICITY.URBAN</td>\n",
       "      <td>Access to electricity (% of urban population)</td>\n",
       "      <td></td>\n",
       "      <td>Sustainable Energy for All</td>\n",
       "      <td>Access to electricity is the percentage of tot...</td>\n",
       "      <td>b'World Bank Global Electrification Database 2...</td>\n",
       "      <td></td>\n",
       "    </tr>\n",
       "    <tr>\n",
       "      <th>164</th>\n",
       "      <td>2.1_ACCESS.CFT.TOT</td>\n",
       "      <td>Access to Clean Fuels and Technologies for coo...</td>\n",
       "      <td></td>\n",
       "      <td>Sustainable Energy for All</td>\n",
       "      <td></td>\n",
       "      <td>b''</td>\n",
       "      <td></td>\n",
       "    </tr>\n",
       "    <tr>\n",
       "      <th>195</th>\n",
       "      <td>3.11.01.01.popcen</td>\n",
       "      <td>Population census</td>\n",
       "      <td></td>\n",
       "      <td>Statistical Capacity Indicators</td>\n",
       "      <td>Population censuses collect data on the size, ...</td>\n",
       "      <td>b'World Bank Microdata library. Original sourc...</td>\n",
       "      <td></td>\n",
       "    </tr>\n",
       "  </tbody>\n",
       "</table>\n",
       "</div>"
      ],
      "text/plain": [
       "                               id  \\\n",
       "24     1.1_ACCESS.ELECTRICITY.TOT   \n",
       "39   1.2_ACCESS.ELECTRICITY.RURAL   \n",
       "40   1.3_ACCESS.ELECTRICITY.URBAN   \n",
       "164            2.1_ACCESS.CFT.TOT   \n",
       "195             3.11.01.01.popcen   \n",
       "\n",
       "                                                  name unit  \\\n",
       "24       Access to electricity (% of total population)        \n",
       "39       Access to electricity (% of rural population)        \n",
       "40       Access to electricity (% of urban population)        \n",
       "164  Access to Clean Fuels and Technologies for coo...        \n",
       "195                                  Population census        \n",
       "\n",
       "                              source  \\\n",
       "24        Sustainable Energy for All   \n",
       "39        Sustainable Energy for All   \n",
       "40        Sustainable Energy for All   \n",
       "164       Sustainable Energy for All   \n",
       "195  Statistical Capacity Indicators   \n",
       "\n",
       "                                            sourceNote  \\\n",
       "24   Access to electricity is the percentage of pop...   \n",
       "39   Access to electricity is the percentage of rur...   \n",
       "40   Access to electricity is the percentage of tot...   \n",
       "164                                                      \n",
       "195  Population censuses collect data on the size, ...   \n",
       "\n",
       "                                    sourceOrganization topics  \n",
       "24   b'World Bank Global Electrification Database 2...         \n",
       "39   b'World Bank Global Electrification Database 2...         \n",
       "40   b'World Bank Global Electrification Database 2...         \n",
       "164                                                b''         \n",
       "195  b'World Bank Microdata library. Original sourc...         "
      ]
     },
     "execution_count": 37,
     "metadata": {},
     "output_type": "execute_result"
    }
   ],
   "source": [
    "pop_vars = wb.search(string='population')\n",
    "pop_vars.head()"
   ]
  },
  {
   "cell_type": "code",
   "execution_count": 67,
   "id": "80941028",
   "metadata": {},
   "outputs": [
    {
     "name": "stderr",
     "output_type": "stream",
     "text": [
      "C:\\Users\\skand\\anaconda3\\envs\\EconGrowthUG-Builds-Windows-pip\\lib\\site-packages\\pandas_datareader\\wb.py:592: UserWarning:\n",
      "\n",
      "Non-standard ISO country codes: JG, XK\n",
      "\n"
     ]
    },
    {
     "data": {
      "text/html": [
       "<div>\n",
       "<style scoped>\n",
       "    .dataframe tbody tr th:only-of-type {\n",
       "        vertical-align: middle;\n",
       "    }\n",
       "\n",
       "    .dataframe tbody tr th {\n",
       "        vertical-align: top;\n",
       "    }\n",
       "\n",
       "    .dataframe thead th {\n",
       "        text-align: right;\n",
       "    }\n",
       "</style>\n",
       "<table border=\"1\" class=\"dataframe\">\n",
       "  <thead>\n",
       "    <tr style=\"text-align: right;\">\n",
       "      <th></th>\n",
       "      <th>country</th>\n",
       "      <th>year</th>\n",
       "      <th>NY.GDP.MKTP.KD.ZG</th>\n",
       "      <th>NY.GDP.PCAP.KD.ZG</th>\n",
       "      <th>NY.GDP.PETR.RT.ZS</th>\n",
       "      <th>NE.EXP.GNFS.ZS</th>\n",
       "      <th>NY.GDP.TOTL.RT.ZS</th>\n",
       "      <th>NY.GDP.PCAP.PP.KD</th>\n",
       "      <th>EP.PMP.SGAS.CD</th>\n",
       "      <th>gdp_pc</th>\n",
       "      <th>GDP_grow</th>\n",
       "      <th>GDPPC_grow</th>\n",
       "      <th>OR</th>\n",
       "      <th>NRR</th>\n",
       "      <th>Exports%</th>\n",
       "      <th>POil</th>\n",
       "    </tr>\n",
       "  </thead>\n",
       "  <tbody>\n",
       "    <tr>\n",
       "      <th>0</th>\n",
       "      <td>Aruba</td>\n",
       "      <td>2020</td>\n",
       "      <td>-22.318948</td>\n",
       "      <td>-22.650725</td>\n",
       "      <td>NaN</td>\n",
       "      <td>56.545088</td>\n",
       "      <td>NaN</td>\n",
       "      <td>29563.756955</td>\n",
       "      <td>NaN</td>\n",
       "      <td>29563.756955</td>\n",
       "      <td>-22.318948</td>\n",
       "      <td>-22.650725</td>\n",
       "      <td>NaN</td>\n",
       "      <td>NaN</td>\n",
       "      <td>56.545088</td>\n",
       "      <td>NaN</td>\n",
       "    </tr>\n",
       "    <tr>\n",
       "      <th>1</th>\n",
       "      <td>Aruba</td>\n",
       "      <td>2019</td>\n",
       "      <td>-2.085600</td>\n",
       "      <td>-2.512957</td>\n",
       "      <td>NaN</td>\n",
       "      <td>74.582278</td>\n",
       "      <td>NaN</td>\n",
       "      <td>38221.117314</td>\n",
       "      <td>NaN</td>\n",
       "      <td>38221.117314</td>\n",
       "      <td>-2.085600</td>\n",
       "      <td>-2.512957</td>\n",
       "      <td>NaN</td>\n",
       "      <td>NaN</td>\n",
       "      <td>74.582278</td>\n",
       "      <td>NaN</td>\n",
       "    </tr>\n",
       "    <tr>\n",
       "      <th>2</th>\n",
       "      <td>Aruba</td>\n",
       "      <td>2018</td>\n",
       "      <td>1.267218</td>\n",
       "      <td>0.803198</td>\n",
       "      <td>0.0</td>\n",
       "      <td>73.796232</td>\n",
       "      <td>0.001875</td>\n",
       "      <td>39206.356147</td>\n",
       "      <td>NaN</td>\n",
       "      <td>39206.356147</td>\n",
       "      <td>1.267218</td>\n",
       "      <td>0.803198</td>\n",
       "      <td>0.0</td>\n",
       "      <td>0.001875</td>\n",
       "      <td>73.796232</td>\n",
       "      <td>NaN</td>\n",
       "    </tr>\n",
       "    <tr>\n",
       "      <th>3</th>\n",
       "      <td>Aruba</td>\n",
       "      <td>2017</td>\n",
       "      <td>5.482371</td>\n",
       "      <td>4.985800</td>\n",
       "      <td>0.0</td>\n",
       "      <td>72.556459</td>\n",
       "      <td>0.002827</td>\n",
       "      <td>38893.960556</td>\n",
       "      <td>NaN</td>\n",
       "      <td>38893.960556</td>\n",
       "      <td>5.482371</td>\n",
       "      <td>4.985800</td>\n",
       "      <td>0.0</td>\n",
       "      <td>0.002827</td>\n",
       "      <td>72.556459</td>\n",
       "      <td>NaN</td>\n",
       "    </tr>\n",
       "    <tr>\n",
       "      <th>4</th>\n",
       "      <td>Aruba</td>\n",
       "      <td>2016</td>\n",
       "      <td>2.116716</td>\n",
       "      <td>1.604501</td>\n",
       "      <td>0.0</td>\n",
       "      <td>71.821756</td>\n",
       "      <td>0.003344</td>\n",
       "      <td>37046.877414</td>\n",
       "      <td>NaN</td>\n",
       "      <td>37046.877414</td>\n",
       "      <td>2.116716</td>\n",
       "      <td>1.604501</td>\n",
       "      <td>0.0</td>\n",
       "      <td>0.003344</td>\n",
       "      <td>71.821756</td>\n",
       "      <td>NaN</td>\n",
       "    </tr>\n",
       "    <tr>\n",
       "      <th>...</th>\n",
       "      <td>...</td>\n",
       "      <td>...</td>\n",
       "      <td>...</td>\n",
       "      <td>...</td>\n",
       "      <td>...</td>\n",
       "      <td>...</td>\n",
       "      <td>...</td>\n",
       "      <td>...</td>\n",
       "      <td>...</td>\n",
       "      <td>...</td>\n",
       "      <td>...</td>\n",
       "      <td>...</td>\n",
       "      <td>...</td>\n",
       "      <td>...</td>\n",
       "      <td>...</td>\n",
       "      <td>...</td>\n",
       "    </tr>\n",
       "    <tr>\n",
       "      <th>13232</th>\n",
       "      <td>Zimbabwe</td>\n",
       "      <td>1964</td>\n",
       "      <td>-1.106172</td>\n",
       "      <td>-4.403385</td>\n",
       "      <td>NaN</td>\n",
       "      <td>NaN</td>\n",
       "      <td>NaN</td>\n",
       "      <td>NaN</td>\n",
       "      <td>NaN</td>\n",
       "      <td>NaN</td>\n",
       "      <td>-1.106172</td>\n",
       "      <td>-4.403385</td>\n",
       "      <td>NaN</td>\n",
       "      <td>NaN</td>\n",
       "      <td>NaN</td>\n",
       "      <td>NaN</td>\n",
       "    </tr>\n",
       "    <tr>\n",
       "      <th>13233</th>\n",
       "      <td>Zimbabwe</td>\n",
       "      <td>1963</td>\n",
       "      <td>6.244345</td>\n",
       "      <td>2.697117</td>\n",
       "      <td>NaN</td>\n",
       "      <td>NaN</td>\n",
       "      <td>NaN</td>\n",
       "      <td>NaN</td>\n",
       "      <td>NaN</td>\n",
       "      <td>NaN</td>\n",
       "      <td>6.244345</td>\n",
       "      <td>2.697117</td>\n",
       "      <td>NaN</td>\n",
       "      <td>NaN</td>\n",
       "      <td>NaN</td>\n",
       "      <td>NaN</td>\n",
       "    </tr>\n",
       "    <tr>\n",
       "      <th>13234</th>\n",
       "      <td>Zimbabwe</td>\n",
       "      <td>1962</td>\n",
       "      <td>1.434471</td>\n",
       "      <td>-1.934893</td>\n",
       "      <td>NaN</td>\n",
       "      <td>NaN</td>\n",
       "      <td>NaN</td>\n",
       "      <td>NaN</td>\n",
       "      <td>NaN</td>\n",
       "      <td>NaN</td>\n",
       "      <td>1.434471</td>\n",
       "      <td>-1.934893</td>\n",
       "      <td>NaN</td>\n",
       "      <td>NaN</td>\n",
       "      <td>NaN</td>\n",
       "      <td>NaN</td>\n",
       "    </tr>\n",
       "    <tr>\n",
       "      <th>13235</th>\n",
       "      <td>Zimbabwe</td>\n",
       "      <td>1961</td>\n",
       "      <td>6.316157</td>\n",
       "      <td>2.821534</td>\n",
       "      <td>NaN</td>\n",
       "      <td>NaN</td>\n",
       "      <td>NaN</td>\n",
       "      <td>NaN</td>\n",
       "      <td>NaN</td>\n",
       "      <td>NaN</td>\n",
       "      <td>6.316157</td>\n",
       "      <td>2.821534</td>\n",
       "      <td>NaN</td>\n",
       "      <td>NaN</td>\n",
       "      <td>NaN</td>\n",
       "      <td>NaN</td>\n",
       "    </tr>\n",
       "    <tr>\n",
       "      <th>13236</th>\n",
       "      <td>Zimbabwe</td>\n",
       "      <td>1960</td>\n",
       "      <td>NaN</td>\n",
       "      <td>NaN</td>\n",
       "      <td>NaN</td>\n",
       "      <td>NaN</td>\n",
       "      <td>NaN</td>\n",
       "      <td>NaN</td>\n",
       "      <td>NaN</td>\n",
       "      <td>NaN</td>\n",
       "      <td>NaN</td>\n",
       "      <td>NaN</td>\n",
       "      <td>NaN</td>\n",
       "      <td>NaN</td>\n",
       "      <td>NaN</td>\n",
       "      <td>NaN</td>\n",
       "    </tr>\n",
       "  </tbody>\n",
       "</table>\n",
       "<p>13237 rows × 16 columns</p>\n",
       "</div>"
      ],
      "text/plain": [
       "        country  year  NY.GDP.MKTP.KD.ZG  NY.GDP.PCAP.KD.ZG  \\\n",
       "0         Aruba  2020         -22.318948         -22.650725   \n",
       "1         Aruba  2019          -2.085600          -2.512957   \n",
       "2         Aruba  2018           1.267218           0.803198   \n",
       "3         Aruba  2017           5.482371           4.985800   \n",
       "4         Aruba  2016           2.116716           1.604501   \n",
       "...         ...   ...                ...                ...   \n",
       "13232  Zimbabwe  1964          -1.106172          -4.403385   \n",
       "13233  Zimbabwe  1963           6.244345           2.697117   \n",
       "13234  Zimbabwe  1962           1.434471          -1.934893   \n",
       "13235  Zimbabwe  1961           6.316157           2.821534   \n",
       "13236  Zimbabwe  1960                NaN                NaN   \n",
       "\n",
       "       NY.GDP.PETR.RT.ZS  NE.EXP.GNFS.ZS  NY.GDP.TOTL.RT.ZS  \\\n",
       "0                    NaN       56.545088                NaN   \n",
       "1                    NaN       74.582278                NaN   \n",
       "2                    0.0       73.796232           0.001875   \n",
       "3                    0.0       72.556459           0.002827   \n",
       "4                    0.0       71.821756           0.003344   \n",
       "...                  ...             ...                ...   \n",
       "13232                NaN             NaN                NaN   \n",
       "13233                NaN             NaN                NaN   \n",
       "13234                NaN             NaN                NaN   \n",
       "13235                NaN             NaN                NaN   \n",
       "13236                NaN             NaN                NaN   \n",
       "\n",
       "       NY.GDP.PCAP.PP.KD  EP.PMP.SGAS.CD        gdp_pc   GDP_grow  GDPPC_grow  \\\n",
       "0           29563.756955             NaN  29563.756955 -22.318948  -22.650725   \n",
       "1           38221.117314             NaN  38221.117314  -2.085600   -2.512957   \n",
       "2           39206.356147             NaN  39206.356147   1.267218    0.803198   \n",
       "3           38893.960556             NaN  38893.960556   5.482371    4.985800   \n",
       "4           37046.877414             NaN  37046.877414   2.116716    1.604501   \n",
       "...                  ...             ...           ...        ...         ...   \n",
       "13232                NaN             NaN           NaN  -1.106172   -4.403385   \n",
       "13233                NaN             NaN           NaN   6.244345    2.697117   \n",
       "13234                NaN             NaN           NaN   1.434471   -1.934893   \n",
       "13235                NaN             NaN           NaN   6.316157    2.821534   \n",
       "13236                NaN             NaN           NaN        NaN         NaN   \n",
       "\n",
       "        OR       NRR   Exports%  POil  \n",
       "0      NaN       NaN  56.545088   NaN  \n",
       "1      NaN       NaN  74.582278   NaN  \n",
       "2      0.0  0.001875  73.796232   NaN  \n",
       "3      0.0  0.002827  72.556459   NaN  \n",
       "4      0.0  0.003344  71.821756   NaN  \n",
       "...    ...       ...        ...   ...  \n",
       "13232  NaN       NaN        NaN   NaN  \n",
       "13233  NaN       NaN        NaN   NaN  \n",
       "13234  NaN       NaN        NaN   NaN  \n",
       "13235  NaN       NaN        NaN   NaN  \n",
       "13236  NaN       NaN        NaN   NaN  \n",
       "\n",
       "[13237 rows x 16 columns]"
      ]
     },
     "execution_count": 67,
     "metadata": {},
     "output_type": "execute_result"
    }
   ],
   "source": [
    "wdi = wb.download(indicator=wdi_indicators, country=wbcountries.iso2c.values, start=1950, end=year)\n",
    "wdi = wdi.reset_index()\n",
    "wdi['year'] = wdi.year.astype(int)\n",
    "#GDP Per Capita\n",
    "wdi['gdp_pc'] = wdi['NY.GDP.PCAP.PP.KD']\n",
    "#GDP growth annually\n",
    "wdi['GDP_grow'] = wdi['NY.GDP.MKTP.KD.ZG']\n",
    "#GPD Per Capita growth annually\n",
    "wdi['GDPPC_grow'] = wdi['NY.GDP.PCAP.KD.ZG']\n",
    "#Oil Rents as a percentage of GDP\n",
    "wdi['OR'] = wdi['NY.GDP.PETR.RT.ZS']\n",
    "#Natural resource rents as a percentage of GDP\n",
    "wdi['NRR'] = wdi['NY.GDP.TOTL.RT.ZS']\n",
    "#Exports as a percentage of GDP\n",
    "wdi['Exports%'] = wdi['NE.EXP.GNFS.ZS']\n",
    "#Price of oil \n",
    "wdi['POil'] = wdi['EP.PMP.SGAS.CD']\n",
    "\n",
    "wdi"
   ]
  },
  {
   "cell_type": "code",
   "execution_count": 39,
   "id": "76e997d6",
   "metadata": {},
   "outputs": [
    {
     "data": {
      "text/html": [
       "<div>\n",
       "<style scoped>\n",
       "    .dataframe tbody tr th:only-of-type {\n",
       "        vertical-align: middle;\n",
       "    }\n",
       "\n",
       "    .dataframe tbody tr th {\n",
       "        vertical-align: top;\n",
       "    }\n",
       "\n",
       "    .dataframe thead th {\n",
       "        text-align: right;\n",
       "    }\n",
       "</style>\n",
       "<table border=\"1\" class=\"dataframe\">\n",
       "  <thead>\n",
       "    <tr style=\"text-align: right;\">\n",
       "      <th></th>\n",
       "      <th>iso3c</th>\n",
       "      <th>iso2c</th>\n",
       "      <th>name</th>\n",
       "      <th>region</th>\n",
       "      <th>adminregion</th>\n",
       "      <th>incomeLevel</th>\n",
       "      <th>lendingType</th>\n",
       "      <th>capitalCity</th>\n",
       "      <th>longitude</th>\n",
       "      <th>latitude</th>\n",
       "      <th>...</th>\n",
       "      <th>NY.GDP.TOTL.RT.ZS</th>\n",
       "      <th>NY.GDP.PCAP.PP.KD</th>\n",
       "      <th>EP.PMP.SGAS.CD</th>\n",
       "      <th>gdp_pc</th>\n",
       "      <th>GDP_grow</th>\n",
       "      <th>GDPPC_grow</th>\n",
       "      <th>OR</th>\n",
       "      <th>NRR</th>\n",
       "      <th>Exports%</th>\n",
       "      <th>POil</th>\n",
       "    </tr>\n",
       "  </thead>\n",
       "  <tbody>\n",
       "    <tr>\n",
       "      <th>0</th>\n",
       "      <td>ABW</td>\n",
       "      <td>AW</td>\n",
       "      <td>Aruba</td>\n",
       "      <td>Latin America &amp; Caribbean</td>\n",
       "      <td></td>\n",
       "      <td>High Income</td>\n",
       "      <td>Not classified</td>\n",
       "      <td>Oranjestad</td>\n",
       "      <td>-70.0167</td>\n",
       "      <td>12.5167</td>\n",
       "      <td>...</td>\n",
       "      <td>NaN</td>\n",
       "      <td>29563.756955</td>\n",
       "      <td>NaN</td>\n",
       "      <td>29563.756955</td>\n",
       "      <td>-22.318948</td>\n",
       "      <td>-22.650725</td>\n",
       "      <td>NaN</td>\n",
       "      <td>NaN</td>\n",
       "      <td>56.545088</td>\n",
       "      <td>NaN</td>\n",
       "    </tr>\n",
       "    <tr>\n",
       "      <th>1</th>\n",
       "      <td>ABW</td>\n",
       "      <td>AW</td>\n",
       "      <td>Aruba</td>\n",
       "      <td>Latin America &amp; Caribbean</td>\n",
       "      <td></td>\n",
       "      <td>High Income</td>\n",
       "      <td>Not classified</td>\n",
       "      <td>Oranjestad</td>\n",
       "      <td>-70.0167</td>\n",
       "      <td>12.5167</td>\n",
       "      <td>...</td>\n",
       "      <td>NaN</td>\n",
       "      <td>38221.117314</td>\n",
       "      <td>NaN</td>\n",
       "      <td>38221.117314</td>\n",
       "      <td>-2.085600</td>\n",
       "      <td>-2.512957</td>\n",
       "      <td>NaN</td>\n",
       "      <td>NaN</td>\n",
       "      <td>74.582278</td>\n",
       "      <td>NaN</td>\n",
       "    </tr>\n",
       "    <tr>\n",
       "      <th>2</th>\n",
       "      <td>ABW</td>\n",
       "      <td>AW</td>\n",
       "      <td>Aruba</td>\n",
       "      <td>Latin America &amp; Caribbean</td>\n",
       "      <td></td>\n",
       "      <td>High Income</td>\n",
       "      <td>Not classified</td>\n",
       "      <td>Oranjestad</td>\n",
       "      <td>-70.0167</td>\n",
       "      <td>12.5167</td>\n",
       "      <td>...</td>\n",
       "      <td>0.001875</td>\n",
       "      <td>39206.356147</td>\n",
       "      <td>NaN</td>\n",
       "      <td>39206.356147</td>\n",
       "      <td>1.267218</td>\n",
       "      <td>0.803198</td>\n",
       "      <td>0.0</td>\n",
       "      <td>0.001875</td>\n",
       "      <td>73.796232</td>\n",
       "      <td>NaN</td>\n",
       "    </tr>\n",
       "    <tr>\n",
       "      <th>3</th>\n",
       "      <td>ABW</td>\n",
       "      <td>AW</td>\n",
       "      <td>Aruba</td>\n",
       "      <td>Latin America &amp; Caribbean</td>\n",
       "      <td></td>\n",
       "      <td>High Income</td>\n",
       "      <td>Not classified</td>\n",
       "      <td>Oranjestad</td>\n",
       "      <td>-70.0167</td>\n",
       "      <td>12.5167</td>\n",
       "      <td>...</td>\n",
       "      <td>0.002827</td>\n",
       "      <td>38893.960556</td>\n",
       "      <td>NaN</td>\n",
       "      <td>38893.960556</td>\n",
       "      <td>5.482371</td>\n",
       "      <td>4.985800</td>\n",
       "      <td>0.0</td>\n",
       "      <td>0.002827</td>\n",
       "      <td>72.556459</td>\n",
       "      <td>NaN</td>\n",
       "    </tr>\n",
       "    <tr>\n",
       "      <th>4</th>\n",
       "      <td>ABW</td>\n",
       "      <td>AW</td>\n",
       "      <td>Aruba</td>\n",
       "      <td>Latin America &amp; Caribbean</td>\n",
       "      <td></td>\n",
       "      <td>High Income</td>\n",
       "      <td>Not classified</td>\n",
       "      <td>Oranjestad</td>\n",
       "      <td>-70.0167</td>\n",
       "      <td>12.5167</td>\n",
       "      <td>...</td>\n",
       "      <td>0.003344</td>\n",
       "      <td>37046.877414</td>\n",
       "      <td>NaN</td>\n",
       "      <td>37046.877414</td>\n",
       "      <td>2.116716</td>\n",
       "      <td>1.604501</td>\n",
       "      <td>0.0</td>\n",
       "      <td>0.003344</td>\n",
       "      <td>71.821756</td>\n",
       "      <td>NaN</td>\n",
       "    </tr>\n",
       "    <tr>\n",
       "      <th>...</th>\n",
       "      <td>...</td>\n",
       "      <td>...</td>\n",
       "      <td>...</td>\n",
       "      <td>...</td>\n",
       "      <td>...</td>\n",
       "      <td>...</td>\n",
       "      <td>...</td>\n",
       "      <td>...</td>\n",
       "      <td>...</td>\n",
       "      <td>...</td>\n",
       "      <td>...</td>\n",
       "      <td>...</td>\n",
       "      <td>...</td>\n",
       "      <td>...</td>\n",
       "      <td>...</td>\n",
       "      <td>...</td>\n",
       "      <td>...</td>\n",
       "      <td>...</td>\n",
       "      <td>...</td>\n",
       "      <td>...</td>\n",
       "      <td>...</td>\n",
       "    </tr>\n",
       "    <tr>\n",
       "      <th>13232</th>\n",
       "      <td>ZWE</td>\n",
       "      <td>ZW</td>\n",
       "      <td>Zimbabwe</td>\n",
       "      <td>Sub-Saharan Africa</td>\n",
       "      <td>Sub-Saharan Africa (excluding high income)</td>\n",
       "      <td>Lower Middle Income</td>\n",
       "      <td>Blend</td>\n",
       "      <td>Harare</td>\n",
       "      <td>31.0672</td>\n",
       "      <td>-17.8312</td>\n",
       "      <td>...</td>\n",
       "      <td>NaN</td>\n",
       "      <td>NaN</td>\n",
       "      <td>NaN</td>\n",
       "      <td>NaN</td>\n",
       "      <td>-1.106172</td>\n",
       "      <td>-4.403385</td>\n",
       "      <td>NaN</td>\n",
       "      <td>NaN</td>\n",
       "      <td>NaN</td>\n",
       "      <td>NaN</td>\n",
       "    </tr>\n",
       "    <tr>\n",
       "      <th>13233</th>\n",
       "      <td>ZWE</td>\n",
       "      <td>ZW</td>\n",
       "      <td>Zimbabwe</td>\n",
       "      <td>Sub-Saharan Africa</td>\n",
       "      <td>Sub-Saharan Africa (excluding high income)</td>\n",
       "      <td>Lower Middle Income</td>\n",
       "      <td>Blend</td>\n",
       "      <td>Harare</td>\n",
       "      <td>31.0672</td>\n",
       "      <td>-17.8312</td>\n",
       "      <td>...</td>\n",
       "      <td>NaN</td>\n",
       "      <td>NaN</td>\n",
       "      <td>NaN</td>\n",
       "      <td>NaN</td>\n",
       "      <td>6.244345</td>\n",
       "      <td>2.697117</td>\n",
       "      <td>NaN</td>\n",
       "      <td>NaN</td>\n",
       "      <td>NaN</td>\n",
       "      <td>NaN</td>\n",
       "    </tr>\n",
       "    <tr>\n",
       "      <th>13234</th>\n",
       "      <td>ZWE</td>\n",
       "      <td>ZW</td>\n",
       "      <td>Zimbabwe</td>\n",
       "      <td>Sub-Saharan Africa</td>\n",
       "      <td>Sub-Saharan Africa (excluding high income)</td>\n",
       "      <td>Lower Middle Income</td>\n",
       "      <td>Blend</td>\n",
       "      <td>Harare</td>\n",
       "      <td>31.0672</td>\n",
       "      <td>-17.8312</td>\n",
       "      <td>...</td>\n",
       "      <td>NaN</td>\n",
       "      <td>NaN</td>\n",
       "      <td>NaN</td>\n",
       "      <td>NaN</td>\n",
       "      <td>1.434471</td>\n",
       "      <td>-1.934893</td>\n",
       "      <td>NaN</td>\n",
       "      <td>NaN</td>\n",
       "      <td>NaN</td>\n",
       "      <td>NaN</td>\n",
       "    </tr>\n",
       "    <tr>\n",
       "      <th>13235</th>\n",
       "      <td>ZWE</td>\n",
       "      <td>ZW</td>\n",
       "      <td>Zimbabwe</td>\n",
       "      <td>Sub-Saharan Africa</td>\n",
       "      <td>Sub-Saharan Africa (excluding high income)</td>\n",
       "      <td>Lower Middle Income</td>\n",
       "      <td>Blend</td>\n",
       "      <td>Harare</td>\n",
       "      <td>31.0672</td>\n",
       "      <td>-17.8312</td>\n",
       "      <td>...</td>\n",
       "      <td>NaN</td>\n",
       "      <td>NaN</td>\n",
       "      <td>NaN</td>\n",
       "      <td>NaN</td>\n",
       "      <td>6.316157</td>\n",
       "      <td>2.821534</td>\n",
       "      <td>NaN</td>\n",
       "      <td>NaN</td>\n",
       "      <td>NaN</td>\n",
       "      <td>NaN</td>\n",
       "    </tr>\n",
       "    <tr>\n",
       "      <th>13236</th>\n",
       "      <td>ZWE</td>\n",
       "      <td>ZW</td>\n",
       "      <td>Zimbabwe</td>\n",
       "      <td>Sub-Saharan Africa</td>\n",
       "      <td>Sub-Saharan Africa (excluding high income)</td>\n",
       "      <td>Lower Middle Income</td>\n",
       "      <td>Blend</td>\n",
       "      <td>Harare</td>\n",
       "      <td>31.0672</td>\n",
       "      <td>-17.8312</td>\n",
       "      <td>...</td>\n",
       "      <td>NaN</td>\n",
       "      <td>NaN</td>\n",
       "      <td>NaN</td>\n",
       "      <td>NaN</td>\n",
       "      <td>NaN</td>\n",
       "      <td>NaN</td>\n",
       "      <td>NaN</td>\n",
       "      <td>NaN</td>\n",
       "      <td>NaN</td>\n",
       "      <td>NaN</td>\n",
       "    </tr>\n",
       "  </tbody>\n",
       "</table>\n",
       "<p>13237 rows × 26 columns</p>\n",
       "</div>"
      ],
      "text/plain": [
       "      iso3c iso2c      name                      region  \\\n",
       "0       ABW    AW     Aruba  Latin America & Caribbean    \n",
       "1       ABW    AW     Aruba  Latin America & Caribbean    \n",
       "2       ABW    AW     Aruba  Latin America & Caribbean    \n",
       "3       ABW    AW     Aruba  Latin America & Caribbean    \n",
       "4       ABW    AW     Aruba  Latin America & Caribbean    \n",
       "...     ...   ...       ...                         ...   \n",
       "13232   ZWE    ZW  Zimbabwe         Sub-Saharan Africa    \n",
       "13233   ZWE    ZW  Zimbabwe         Sub-Saharan Africa    \n",
       "13234   ZWE    ZW  Zimbabwe         Sub-Saharan Africa    \n",
       "13235   ZWE    ZW  Zimbabwe         Sub-Saharan Africa    \n",
       "13236   ZWE    ZW  Zimbabwe         Sub-Saharan Africa    \n",
       "\n",
       "                                      adminregion          incomeLevel  \\\n",
       "0                                                          High Income   \n",
       "1                                                          High Income   \n",
       "2                                                          High Income   \n",
       "3                                                          High Income   \n",
       "4                                                          High Income   \n",
       "...                                           ...                  ...   \n",
       "13232  Sub-Saharan Africa (excluding high income)  Lower Middle Income   \n",
       "13233  Sub-Saharan Africa (excluding high income)  Lower Middle Income   \n",
       "13234  Sub-Saharan Africa (excluding high income)  Lower Middle Income   \n",
       "13235  Sub-Saharan Africa (excluding high income)  Lower Middle Income   \n",
       "13236  Sub-Saharan Africa (excluding high income)  Lower Middle Income   \n",
       "\n",
       "          lendingType capitalCity  longitude  latitude  ... NY.GDP.TOTL.RT.ZS  \\\n",
       "0      Not classified  Oranjestad   -70.0167   12.5167  ...               NaN   \n",
       "1      Not classified  Oranjestad   -70.0167   12.5167  ...               NaN   \n",
       "2      Not classified  Oranjestad   -70.0167   12.5167  ...          0.001875   \n",
       "3      Not classified  Oranjestad   -70.0167   12.5167  ...          0.002827   \n",
       "4      Not classified  Oranjestad   -70.0167   12.5167  ...          0.003344   \n",
       "...               ...         ...        ...       ...  ...               ...   \n",
       "13232           Blend      Harare    31.0672  -17.8312  ...               NaN   \n",
       "13233           Blend      Harare    31.0672  -17.8312  ...               NaN   \n",
       "13234           Blend      Harare    31.0672  -17.8312  ...               NaN   \n",
       "13235           Blend      Harare    31.0672  -17.8312  ...               NaN   \n",
       "13236           Blend      Harare    31.0672  -17.8312  ...               NaN   \n",
       "\n",
       "       NY.GDP.PCAP.PP.KD  EP.PMP.SGAS.CD        gdp_pc   GDP_grow  GDPPC_grow  \\\n",
       "0           29563.756955             NaN  29563.756955 -22.318948  -22.650725   \n",
       "1           38221.117314             NaN  38221.117314  -2.085600   -2.512957   \n",
       "2           39206.356147             NaN  39206.356147   1.267218    0.803198   \n",
       "3           38893.960556             NaN  38893.960556   5.482371    4.985800   \n",
       "4           37046.877414             NaN  37046.877414   2.116716    1.604501   \n",
       "...                  ...             ...           ...        ...         ...   \n",
       "13232                NaN             NaN           NaN  -1.106172   -4.403385   \n",
       "13233                NaN             NaN           NaN   6.244345    2.697117   \n",
       "13234                NaN             NaN           NaN   1.434471   -1.934893   \n",
       "13235                NaN             NaN           NaN   6.316157    2.821534   \n",
       "13236                NaN             NaN           NaN        NaN         NaN   \n",
       "\n",
       "        OR       NRR   Exports%  POil  \n",
       "0      NaN       NaN  56.545088   NaN  \n",
       "1      NaN       NaN  74.582278   NaN  \n",
       "2      0.0  0.001875  73.796232   NaN  \n",
       "3      0.0  0.002827  72.556459   NaN  \n",
       "4      0.0  0.003344  71.821756   NaN  \n",
       "...    ...       ...        ...   ...  \n",
       "13232  NaN       NaN        NaN   NaN  \n",
       "13233  NaN       NaN        NaN   NaN  \n",
       "13234  NaN       NaN        NaN   NaN  \n",
       "13235  NaN       NaN        NaN   NaN  \n",
       "13236  NaN       NaN        NaN   NaN  \n",
       "\n",
       "[13237 rows x 26 columns]"
      ]
     },
     "execution_count": 39,
     "metadata": {},
     "output_type": "execute_result"
    }
   ],
   "source": [
    "wdi = wbcountries.merge(wdi, left_on='name', right_on='country')\n",
    "wdi"
   ]
  },
  {
   "cell_type": "code",
   "execution_count": 40,
   "id": "5494a29d",
   "metadata": {},
   "outputs": [],
   "source": [
    "# merging data to create one complete data set\n",
    "compdat = cpd.merge(wdi, how=\"inner\", on=[\"iso3c\"])\n",
    "compdat = compdat.drop(['iso2c', 'adminregion', 'NY.GDP.MKTP.KD.ZG',\n",
    "                        'NY.GDP.PCAP.KD.ZG', 'NY.GDP.PETR.RT.ZS', 'NE.EXP.GNFS.ZS', 'NY.GDP.TOTL.RT.ZS', \n",
    "                        'latitude', 'longitude', 'name', 'capitalCity', 'lendingType', 'country', \n",
    "                        'NY.GDP.PCAP.PP.KD', 'EP.PMP.SGAS.CD'], axis=1)"
   ]
  },
  {
   "cell_type": "code",
   "execution_count": 41,
   "id": "b76ef449",
   "metadata": {},
   "outputs": [
    {
     "data": {
      "text/plain": [
       "Country Name    50\n",
       "iso3c           50\n",
       "Exports         50\n",
       "NR_TE           50\n",
       "region          50\n",
       "incomeLevel     50\n",
       "year            50\n",
       "gdp_pc          47\n",
       "GDP_grow        49\n",
       "GDPPC_grow      49\n",
       "OR              49\n",
       "NRR             49\n",
       "Exports%        43\n",
       "POil             0\n",
       "dtype: int64"
      ]
     },
     "execution_count": 41,
     "metadata": {},
     "output_type": "execute_result"
    }
   ],
   "source": [
    "compdat.loc[compdat.year==2015].count()"
   ]
  },
  {
   "cell_type": "code",
   "execution_count": 42,
   "id": "3e8a0dbc",
   "metadata": {},
   "outputs": [
    {
     "data": {
      "text/plain": [
       "Country Name     object\n",
       "iso3c            object\n",
       "Exports          object\n",
       "NR_TE             int64\n",
       "region           object\n",
       "incomeLevel      object\n",
       "year              int32\n",
       "gdp_pc          float64\n",
       "GDP_grow        float64\n",
       "GDPPC_grow      float64\n",
       "OR              float64\n",
       "NRR             float64\n",
       "Exports%        float64\n",
       "POil            float64\n",
       "dtype: object"
      ]
     },
     "execution_count": 42,
     "metadata": {},
     "output_type": "execute_result"
    }
   ],
   "source": [
    "compdat.dtypes"
   ]
  },
  {
   "cell_type": "code",
   "execution_count": 43,
   "id": "4291c4ef",
   "metadata": {
    "scrolled": false
   },
   "outputs": [
    {
     "data": {
      "text/html": [
       "<div>\n",
       "<style scoped>\n",
       "    .dataframe tbody tr th:only-of-type {\n",
       "        vertical-align: middle;\n",
       "    }\n",
       "\n",
       "    .dataframe tbody tr th {\n",
       "        vertical-align: top;\n",
       "    }\n",
       "\n",
       "    .dataframe thead th {\n",
       "        text-align: right;\n",
       "    }\n",
       "</style>\n",
       "<table border=\"1\" class=\"dataframe\">\n",
       "  <thead>\n",
       "    <tr style=\"text-align: right;\">\n",
       "      <th></th>\n",
       "      <th>Country Name</th>\n",
       "      <th>iso3c</th>\n",
       "      <th>Exports</th>\n",
       "      <th>NR_TE</th>\n",
       "      <th>region</th>\n",
       "      <th>incomeLevel</th>\n",
       "      <th>year</th>\n",
       "      <th>gdp_pc</th>\n",
       "      <th>GDP_grow</th>\n",
       "      <th>GDPPC_grow</th>\n",
       "      <th>OR</th>\n",
       "      <th>NRR</th>\n",
       "      <th>Exports%</th>\n",
       "      <th>POil</th>\n",
       "    </tr>\n",
       "  </thead>\n",
       "  <tbody>\n",
       "    <tr>\n",
       "      <th>0</th>\n",
       "      <td>Congo, Dem. Rep</td>\n",
       "      <td>COD</td>\n",
       "      <td>Minerals &amp; Oil</td>\n",
       "      <td>94</td>\n",
       "      <td>Sub-Saharan Africa</td>\n",
       "      <td>Low Income</td>\n",
       "      <td>2020</td>\n",
       "      <td>1082.445242</td>\n",
       "      <td>1.735423</td>\n",
       "      <td>-1.412051</td>\n",
       "      <td>0.500318</td>\n",
       "      <td>14.884275</td>\n",
       "      <td>28.604587</td>\n",
       "      <td>NaN</td>\n",
       "    </tr>\n",
       "    <tr>\n",
       "      <th>1</th>\n",
       "      <td>Congo, Dem. Rep</td>\n",
       "      <td>COD</td>\n",
       "      <td>Minerals &amp; Oil</td>\n",
       "      <td>94</td>\n",
       "      <td>Sub-Saharan Africa</td>\n",
       "      <td>Low Income</td>\n",
       "      <td>2019</td>\n",
       "      <td>1097.948840</td>\n",
       "      <td>4.384529</td>\n",
       "      <td>1.110160</td>\n",
       "      <td>0.749021</td>\n",
       "      <td>13.773919</td>\n",
       "      <td>25.756239</td>\n",
       "      <td>NaN</td>\n",
       "    </tr>\n",
       "    <tr>\n",
       "      <th>2</th>\n",
       "      <td>Congo, Dem. Rep</td>\n",
       "      <td>COD</td>\n",
       "      <td>Minerals &amp; Oil</td>\n",
       "      <td>94</td>\n",
       "      <td>Sub-Saharan Africa</td>\n",
       "      <td>Low Income</td>\n",
       "      <td>2018</td>\n",
       "      <td>1085.893688</td>\n",
       "      <td>5.821121</td>\n",
       "      <td>2.461093</td>\n",
       "      <td>0.928356</td>\n",
       "      <td>17.930273</td>\n",
       "      <td>33.807350</td>\n",
       "      <td>NaN</td>\n",
       "    </tr>\n",
       "    <tr>\n",
       "      <th>3</th>\n",
       "      <td>Congo, Dem. Rep</td>\n",
       "      <td>COD</td>\n",
       "      <td>Minerals &amp; Oil</td>\n",
       "      <td>94</td>\n",
       "      <td>Sub-Saharan Africa</td>\n",
       "      <td>Low Income</td>\n",
       "      <td>2017</td>\n",
       "      <td>1059.810762</td>\n",
       "      <td>3.726948</td>\n",
       "      <td>0.401474</td>\n",
       "      <td>0.577089</td>\n",
       "      <td>24.682857</td>\n",
       "      <td>30.690155</td>\n",
       "      <td>NaN</td>\n",
       "    </tr>\n",
       "    <tr>\n",
       "      <th>4</th>\n",
       "      <td>Congo, Dem. Rep</td>\n",
       "      <td>COD</td>\n",
       "      <td>Minerals &amp; Oil</td>\n",
       "      <td>94</td>\n",
       "      <td>Sub-Saharan Africa</td>\n",
       "      <td>Low Income</td>\n",
       "      <td>2016</td>\n",
       "      <td>1055.572915</td>\n",
       "      <td>2.399399</td>\n",
       "      <td>-0.907724</td>\n",
       "      <td>0.321911</td>\n",
       "      <td>20.587359</td>\n",
       "      <td>32.787860</td>\n",
       "      <td>1.49</td>\n",
       "    </tr>\n",
       "    <tr>\n",
       "      <th>...</th>\n",
       "      <td>...</td>\n",
       "      <td>...</td>\n",
       "      <td>...</td>\n",
       "      <td>...</td>\n",
       "      <td>...</td>\n",
       "      <td>...</td>\n",
       "      <td>...</td>\n",
       "      <td>...</td>\n",
       "      <td>...</td>\n",
       "      <td>...</td>\n",
       "      <td>...</td>\n",
       "      <td>...</td>\n",
       "      <td>...</td>\n",
       "      <td>...</td>\n",
       "    </tr>\n",
       "    <tr>\n",
       "      <th>3045</th>\n",
       "      <td>Norway</td>\n",
       "      <td>NOR</td>\n",
       "      <td>Oil</td>\n",
       "      <td>62</td>\n",
       "      <td>Europe &amp; Central Asia</td>\n",
       "      <td>High Income</td>\n",
       "      <td>1964</td>\n",
       "      <td>NaN</td>\n",
       "      <td>5.009651</td>\n",
       "      <td>4.219394</td>\n",
       "      <td>NaN</td>\n",
       "      <td>NaN</td>\n",
       "      <td>NaN</td>\n",
       "      <td>NaN</td>\n",
       "    </tr>\n",
       "    <tr>\n",
       "      <th>3046</th>\n",
       "      <td>Norway</td>\n",
       "      <td>NOR</td>\n",
       "      <td>Oil</td>\n",
       "      <td>62</td>\n",
       "      <td>Europe &amp; Central Asia</td>\n",
       "      <td>High Income</td>\n",
       "      <td>1963</td>\n",
       "      <td>NaN</td>\n",
       "      <td>3.785043</td>\n",
       "      <td>3.003259</td>\n",
       "      <td>NaN</td>\n",
       "      <td>NaN</td>\n",
       "      <td>NaN</td>\n",
       "      <td>NaN</td>\n",
       "    </tr>\n",
       "    <tr>\n",
       "      <th>3047</th>\n",
       "      <td>Norway</td>\n",
       "      <td>NOR</td>\n",
       "      <td>Oil</td>\n",
       "      <td>62</td>\n",
       "      <td>Europe &amp; Central Asia</td>\n",
       "      <td>High Income</td>\n",
       "      <td>1962</td>\n",
       "      <td>NaN</td>\n",
       "      <td>2.813945</td>\n",
       "      <td>1.991246</td>\n",
       "      <td>NaN</td>\n",
       "      <td>NaN</td>\n",
       "      <td>NaN</td>\n",
       "      <td>NaN</td>\n",
       "    </tr>\n",
       "    <tr>\n",
       "      <th>3048</th>\n",
       "      <td>Norway</td>\n",
       "      <td>NOR</td>\n",
       "      <td>Oil</td>\n",
       "      <td>62</td>\n",
       "      <td>Europe &amp; Central Asia</td>\n",
       "      <td>High Income</td>\n",
       "      <td>1961</td>\n",
       "      <td>NaN</td>\n",
       "      <td>6.273336</td>\n",
       "      <td>5.432493</td>\n",
       "      <td>NaN</td>\n",
       "      <td>NaN</td>\n",
       "      <td>NaN</td>\n",
       "      <td>NaN</td>\n",
       "    </tr>\n",
       "    <tr>\n",
       "      <th>3049</th>\n",
       "      <td>Norway</td>\n",
       "      <td>NOR</td>\n",
       "      <td>Oil</td>\n",
       "      <td>62</td>\n",
       "      <td>Europe &amp; Central Asia</td>\n",
       "      <td>High Income</td>\n",
       "      <td>1960</td>\n",
       "      <td>NaN</td>\n",
       "      <td>NaN</td>\n",
       "      <td>NaN</td>\n",
       "      <td>NaN</td>\n",
       "      <td>NaN</td>\n",
       "      <td>NaN</td>\n",
       "      <td>NaN</td>\n",
       "    </tr>\n",
       "  </tbody>\n",
       "</table>\n",
       "<p>3050 rows × 14 columns</p>\n",
       "</div>"
      ],
      "text/plain": [
       "         Country Name iso3c         Exports  NR_TE                 region  \\\n",
       "0     Congo, Dem. Rep   COD  Minerals & Oil     94    Sub-Saharan Africa    \n",
       "1     Congo, Dem. Rep   COD  Minerals & Oil     94    Sub-Saharan Africa    \n",
       "2     Congo, Dem. Rep   COD  Minerals & Oil     94    Sub-Saharan Africa    \n",
       "3     Congo, Dem. Rep   COD  Minerals & Oil     94    Sub-Saharan Africa    \n",
       "4     Congo, Dem. Rep   COD  Minerals & Oil     94    Sub-Saharan Africa    \n",
       "...               ...   ...             ...    ...                    ...   \n",
       "3045           Norway   NOR             Oil     62  Europe & Central Asia   \n",
       "3046           Norway   NOR             Oil     62  Europe & Central Asia   \n",
       "3047           Norway   NOR             Oil     62  Europe & Central Asia   \n",
       "3048           Norway   NOR             Oil     62  Europe & Central Asia   \n",
       "3049           Norway   NOR             Oil     62  Europe & Central Asia   \n",
       "\n",
       "      incomeLevel  year       gdp_pc  GDP_grow  GDPPC_grow        OR  \\\n",
       "0      Low Income  2020  1082.445242  1.735423   -1.412051  0.500318   \n",
       "1      Low Income  2019  1097.948840  4.384529    1.110160  0.749021   \n",
       "2      Low Income  2018  1085.893688  5.821121    2.461093  0.928356   \n",
       "3      Low Income  2017  1059.810762  3.726948    0.401474  0.577089   \n",
       "4      Low Income  2016  1055.572915  2.399399   -0.907724  0.321911   \n",
       "...           ...   ...          ...       ...         ...       ...   \n",
       "3045  High Income  1964          NaN  5.009651    4.219394       NaN   \n",
       "3046  High Income  1963          NaN  3.785043    3.003259       NaN   \n",
       "3047  High Income  1962          NaN  2.813945    1.991246       NaN   \n",
       "3048  High Income  1961          NaN  6.273336    5.432493       NaN   \n",
       "3049  High Income  1960          NaN       NaN         NaN       NaN   \n",
       "\n",
       "            NRR   Exports%  POil  \n",
       "0     14.884275  28.604587   NaN  \n",
       "1     13.773919  25.756239   NaN  \n",
       "2     17.930273  33.807350   NaN  \n",
       "3     24.682857  30.690155   NaN  \n",
       "4     20.587359  32.787860  1.49  \n",
       "...         ...        ...   ...  \n",
       "3045        NaN        NaN   NaN  \n",
       "3046        NaN        NaN   NaN  \n",
       "3047        NaN        NaN   NaN  \n",
       "3048        NaN        NaN   NaN  \n",
       "3049        NaN        NaN   NaN  \n",
       "\n",
       "[3050 rows x 14 columns]"
      ]
     },
     "execution_count": 43,
     "metadata": {},
     "output_type": "execute_result"
    }
   ],
   "source": [
    "compdat"
   ]
  },
  {
   "cell_type": "markdown",
   "id": "1cd68bb2",
   "metadata": {},
   "source": [
    "<div class=\"alert alert-block alert-warning\">\n",
    "    <b>Example Data Analysis:</b> Regressions and Correlations between variables"
   ]
  },
  {
   "cell_type": "code",
   "execution_count": 68,
   "id": "c3104497",
   "metadata": {},
   "outputs": [],
   "source": [
    "dffig = compdat.loc[compdat.year==year]\\\n",
    "            .dropna(subset=['NR_TE', 'GDP_grow', 'gdp_pc'])\\\n",
    "            .sort_values(by='region').reset_index()"
   ]
  },
  {
   "cell_type": "code",
   "execution_count": 45,
   "id": "6ca6a157",
   "metadata": {},
   "outputs": [],
   "source": [
    "mod = smf.ols(formula='NR_TE ~ GDP_grow', data=dffig, missing='drop').fit()"
   ]
  },
  {
   "cell_type": "code",
   "execution_count": 46,
   "id": "9e02ee76",
   "metadata": {},
   "outputs": [
    {
     "data": {
      "text/html": [
       "<table class=\"simpletable\">\n",
       "<tr>\n",
       "        <td>Model:</td>               <td>OLS</td>         <td>Adj. R-squared:</td>    <td>-0.015</td> \n",
       "</tr>\n",
       "<tr>\n",
       "  <td>Dependent Variable:</td>       <td>NR_TE</td>             <td>AIC:</td>         <td>443.2478</td>\n",
       "</tr>\n",
       "<tr>\n",
       "         <td>Date:</td>        <td>2022-11-13 13:10</td>        <td>BIC:</td>         <td>446.9051</td>\n",
       "</tr>\n",
       "<tr>\n",
       "   <td>No. Observations:</td>         <td>46</td>          <td>Log-Likelihood:</td>    <td>-219.62</td>\n",
       "</tr>\n",
       "<tr>\n",
       "       <td>Df Model:</td>              <td>1</td>           <td>F-statistic:</td>      <td>0.3264</td> \n",
       "</tr>\n",
       "<tr>\n",
       "     <td>Df Residuals:</td>           <td>44</td>        <td>Prob (F-statistic):</td>   <td>0.571</td> \n",
       "</tr>\n",
       "<tr>\n",
       "      <td>R-squared:</td>            <td>0.007</td>            <td>Scale:</td>         <td>858.72</td> \n",
       "</tr>\n",
       "</table>\n",
       "<table class=\"simpletable\">\n",
       "<tr>\n",
       "      <td></td>       <th>Coef.</th>  <th>Std.Err.</th>    <th>t</th>     <th>P>|t|</th> <th>[0.025</th>  <th>0.975]</th> \n",
       "</tr>\n",
       "<tr>\n",
       "  <th>Intercept</th> <td>66.1176</td>  <td>4.5057</td>  <td>14.6742</td> <td>0.0000</td> <td>57.0369</td> <td>75.1982</td>\n",
       "</tr>\n",
       "<tr>\n",
       "  <th>GDP_grow</th>  <td>-0.2825</td>  <td>0.4945</td>  <td>-0.5714</td> <td>0.5707</td> <td>-1.2791</td> <td>0.7140</td> \n",
       "</tr>\n",
       "</table>\n",
       "<table class=\"simpletable\">\n",
       "<tr>\n",
       "     <td>Omnibus:</td>     <td>5.449</td>  <td>Durbin-Watson:</td>   <td>1.802</td>\n",
       "</tr>\n",
       "<tr>\n",
       "  <td>Prob(Omnibus):</td>  <td>0.066</td> <td>Jarque-Bera (JB):</td> <td>4.791</td>\n",
       "</tr>\n",
       "<tr>\n",
       "       <td>Skew:</td>     <td>-0.705</td>     <td>Prob(JB):</td>     <td>0.091</td>\n",
       "</tr>\n",
       "<tr>\n",
       "     <td>Kurtosis:</td>    <td>2.285</td>  <td>Condition No.:</td>    <td>10</td>  \n",
       "</tr>\n",
       "</table>"
      ],
      "text/plain": [
       "<class 'statsmodels.iolib.summary2.Summary'>\n",
       "\"\"\"\n",
       "                 Results: Ordinary least squares\n",
       "=================================================================\n",
       "Model:              OLS              Adj. R-squared:     -0.015  \n",
       "Dependent Variable: NR_TE            AIC:                443.2478\n",
       "Date:               2022-11-13 13:10 BIC:                446.9051\n",
       "No. Observations:   46               Log-Likelihood:     -219.62 \n",
       "Df Model:           1                F-statistic:        0.3264  \n",
       "Df Residuals:       44               Prob (F-statistic): 0.571   \n",
       "R-squared:          0.007            Scale:              858.72  \n",
       "------------------------------------------------------------------\n",
       "               Coef.   Std.Err.     t     P>|t|    [0.025   0.975]\n",
       "------------------------------------------------------------------\n",
       "Intercept     66.1176    4.5057  14.6742  0.0000  57.0369  75.1982\n",
       "GDP_grow      -0.2825    0.4945  -0.5714  0.5707  -1.2791   0.7140\n",
       "-----------------------------------------------------------------\n",
       "Omnibus:               5.449        Durbin-Watson:          1.802\n",
       "Prob(Omnibus):         0.066        Jarque-Bera (JB):       4.791\n",
       "Skew:                  -0.705       Prob(JB):               0.091\n",
       "Kurtosis:              2.285        Condition No.:          10   \n",
       "=================================================================\n",
       "\n",
       "\"\"\""
      ]
     },
     "execution_count": 46,
     "metadata": {},
     "output_type": "execute_result"
    }
   ],
   "source": [
    "mod.summary2()"
   ]
  },
  {
   "cell_type": "code",
   "execution_count": 47,
   "id": "8321a6fb",
   "metadata": {},
   "outputs": [],
   "source": [
    "symbols = ['circle', 'x', 'square', 'cross', 'diamond', 'star-diamond', 'triangle-up']\n",
    "fig1 = px.scatter(dffig,\n",
    "                 x=\"NR_TE\", \n",
    "                 y=\"GDP_grow\", \n",
    "                 color='region',\n",
    "                 symbol='region',\n",
    "                 symbol_sequence=symbols,\n",
    "                 hover_name='Country Name',\n",
    "                 hover_data=['iso3c', 'NR_TE', 'GDP_grow'],\n",
    "                 size='gdp_pc',\n",
    "                 size_max=20,\n",
    "                 trendline=\"ols\",\n",
    "                 trendline_scope=\"overall\",\n",
    "                 trendline_color_override=\"black\",\n",
    "                 labels={\n",
    "                     \"NR_TE\": \"Natural Resources as a Percentage of Total Exports\",\n",
    "                     \"GDP_grow\": \"GDP Growth\",\n",
    "                     \"region\": \"WB Region\",\n",
    "                     \"gdp_pc\": \"GDP Per Capita\"\n",
    "                 },\n",
    "                 opacity=0.75,\n",
    "                 height=800,\n",
    "                )"
   ]
  },
  {
   "cell_type": "code",
   "execution_count": 48,
   "id": "a4a9187c",
   "metadata": {},
   "outputs": [
    {
     "data": {
      "application/vnd.plotly.v1+json": {
       "config": {
        "plotlyServerURL": "https://plot.ly"
       },
       "data": [
        {
         "customdata": [
          [
           "VNM"
          ],
          [
           "MNG"
          ],
          [
           "PNG"
          ],
          [
           "TLS"
          ],
          [
           "LAO"
          ],
          [
           "IDN"
          ],
          [
           "BRN"
          ]
         ],
         "hovertemplate": "<b>%{hovertext}</b><br><br>WB Region=East Asia & Pacific<br>Natural Resources as a Percentage of Total Exports=%{x}<br>GDP Growth=%{y}<br>GDP Per Capita=%{marker.size}<br>iso3c=%{customdata[0]}<extra></extra>",
         "hovertext": [
          "Vietnam",
          "Mongolia",
          "Papua New Guinea",
          "Timor Leste",
          "Lao PDR",
          "Indonesia",
          "Brunei Darussalam"
         ],
         "legendgroup": "East Asia & Pacific",
         "marker": {
          "color": "#636efa",
          "opacity": 0.75,
          "size": [
           10338.2705428349,
           11723.8735008808,
           4063.23970896116,
           3925.94815881534,
           7810.73497037483,
           11445.6140283799,
           62200.8820427958
          ],
          "sizemode": "area",
          "sizeref": 213.22612607424824,
          "symbol": "circle"
         },
         "mode": "markers",
         "name": "East Asia & Pacific",
         "orientation": "v",
         "showlegend": true,
         "type": "scatter",
         "x": [
          14,
          81,
          77,
          99,
          57,
          10,
          87
         ],
         "xaxis": "x",
         "y": [
          2.93999999999815,
          -4.55775197337685,
          -3.49999998706522,
          10.37185523562,
          0.503031829677198,
          -2.06500494092904,
          1.1335733495246
         ],
         "yaxis": "y"
        },
        {
         "customdata": [
          [
           "RUS"
          ],
          [
           "KAZ"
          ],
          [
           "AZE"
          ],
          [
           "AZE"
          ],
          [
           "UZB"
          ],
          [
           "ALB"
          ],
          [
           "NOR"
          ]
         ],
         "hovertemplate": "<b>%{hovertext}</b><br><br>WB Region=Europe & Central Asia<br>Natural Resources as a Percentage of Total Exports=%{x}<br>GDP Growth=%{y}<br>GDP Per Capita=%{marker.size}<br>iso3c=%{customdata[0]}<extra></extra>",
         "hovertext": [
          "Russia",
          "Kazakhstan",
          "Azerbaijan",
          "Iran",
          "Uzbekistan",
          "Albania",
          "Norway"
         ],
         "legendgroup": "Europe & Central Asia",
         "marker": {
          "color": "#EF553B",
          "opacity": 0.75,
          "size": [
           26578.4609375,
           25361.5079910015,
           13726.7696576885,
           13726.7696576885,
           7344.22032645899,
           13253.7333373551,
           63548.0008158322
          ],
          "sizemode": "area",
          "sizeref": 213.22612607424824,
          "symbol": "x"
         },
         "mode": "markers",
         "name": "Europe & Central Asia",
         "orientation": "v",
         "showlegend": true,
         "type": "scatter",
         "x": [
          50,
          60,
          94,
          94,
          54,
          10,
          62
         ],
         "xaxis": "x",
         "y": [
          -2.68329621644421,
          -2.50000000028746,
          -4.30000010230737,
          -4.30000010230737,
          1.88624525878936,
          -3.48163037314293,
          -0.717182669244792
         ],
         "yaxis": "y"
        },
        {
         "customdata": [
          [
           "SUR"
          ],
          [
           "CHL"
          ],
          [
           "PER"
          ],
          [
           "ECU"
          ],
          [
           "TTO"
          ],
          [
           "MEX"
          ],
          [
           "GUY"
          ],
          [
           "BOL"
          ]
         ],
         "hovertemplate": "<b>%{hovertext}</b><br><br>WB Region=Latin America & Caribbean <br>Natural Resources as a Percentage of Total Exports=%{x}<br>GDP Growth=%{y}<br>GDP Per Capita=%{marker.size}<br>iso3c=%{customdata[0]}<extra></extra>",
         "hovertext": [
          "Suriname",
          "Chile",
          "Peru",
          "Ecuador",
          "Trinidad and Tobago",
          "Mexico",
          "Guyana",
          "Bolivia"
         ],
         "legendgroup": "Latin America & Caribbean ",
         "marker": {
          "color": "#00cc96",
          "opacity": 0.75,
          "size": [
           15864.5510032255,
           23239.3700619175,
           11289.7696753248,
           10325.0017094216,
           24768.6815527811,
           17878.2772936361,
           18679.955428894,
           7853.05397242703
          ],
          "sizemode": "area",
          "sizeref": 213.22612607424824,
          "symbol": "square"
         },
         "mode": "markers",
         "name": "Latin America & Caribbean ",
         "orientation": "v",
         "showlegend": true,
         "type": "scatter",
         "x": [
          11,
          53,
          48,
          55,
          38,
          15,
          42,
          74
         ],
         "xaxis": "x",
         "y": [
          -15.9079511896139,
          -5.9782240617438,
          -10.9526989325015,
          -7.78760709093422,
          -7.37428526501073,
          -8.16735801037942,
          43.4795559399402,
          -8.7378843576993
         ],
         "yaxis": "y"
        },
        {
         "customdata": [
          [
           "QAT"
          ],
          [
           "OMN"
          ],
          [
           "SAU"
          ],
          [
           "DZA"
          ],
          [
           "BHR"
          ],
          [
           "LBY"
          ],
          [
           "IRQ"
          ]
         ],
         "hovertemplate": "<b>%{hovertext}</b><br><br>WB Region=Middle East & North Africa<br>Natural Resources as a Percentage of Total Exports=%{x}<br>GDP Growth=%{y}<br>GDP Per Capita=%{marker.size}<br>iso3c=%{customdata[0]}<extra></extra>",
         "hovertext": [
          "Qatar",
          "Oman",
          "Saudi Arabia",
          "Algeria",
          "Bahrain",
          "Libya",
          "Iraq"
         ],
         "legendgroup": "Middle East & North Africa",
         "marker": {
          "color": "#ab63fa",
          "opacity": 0.75,
          "size": [
           85290.4504296993,
           29502.0596686431,
           44349.4728252942,
           10735.3825391141,
           41545.8414992942,
           16388.8243188775,
           9437.49516570457
          ],
          "sizemode": "area",
          "sizeref": 213.22612607424824,
          "symbol": "cross"
         },
         "mode": "markers",
         "name": "Middle East & North Africa",
         "orientation": "v",
         "showlegend": true,
         "type": "scatter",
         "x": [
          88,
          73,
          87,
          98,
          96,
          97,
          99
         ],
         "xaxis": "x",
         "y": [
          -3.64044980532107,
          -3.2009359899042,
          -4.13767037552623,
          -5.0999999999227,
          -4.93585497941497,
          -23.9297824475795,
          -11.3241992616186
         ],
         "yaxis": "y"
        },
        {
         "customdata": [
          [
           "COG"
          ],
          [
           "LBR"
          ],
          [
           "NER"
          ],
          [
           "GIN"
          ],
          [
           "MLI"
          ],
          [
           "TCD"
          ],
          [
           "ZMB"
          ],
          [
           "BWA"
          ],
          [
           "NGA"
          ],
          [
           "CMR"
          ],
          [
           "SDN"
          ],
          [
           "CIV"
          ],
          [
           "GNQ"
          ],
          [
           "GAB"
          ],
          [
           "AGO"
          ],
          [
           "MRT"
          ],
          [
           "COD"
          ]
         ],
         "hovertemplate": "<b>%{hovertext}</b><br><br>WB Region=Sub-Saharan Africa <br>Natural Resources as a Percentage of Total Exports=%{x}<br>GDP Growth=%{y}<br>GDP Per Capita=%{marker.size}<br>iso3c=%{customdata[0]}<extra></extra>",
         "hovertext": [
          "Congo, Rep. of",
          "Liberia",
          "Niger",
          "Guinea",
          "Mali",
          "Chad",
          "Zambia",
          "Botswana",
          "Nigeria",
          "Cameroon",
          "Sudan",
          "Cote d'Ivoire",
          "Equatorial Guinea",
          "Gabon",
          "Angola",
          "Mauritania",
          "Congo, Dem. Rep"
         ],
         "legendgroup": "Sub-Saharan Africa ",
         "marker": {
          "color": "#FFA15A",
          "opacity": 0.75,
          "size": [
           3497.5654537581,
           1392.01092366288,
           1221.26993034856,
           2611.40331106969,
           2225.89423802753,
           1509.02717218037,
           3277.81650999621,
           14667.8037179871,
           4916.72138086439,
           3666.41062571774,
           3927.0439453125,
           5181.31116022878,
           17214.7381839077,
           14320.8446459612,
           6141.96383913753,
           5109.80494793199,
           1082.44524222678
          ],
          "sizemode": "area",
          "sizeref": 213.22612607424824,
          "symbol": "diamond"
         },
         "mode": "markers",
         "name": "Sub-Saharan Africa ",
         "orientation": "v",
         "showlegend": true,
         "type": "scatter",
         "x": [
          90,
          35,
          79,
          93,
          75,
          89,
          72,
          66,
          97,
          47,
          97,
          17,
          99,
          83,
          95,
          24,
          94
         ],
         "xaxis": "x",
         "y": [
          -6.23931963197583,
          -2.98249214979133,
          3.58000640281861,
          4.63727753630549,
          -1.235450447077,
          -1.60000673705524,
          -2.78505506545167,
          -8.72641034557256,
          -1.79425308233591,
          0.491914742161129,
          -3.62980562615675,
          1.95833247878154,
          -4.24147816609674,
          -1.83776092953785,
          -5.50000000331273,
          -1.76332179417277,
          1.7354227636007
         ],
         "yaxis": "y"
        },
        {
         "hovertemplate": "<b>OLS trendline</b><br>GDP_grow = -0.0260669 * NR_TE + -0.84222<br>R<sup>2</sup>=0.007365<br><br>Natural Resources as a Percentage of Total Exports=%{x}<br>GDP Growth=%{y} <b>(trend)</b><extra></extra>",
         "legendgroup": "Overall Trendline",
         "line": {
          "color": "black"
         },
         "mode": "lines",
         "name": "Overall Trendline",
         "showlegend": true,
         "type": "scatter",
         "x": [
          10,
          10,
          11,
          14,
          15,
          17,
          24,
          35,
          38,
          42,
          47,
          48,
          50,
          53,
          54,
          55,
          57,
          60,
          62,
          66,
          72,
          73,
          74,
          75,
          77,
          79,
          81,
          83,
          87,
          87,
          88,
          89,
          90,
          93,
          94,
          94,
          94,
          95,
          96,
          97,
          97,
          97,
          98,
          99,
          99,
          99
         ],
         "xaxis": "x",
         "y": [
          -1.1028896089893085,
          -1.1028896089893085,
          -1.1289565246910624,
          -1.2071572717963244,
          -1.2332241874980783,
          -1.2853580189015863,
          -1.467826428813864,
          -1.7545625015331578,
          -1.8327632486384198,
          -1.9370309114454356,
          -2.0673654899542058,
          -2.0934324056559594,
          -2.1455662370594677,
          -2.2237669841647296,
          -2.2498338998664833,
          -2.2759008155682374,
          -2.3280346469717452,
          -2.406235394077007,
          -2.4583692254805154,
          -2.562636888287531,
          -2.719038382498055,
          -2.745105298199809,
          -2.771172213901563,
          -2.7972391296033168,
          -2.849372961006825,
          -2.901506792410333,
          -2.9536406238138406,
          -3.005774455217349,
          -3.1100421180243645,
          -3.1100421180243645,
          -3.1361090337261186,
          -3.1621759494278727,
          -3.1882428651296264,
          -3.2664436122348883,
          -3.2925105279366425,
          -3.2925105279366425,
          -3.2925105279366425,
          -3.3185774436383966,
          -3.3446443593401503,
          -3.3707112750419044,
          -3.3707112750419044,
          -3.3707112750419044,
          -3.3967781907436585,
          -3.4228451064454126,
          -3.4228451064454126,
          -3.4228451064454126
         ],
         "yaxis": "y"
        }
       ],
       "layout": {
        "height": 800,
        "legend": {
         "itemsizing": "constant",
         "title": {
          "text": "WB Region"
         },
         "tracegroupgap": 0
        },
        "margin": {
         "t": 60
        },
        "template": {
         "data": {
          "bar": [
           {
            "error_x": {
             "color": "#2a3f5f"
            },
            "error_y": {
             "color": "#2a3f5f"
            },
            "marker": {
             "line": {
              "color": "#E5ECF6",
              "width": 0.5
             },
             "pattern": {
              "fillmode": "overlay",
              "size": 10,
              "solidity": 0.2
             }
            },
            "type": "bar"
           }
          ],
          "barpolar": [
           {
            "marker": {
             "line": {
              "color": "#E5ECF6",
              "width": 0.5
             },
             "pattern": {
              "fillmode": "overlay",
              "size": 10,
              "solidity": 0.2
             }
            },
            "type": "barpolar"
           }
          ],
          "carpet": [
           {
            "aaxis": {
             "endlinecolor": "#2a3f5f",
             "gridcolor": "white",
             "linecolor": "white",
             "minorgridcolor": "white",
             "startlinecolor": "#2a3f5f"
            },
            "baxis": {
             "endlinecolor": "#2a3f5f",
             "gridcolor": "white",
             "linecolor": "white",
             "minorgridcolor": "white",
             "startlinecolor": "#2a3f5f"
            },
            "type": "carpet"
           }
          ],
          "choropleth": [
           {
            "colorbar": {
             "outlinewidth": 0,
             "ticks": ""
            },
            "type": "choropleth"
           }
          ],
          "contour": [
           {
            "colorbar": {
             "outlinewidth": 0,
             "ticks": ""
            },
            "colorscale": [
             [
              0,
              "#0d0887"
             ],
             [
              0.1111111111111111,
              "#46039f"
             ],
             [
              0.2222222222222222,
              "#7201a8"
             ],
             [
              0.3333333333333333,
              "#9c179e"
             ],
             [
              0.4444444444444444,
              "#bd3786"
             ],
             [
              0.5555555555555556,
              "#d8576b"
             ],
             [
              0.6666666666666666,
              "#ed7953"
             ],
             [
              0.7777777777777778,
              "#fb9f3a"
             ],
             [
              0.8888888888888888,
              "#fdca26"
             ],
             [
              1,
              "#f0f921"
             ]
            ],
            "type": "contour"
           }
          ],
          "contourcarpet": [
           {
            "colorbar": {
             "outlinewidth": 0,
             "ticks": ""
            },
            "type": "contourcarpet"
           }
          ],
          "heatmap": [
           {
            "colorbar": {
             "outlinewidth": 0,
             "ticks": ""
            },
            "colorscale": [
             [
              0,
              "#0d0887"
             ],
             [
              0.1111111111111111,
              "#46039f"
             ],
             [
              0.2222222222222222,
              "#7201a8"
             ],
             [
              0.3333333333333333,
              "#9c179e"
             ],
             [
              0.4444444444444444,
              "#bd3786"
             ],
             [
              0.5555555555555556,
              "#d8576b"
             ],
             [
              0.6666666666666666,
              "#ed7953"
             ],
             [
              0.7777777777777778,
              "#fb9f3a"
             ],
             [
              0.8888888888888888,
              "#fdca26"
             ],
             [
              1,
              "#f0f921"
             ]
            ],
            "type": "heatmap"
           }
          ],
          "heatmapgl": [
           {
            "colorbar": {
             "outlinewidth": 0,
             "ticks": ""
            },
            "colorscale": [
             [
              0,
              "#0d0887"
             ],
             [
              0.1111111111111111,
              "#46039f"
             ],
             [
              0.2222222222222222,
              "#7201a8"
             ],
             [
              0.3333333333333333,
              "#9c179e"
             ],
             [
              0.4444444444444444,
              "#bd3786"
             ],
             [
              0.5555555555555556,
              "#d8576b"
             ],
             [
              0.6666666666666666,
              "#ed7953"
             ],
             [
              0.7777777777777778,
              "#fb9f3a"
             ],
             [
              0.8888888888888888,
              "#fdca26"
             ],
             [
              1,
              "#f0f921"
             ]
            ],
            "type": "heatmapgl"
           }
          ],
          "histogram": [
           {
            "marker": {
             "pattern": {
              "fillmode": "overlay",
              "size": 10,
              "solidity": 0.2
             }
            },
            "type": "histogram"
           }
          ],
          "histogram2d": [
           {
            "colorbar": {
             "outlinewidth": 0,
             "ticks": ""
            },
            "colorscale": [
             [
              0,
              "#0d0887"
             ],
             [
              0.1111111111111111,
              "#46039f"
             ],
             [
              0.2222222222222222,
              "#7201a8"
             ],
             [
              0.3333333333333333,
              "#9c179e"
             ],
             [
              0.4444444444444444,
              "#bd3786"
             ],
             [
              0.5555555555555556,
              "#d8576b"
             ],
             [
              0.6666666666666666,
              "#ed7953"
             ],
             [
              0.7777777777777778,
              "#fb9f3a"
             ],
             [
              0.8888888888888888,
              "#fdca26"
             ],
             [
              1,
              "#f0f921"
             ]
            ],
            "type": "histogram2d"
           }
          ],
          "histogram2dcontour": [
           {
            "colorbar": {
             "outlinewidth": 0,
             "ticks": ""
            },
            "colorscale": [
             [
              0,
              "#0d0887"
             ],
             [
              0.1111111111111111,
              "#46039f"
             ],
             [
              0.2222222222222222,
              "#7201a8"
             ],
             [
              0.3333333333333333,
              "#9c179e"
             ],
             [
              0.4444444444444444,
              "#bd3786"
             ],
             [
              0.5555555555555556,
              "#d8576b"
             ],
             [
              0.6666666666666666,
              "#ed7953"
             ],
             [
              0.7777777777777778,
              "#fb9f3a"
             ],
             [
              0.8888888888888888,
              "#fdca26"
             ],
             [
              1,
              "#f0f921"
             ]
            ],
            "type": "histogram2dcontour"
           }
          ],
          "mesh3d": [
           {
            "colorbar": {
             "outlinewidth": 0,
             "ticks": ""
            },
            "type": "mesh3d"
           }
          ],
          "parcoords": [
           {
            "line": {
             "colorbar": {
              "outlinewidth": 0,
              "ticks": ""
             }
            },
            "type": "parcoords"
           }
          ],
          "pie": [
           {
            "automargin": true,
            "type": "pie"
           }
          ],
          "scatter": [
           {
            "fillpattern": {
             "fillmode": "overlay",
             "size": 10,
             "solidity": 0.2
            },
            "type": "scatter"
           }
          ],
          "scatter3d": [
           {
            "line": {
             "colorbar": {
              "outlinewidth": 0,
              "ticks": ""
             }
            },
            "marker": {
             "colorbar": {
              "outlinewidth": 0,
              "ticks": ""
             }
            },
            "type": "scatter3d"
           }
          ],
          "scattercarpet": [
           {
            "marker": {
             "colorbar": {
              "outlinewidth": 0,
              "ticks": ""
             }
            },
            "type": "scattercarpet"
           }
          ],
          "scattergeo": [
           {
            "marker": {
             "colorbar": {
              "outlinewidth": 0,
              "ticks": ""
             }
            },
            "type": "scattergeo"
           }
          ],
          "scattergl": [
           {
            "marker": {
             "colorbar": {
              "outlinewidth": 0,
              "ticks": ""
             }
            },
            "type": "scattergl"
           }
          ],
          "scattermapbox": [
           {
            "marker": {
             "colorbar": {
              "outlinewidth": 0,
              "ticks": ""
             }
            },
            "type": "scattermapbox"
           }
          ],
          "scatterpolar": [
           {
            "marker": {
             "colorbar": {
              "outlinewidth": 0,
              "ticks": ""
             }
            },
            "type": "scatterpolar"
           }
          ],
          "scatterpolargl": [
           {
            "marker": {
             "colorbar": {
              "outlinewidth": 0,
              "ticks": ""
             }
            },
            "type": "scatterpolargl"
           }
          ],
          "scatterternary": [
           {
            "marker": {
             "colorbar": {
              "outlinewidth": 0,
              "ticks": ""
             }
            },
            "type": "scatterternary"
           }
          ],
          "surface": [
           {
            "colorbar": {
             "outlinewidth": 0,
             "ticks": ""
            },
            "colorscale": [
             [
              0,
              "#0d0887"
             ],
             [
              0.1111111111111111,
              "#46039f"
             ],
             [
              0.2222222222222222,
              "#7201a8"
             ],
             [
              0.3333333333333333,
              "#9c179e"
             ],
             [
              0.4444444444444444,
              "#bd3786"
             ],
             [
              0.5555555555555556,
              "#d8576b"
             ],
             [
              0.6666666666666666,
              "#ed7953"
             ],
             [
              0.7777777777777778,
              "#fb9f3a"
             ],
             [
              0.8888888888888888,
              "#fdca26"
             ],
             [
              1,
              "#f0f921"
             ]
            ],
            "type": "surface"
           }
          ],
          "table": [
           {
            "cells": {
             "fill": {
              "color": "#EBF0F8"
             },
             "line": {
              "color": "white"
             }
            },
            "header": {
             "fill": {
              "color": "#C8D4E3"
             },
             "line": {
              "color": "white"
             }
            },
            "type": "table"
           }
          ]
         },
         "layout": {
          "annotationdefaults": {
           "arrowcolor": "#2a3f5f",
           "arrowhead": 0,
           "arrowwidth": 1
          },
          "autotypenumbers": "strict",
          "coloraxis": {
           "colorbar": {
            "outlinewidth": 0,
            "ticks": ""
           }
          },
          "colorscale": {
           "diverging": [
            [
             0,
             "#8e0152"
            ],
            [
             0.1,
             "#c51b7d"
            ],
            [
             0.2,
             "#de77ae"
            ],
            [
             0.3,
             "#f1b6da"
            ],
            [
             0.4,
             "#fde0ef"
            ],
            [
             0.5,
             "#f7f7f7"
            ],
            [
             0.6,
             "#e6f5d0"
            ],
            [
             0.7,
             "#b8e186"
            ],
            [
             0.8,
             "#7fbc41"
            ],
            [
             0.9,
             "#4d9221"
            ],
            [
             1,
             "#276419"
            ]
           ],
           "sequential": [
            [
             0,
             "#0d0887"
            ],
            [
             0.1111111111111111,
             "#46039f"
            ],
            [
             0.2222222222222222,
             "#7201a8"
            ],
            [
             0.3333333333333333,
             "#9c179e"
            ],
            [
             0.4444444444444444,
             "#bd3786"
            ],
            [
             0.5555555555555556,
             "#d8576b"
            ],
            [
             0.6666666666666666,
             "#ed7953"
            ],
            [
             0.7777777777777778,
             "#fb9f3a"
            ],
            [
             0.8888888888888888,
             "#fdca26"
            ],
            [
             1,
             "#f0f921"
            ]
           ],
           "sequentialminus": [
            [
             0,
             "#0d0887"
            ],
            [
             0.1111111111111111,
             "#46039f"
            ],
            [
             0.2222222222222222,
             "#7201a8"
            ],
            [
             0.3333333333333333,
             "#9c179e"
            ],
            [
             0.4444444444444444,
             "#bd3786"
            ],
            [
             0.5555555555555556,
             "#d8576b"
            ],
            [
             0.6666666666666666,
             "#ed7953"
            ],
            [
             0.7777777777777778,
             "#fb9f3a"
            ],
            [
             0.8888888888888888,
             "#fdca26"
            ],
            [
             1,
             "#f0f921"
            ]
           ]
          },
          "colorway": [
           "#636efa",
           "#EF553B",
           "#00cc96",
           "#ab63fa",
           "#FFA15A",
           "#19d3f3",
           "#FF6692",
           "#B6E880",
           "#FF97FF",
           "#FECB52"
          ],
          "font": {
           "color": "#2a3f5f"
          },
          "geo": {
           "bgcolor": "white",
           "lakecolor": "white",
           "landcolor": "#E5ECF6",
           "showlakes": true,
           "showland": true,
           "subunitcolor": "white"
          },
          "hoverlabel": {
           "align": "left"
          },
          "hovermode": "closest",
          "mapbox": {
           "style": "light"
          },
          "paper_bgcolor": "white",
          "plot_bgcolor": "#E5ECF6",
          "polar": {
           "angularaxis": {
            "gridcolor": "white",
            "linecolor": "white",
            "ticks": ""
           },
           "bgcolor": "#E5ECF6",
           "radialaxis": {
            "gridcolor": "white",
            "linecolor": "white",
            "ticks": ""
           }
          },
          "scene": {
           "xaxis": {
            "backgroundcolor": "#E5ECF6",
            "gridcolor": "white",
            "gridwidth": 2,
            "linecolor": "white",
            "showbackground": true,
            "ticks": "",
            "zerolinecolor": "white"
           },
           "yaxis": {
            "backgroundcolor": "#E5ECF6",
            "gridcolor": "white",
            "gridwidth": 2,
            "linecolor": "white",
            "showbackground": true,
            "ticks": "",
            "zerolinecolor": "white"
           },
           "zaxis": {
            "backgroundcolor": "#E5ECF6",
            "gridcolor": "white",
            "gridwidth": 2,
            "linecolor": "white",
            "showbackground": true,
            "ticks": "",
            "zerolinecolor": "white"
           }
          },
          "shapedefaults": {
           "line": {
            "color": "#2a3f5f"
           }
          },
          "ternary": {
           "aaxis": {
            "gridcolor": "white",
            "linecolor": "white",
            "ticks": ""
           },
           "baxis": {
            "gridcolor": "white",
            "linecolor": "white",
            "ticks": ""
           },
           "bgcolor": "#E5ECF6",
           "caxis": {
            "gridcolor": "white",
            "linecolor": "white",
            "ticks": ""
           }
          },
          "title": {
           "x": 0.05
          },
          "xaxis": {
           "automargin": true,
           "gridcolor": "white",
           "linecolor": "white",
           "ticks": "",
           "title": {
            "standoff": 15
           },
           "zerolinecolor": "white",
           "zerolinewidth": 2
          },
          "yaxis": {
           "automargin": true,
           "gridcolor": "white",
           "linecolor": "white",
           "ticks": "",
           "title": {
            "standoff": 15
           },
           "zerolinecolor": "white",
           "zerolinewidth": 2
          }
         }
        },
        "xaxis": {
         "anchor": "y",
         "domain": [
          0,
          1
         ],
         "title": {
          "text": "Natural Resources as a Percentage of Total Exports"
         }
        },
        "yaxis": {
         "anchor": "x",
         "domain": [
          0,
          1
         ],
         "title": {
          "text": "GDP Growth"
         }
        }
       }
      },
      "text/html": [
       "<div>                            <div id=\"c0cdd12a-b316-4ffa-b275-2a42cd5b8655\" class=\"plotly-graph-div\" style=\"height:800px; width:100%;\"></div>            <script type=\"text/javascript\">                require([\"plotly\"], function(Plotly) {                    window.PLOTLYENV=window.PLOTLYENV || {};                                    if (document.getElementById(\"c0cdd12a-b316-4ffa-b275-2a42cd5b8655\")) {                    Plotly.newPlot(                        \"c0cdd12a-b316-4ffa-b275-2a42cd5b8655\",                        [{\"customdata\":[[\"VNM\"],[\"MNG\"],[\"PNG\"],[\"TLS\"],[\"LAO\"],[\"IDN\"],[\"BRN\"]],\"hovertemplate\":\"<b>%{hovertext}</b><br><br>WB Region=East Asia & Pacific<br>Natural Resources as a Percentage of Total Exports=%{x}<br>GDP Growth=%{y}<br>GDP Per Capita=%{marker.size}<br>iso3c=%{customdata[0]}<extra></extra>\",\"hovertext\":[\"Vietnam\",\"Mongolia\",\"Papua New Guinea\",\"Timor Leste\",\"Lao PDR\",\"Indonesia\",\"Brunei Darussalam\"],\"legendgroup\":\"East Asia & Pacific\",\"marker\":{\"color\":\"#636efa\",\"opacity\":0.75,\"size\":[10338.2705428349,11723.8735008808,4063.23970896116,3925.94815881534,7810.73497037483,11445.6140283799,62200.8820427958],\"sizemode\":\"area\",\"sizeref\":213.22612607424824,\"symbol\":\"circle\"},\"mode\":\"markers\",\"name\":\"East Asia & Pacific\",\"orientation\":\"v\",\"showlegend\":true,\"x\":[14,81,77,99,57,10,87],\"xaxis\":\"x\",\"y\":[2.93999999999815,-4.55775197337685,-3.49999998706522,10.37185523562,0.503031829677198,-2.06500494092904,1.1335733495246],\"yaxis\":\"y\",\"type\":\"scatter\"},{\"customdata\":[[\"RUS\"],[\"KAZ\"],[\"AZE\"],[\"AZE\"],[\"UZB\"],[\"ALB\"],[\"NOR\"]],\"hovertemplate\":\"<b>%{hovertext}</b><br><br>WB Region=Europe & Central Asia<br>Natural Resources as a Percentage of Total Exports=%{x}<br>GDP Growth=%{y}<br>GDP Per Capita=%{marker.size}<br>iso3c=%{customdata[0]}<extra></extra>\",\"hovertext\":[\"Russia\",\"Kazakhstan\",\"Azerbaijan\",\"Iran\",\"Uzbekistan\",\"Albania\",\"Norway\"],\"legendgroup\":\"Europe & Central Asia\",\"marker\":{\"color\":\"#EF553B\",\"opacity\":0.75,\"size\":[26578.4609375,25361.5079910015,13726.7696576885,13726.7696576885,7344.22032645899,13253.7333373551,63548.0008158322],\"sizemode\":\"area\",\"sizeref\":213.22612607424824,\"symbol\":\"x\"},\"mode\":\"markers\",\"name\":\"Europe & Central Asia\",\"orientation\":\"v\",\"showlegend\":true,\"x\":[50,60,94,94,54,10,62],\"xaxis\":\"x\",\"y\":[-2.68329621644421,-2.50000000028746,-4.30000010230737,-4.30000010230737,1.88624525878936,-3.48163037314293,-0.717182669244792],\"yaxis\":\"y\",\"type\":\"scatter\"},{\"customdata\":[[\"SUR\"],[\"CHL\"],[\"PER\"],[\"ECU\"],[\"TTO\"],[\"MEX\"],[\"GUY\"],[\"BOL\"]],\"hovertemplate\":\"<b>%{hovertext}</b><br><br>WB Region=Latin America & Caribbean <br>Natural Resources as a Percentage of Total Exports=%{x}<br>GDP Growth=%{y}<br>GDP Per Capita=%{marker.size}<br>iso3c=%{customdata[0]}<extra></extra>\",\"hovertext\":[\"Suriname\",\"Chile\",\"Peru\",\"Ecuador\",\"Trinidad and Tobago\",\"Mexico\",\"Guyana\",\"Bolivia\"],\"legendgroup\":\"Latin America & Caribbean \",\"marker\":{\"color\":\"#00cc96\",\"opacity\":0.75,\"size\":[15864.5510032255,23239.3700619175,11289.7696753248,10325.0017094216,24768.6815527811,17878.2772936361,18679.955428894,7853.05397242703],\"sizemode\":\"area\",\"sizeref\":213.22612607424824,\"symbol\":\"square\"},\"mode\":\"markers\",\"name\":\"Latin America & Caribbean \",\"orientation\":\"v\",\"showlegend\":true,\"x\":[11,53,48,55,38,15,42,74],\"xaxis\":\"x\",\"y\":[-15.9079511896139,-5.9782240617438,-10.9526989325015,-7.78760709093422,-7.37428526501073,-8.16735801037942,43.4795559399402,-8.7378843576993],\"yaxis\":\"y\",\"type\":\"scatter\"},{\"customdata\":[[\"QAT\"],[\"OMN\"],[\"SAU\"],[\"DZA\"],[\"BHR\"],[\"LBY\"],[\"IRQ\"]],\"hovertemplate\":\"<b>%{hovertext}</b><br><br>WB Region=Middle East & North Africa<br>Natural Resources as a Percentage of Total Exports=%{x}<br>GDP Growth=%{y}<br>GDP Per Capita=%{marker.size}<br>iso3c=%{customdata[0]}<extra></extra>\",\"hovertext\":[\"Qatar\",\"Oman\",\"Saudi Arabia\",\"Algeria\",\"Bahrain\",\"Libya\",\"Iraq\"],\"legendgroup\":\"Middle East & North Africa\",\"marker\":{\"color\":\"#ab63fa\",\"opacity\":0.75,\"size\":[85290.4504296993,29502.0596686431,44349.4728252942,10735.3825391141,41545.8414992942,16388.8243188775,9437.49516570457],\"sizemode\":\"area\",\"sizeref\":213.22612607424824,\"symbol\":\"cross\"},\"mode\":\"markers\",\"name\":\"Middle East & North Africa\",\"orientation\":\"v\",\"showlegend\":true,\"x\":[88,73,87,98,96,97,99],\"xaxis\":\"x\",\"y\":[-3.64044980532107,-3.2009359899042,-4.13767037552623,-5.0999999999227,-4.93585497941497,-23.9297824475795,-11.3241992616186],\"yaxis\":\"y\",\"type\":\"scatter\"},{\"customdata\":[[\"COG\"],[\"LBR\"],[\"NER\"],[\"GIN\"],[\"MLI\"],[\"TCD\"],[\"ZMB\"],[\"BWA\"],[\"NGA\"],[\"CMR\"],[\"SDN\"],[\"CIV\"],[\"GNQ\"],[\"GAB\"],[\"AGO\"],[\"MRT\"],[\"COD\"]],\"hovertemplate\":\"<b>%{hovertext}</b><br><br>WB Region=Sub-Saharan Africa <br>Natural Resources as a Percentage of Total Exports=%{x}<br>GDP Growth=%{y}<br>GDP Per Capita=%{marker.size}<br>iso3c=%{customdata[0]}<extra></extra>\",\"hovertext\":[\"Congo, Rep. of\",\"Liberia\",\"Niger\",\"Guinea\",\"Mali\",\"Chad\",\"Zambia\",\"Botswana\",\"Nigeria\",\"Cameroon\",\"Sudan\",\"Cote d'Ivoire\",\"Equatorial Guinea\",\"Gabon\",\"Angola\",\"Mauritania\",\"Congo, Dem. Rep\"],\"legendgroup\":\"Sub-Saharan Africa \",\"marker\":{\"color\":\"#FFA15A\",\"opacity\":0.75,\"size\":[3497.5654537581,1392.01092366288,1221.26993034856,2611.40331106969,2225.89423802753,1509.02717218037,3277.81650999621,14667.8037179871,4916.72138086439,3666.41062571774,3927.0439453125,5181.31116022878,17214.7381839077,14320.8446459612,6141.96383913753,5109.80494793199,1082.44524222678],\"sizemode\":\"area\",\"sizeref\":213.22612607424824,\"symbol\":\"diamond\"},\"mode\":\"markers\",\"name\":\"Sub-Saharan Africa \",\"orientation\":\"v\",\"showlegend\":true,\"x\":[90,35,79,93,75,89,72,66,97,47,97,17,99,83,95,24,94],\"xaxis\":\"x\",\"y\":[-6.23931963197583,-2.98249214979133,3.58000640281861,4.63727753630549,-1.235450447077,-1.60000673705524,-2.78505506545167,-8.72641034557256,-1.79425308233591,0.491914742161129,-3.62980562615675,1.95833247878154,-4.24147816609674,-1.83776092953785,-5.50000000331273,-1.76332179417277,1.7354227636007],\"yaxis\":\"y\",\"type\":\"scatter\"},{\"hovertemplate\":\"<b>OLS trendline</b><br>GDP_grow = -0.0260669 * NR_TE + -0.84222<br>R<sup>2</sup>=0.007365<br><br>Natural Resources as a Percentage of Total Exports=%{x}<br>GDP Growth=%{y} <b>(trend)</b><extra></extra>\",\"legendgroup\":\"Overall Trendline\",\"line\":{\"color\":\"black\"},\"mode\":\"lines\",\"name\":\"Overall Trendline\",\"showlegend\":true,\"x\":[10,10,11,14,15,17,24,35,38,42,47,48,50,53,54,55,57,60,62,66,72,73,74,75,77,79,81,83,87,87,88,89,90,93,94,94,94,95,96,97,97,97,98,99,99,99],\"y\":[-1.1028896089893085,-1.1028896089893085,-1.1289565246910624,-1.2071572717963244,-1.2332241874980783,-1.2853580189015863,-1.467826428813864,-1.7545625015331578,-1.8327632486384198,-1.9370309114454356,-2.0673654899542058,-2.0934324056559594,-2.1455662370594677,-2.2237669841647296,-2.2498338998664833,-2.2759008155682374,-2.3280346469717452,-2.406235394077007,-2.4583692254805154,-2.562636888287531,-2.719038382498055,-2.745105298199809,-2.771172213901563,-2.7972391296033168,-2.849372961006825,-2.901506792410333,-2.9536406238138406,-3.005774455217349,-3.1100421180243645,-3.1100421180243645,-3.1361090337261186,-3.1621759494278727,-3.1882428651296264,-3.2664436122348883,-3.2925105279366425,-3.2925105279366425,-3.2925105279366425,-3.3185774436383966,-3.3446443593401503,-3.3707112750419044,-3.3707112750419044,-3.3707112750419044,-3.3967781907436585,-3.4228451064454126,-3.4228451064454126,-3.4228451064454126],\"type\":\"scatter\",\"xaxis\":\"x\",\"yaxis\":\"y\"}],                        {\"template\":{\"data\":{\"histogram2dcontour\":[{\"type\":\"histogram2dcontour\",\"colorbar\":{\"outlinewidth\":0,\"ticks\":\"\"},\"colorscale\":[[0.0,\"#0d0887\"],[0.1111111111111111,\"#46039f\"],[0.2222222222222222,\"#7201a8\"],[0.3333333333333333,\"#9c179e\"],[0.4444444444444444,\"#bd3786\"],[0.5555555555555556,\"#d8576b\"],[0.6666666666666666,\"#ed7953\"],[0.7777777777777778,\"#fb9f3a\"],[0.8888888888888888,\"#fdca26\"],[1.0,\"#f0f921\"]]}],\"choropleth\":[{\"type\":\"choropleth\",\"colorbar\":{\"outlinewidth\":0,\"ticks\":\"\"}}],\"histogram2d\":[{\"type\":\"histogram2d\",\"colorbar\":{\"outlinewidth\":0,\"ticks\":\"\"},\"colorscale\":[[0.0,\"#0d0887\"],[0.1111111111111111,\"#46039f\"],[0.2222222222222222,\"#7201a8\"],[0.3333333333333333,\"#9c179e\"],[0.4444444444444444,\"#bd3786\"],[0.5555555555555556,\"#d8576b\"],[0.6666666666666666,\"#ed7953\"],[0.7777777777777778,\"#fb9f3a\"],[0.8888888888888888,\"#fdca26\"],[1.0,\"#f0f921\"]]}],\"heatmap\":[{\"type\":\"heatmap\",\"colorbar\":{\"outlinewidth\":0,\"ticks\":\"\"},\"colorscale\":[[0.0,\"#0d0887\"],[0.1111111111111111,\"#46039f\"],[0.2222222222222222,\"#7201a8\"],[0.3333333333333333,\"#9c179e\"],[0.4444444444444444,\"#bd3786\"],[0.5555555555555556,\"#d8576b\"],[0.6666666666666666,\"#ed7953\"],[0.7777777777777778,\"#fb9f3a\"],[0.8888888888888888,\"#fdca26\"],[1.0,\"#f0f921\"]]}],\"heatmapgl\":[{\"type\":\"heatmapgl\",\"colorbar\":{\"outlinewidth\":0,\"ticks\":\"\"},\"colorscale\":[[0.0,\"#0d0887\"],[0.1111111111111111,\"#46039f\"],[0.2222222222222222,\"#7201a8\"],[0.3333333333333333,\"#9c179e\"],[0.4444444444444444,\"#bd3786\"],[0.5555555555555556,\"#d8576b\"],[0.6666666666666666,\"#ed7953\"],[0.7777777777777778,\"#fb9f3a\"],[0.8888888888888888,\"#fdca26\"],[1.0,\"#f0f921\"]]}],\"contourcarpet\":[{\"type\":\"contourcarpet\",\"colorbar\":{\"outlinewidth\":0,\"ticks\":\"\"}}],\"contour\":[{\"type\":\"contour\",\"colorbar\":{\"outlinewidth\":0,\"ticks\":\"\"},\"colorscale\":[[0.0,\"#0d0887\"],[0.1111111111111111,\"#46039f\"],[0.2222222222222222,\"#7201a8\"],[0.3333333333333333,\"#9c179e\"],[0.4444444444444444,\"#bd3786\"],[0.5555555555555556,\"#d8576b\"],[0.6666666666666666,\"#ed7953\"],[0.7777777777777778,\"#fb9f3a\"],[0.8888888888888888,\"#fdca26\"],[1.0,\"#f0f921\"]]}],\"surface\":[{\"type\":\"surface\",\"colorbar\":{\"outlinewidth\":0,\"ticks\":\"\"},\"colorscale\":[[0.0,\"#0d0887\"],[0.1111111111111111,\"#46039f\"],[0.2222222222222222,\"#7201a8\"],[0.3333333333333333,\"#9c179e\"],[0.4444444444444444,\"#bd3786\"],[0.5555555555555556,\"#d8576b\"],[0.6666666666666666,\"#ed7953\"],[0.7777777777777778,\"#fb9f3a\"],[0.8888888888888888,\"#fdca26\"],[1.0,\"#f0f921\"]]}],\"mesh3d\":[{\"type\":\"mesh3d\",\"colorbar\":{\"outlinewidth\":0,\"ticks\":\"\"}}],\"scatter\":[{\"fillpattern\":{\"fillmode\":\"overlay\",\"size\":10,\"solidity\":0.2},\"type\":\"scatter\"}],\"parcoords\":[{\"type\":\"parcoords\",\"line\":{\"colorbar\":{\"outlinewidth\":0,\"ticks\":\"\"}}}],\"scatterpolargl\":[{\"type\":\"scatterpolargl\",\"marker\":{\"colorbar\":{\"outlinewidth\":0,\"ticks\":\"\"}}}],\"bar\":[{\"error_x\":{\"color\":\"#2a3f5f\"},\"error_y\":{\"color\":\"#2a3f5f\"},\"marker\":{\"line\":{\"color\":\"#E5ECF6\",\"width\":0.5},\"pattern\":{\"fillmode\":\"overlay\",\"size\":10,\"solidity\":0.2}},\"type\":\"bar\"}],\"scattergeo\":[{\"type\":\"scattergeo\",\"marker\":{\"colorbar\":{\"outlinewidth\":0,\"ticks\":\"\"}}}],\"scatterpolar\":[{\"type\":\"scatterpolar\",\"marker\":{\"colorbar\":{\"outlinewidth\":0,\"ticks\":\"\"}}}],\"histogram\":[{\"marker\":{\"pattern\":{\"fillmode\":\"overlay\",\"size\":10,\"solidity\":0.2}},\"type\":\"histogram\"}],\"scattergl\":[{\"type\":\"scattergl\",\"marker\":{\"colorbar\":{\"outlinewidth\":0,\"ticks\":\"\"}}}],\"scatter3d\":[{\"type\":\"scatter3d\",\"line\":{\"colorbar\":{\"outlinewidth\":0,\"ticks\":\"\"}},\"marker\":{\"colorbar\":{\"outlinewidth\":0,\"ticks\":\"\"}}}],\"scattermapbox\":[{\"type\":\"scattermapbox\",\"marker\":{\"colorbar\":{\"outlinewidth\":0,\"ticks\":\"\"}}}],\"scatterternary\":[{\"type\":\"scatterternary\",\"marker\":{\"colorbar\":{\"outlinewidth\":0,\"ticks\":\"\"}}}],\"scattercarpet\":[{\"type\":\"scattercarpet\",\"marker\":{\"colorbar\":{\"outlinewidth\":0,\"ticks\":\"\"}}}],\"carpet\":[{\"aaxis\":{\"endlinecolor\":\"#2a3f5f\",\"gridcolor\":\"white\",\"linecolor\":\"white\",\"minorgridcolor\":\"white\",\"startlinecolor\":\"#2a3f5f\"},\"baxis\":{\"endlinecolor\":\"#2a3f5f\",\"gridcolor\":\"white\",\"linecolor\":\"white\",\"minorgridcolor\":\"white\",\"startlinecolor\":\"#2a3f5f\"},\"type\":\"carpet\"}],\"table\":[{\"cells\":{\"fill\":{\"color\":\"#EBF0F8\"},\"line\":{\"color\":\"white\"}},\"header\":{\"fill\":{\"color\":\"#C8D4E3\"},\"line\":{\"color\":\"white\"}},\"type\":\"table\"}],\"barpolar\":[{\"marker\":{\"line\":{\"color\":\"#E5ECF6\",\"width\":0.5},\"pattern\":{\"fillmode\":\"overlay\",\"size\":10,\"solidity\":0.2}},\"type\":\"barpolar\"}],\"pie\":[{\"automargin\":true,\"type\":\"pie\"}]},\"layout\":{\"autotypenumbers\":\"strict\",\"colorway\":[\"#636efa\",\"#EF553B\",\"#00cc96\",\"#ab63fa\",\"#FFA15A\",\"#19d3f3\",\"#FF6692\",\"#B6E880\",\"#FF97FF\",\"#FECB52\"],\"font\":{\"color\":\"#2a3f5f\"},\"hovermode\":\"closest\",\"hoverlabel\":{\"align\":\"left\"},\"paper_bgcolor\":\"white\",\"plot_bgcolor\":\"#E5ECF6\",\"polar\":{\"bgcolor\":\"#E5ECF6\",\"angularaxis\":{\"gridcolor\":\"white\",\"linecolor\":\"white\",\"ticks\":\"\"},\"radialaxis\":{\"gridcolor\":\"white\",\"linecolor\":\"white\",\"ticks\":\"\"}},\"ternary\":{\"bgcolor\":\"#E5ECF6\",\"aaxis\":{\"gridcolor\":\"white\",\"linecolor\":\"white\",\"ticks\":\"\"},\"baxis\":{\"gridcolor\":\"white\",\"linecolor\":\"white\",\"ticks\":\"\"},\"caxis\":{\"gridcolor\":\"white\",\"linecolor\":\"white\",\"ticks\":\"\"}},\"coloraxis\":{\"colorbar\":{\"outlinewidth\":0,\"ticks\":\"\"}},\"colorscale\":{\"sequential\":[[0.0,\"#0d0887\"],[0.1111111111111111,\"#46039f\"],[0.2222222222222222,\"#7201a8\"],[0.3333333333333333,\"#9c179e\"],[0.4444444444444444,\"#bd3786\"],[0.5555555555555556,\"#d8576b\"],[0.6666666666666666,\"#ed7953\"],[0.7777777777777778,\"#fb9f3a\"],[0.8888888888888888,\"#fdca26\"],[1.0,\"#f0f921\"]],\"sequentialminus\":[[0.0,\"#0d0887\"],[0.1111111111111111,\"#46039f\"],[0.2222222222222222,\"#7201a8\"],[0.3333333333333333,\"#9c179e\"],[0.4444444444444444,\"#bd3786\"],[0.5555555555555556,\"#d8576b\"],[0.6666666666666666,\"#ed7953\"],[0.7777777777777778,\"#fb9f3a\"],[0.8888888888888888,\"#fdca26\"],[1.0,\"#f0f921\"]],\"diverging\":[[0,\"#8e0152\"],[0.1,\"#c51b7d\"],[0.2,\"#de77ae\"],[0.3,\"#f1b6da\"],[0.4,\"#fde0ef\"],[0.5,\"#f7f7f7\"],[0.6,\"#e6f5d0\"],[0.7,\"#b8e186\"],[0.8,\"#7fbc41\"],[0.9,\"#4d9221\"],[1,\"#276419\"]]},\"xaxis\":{\"gridcolor\":\"white\",\"linecolor\":\"white\",\"ticks\":\"\",\"title\":{\"standoff\":15},\"zerolinecolor\":\"white\",\"automargin\":true,\"zerolinewidth\":2},\"yaxis\":{\"gridcolor\":\"white\",\"linecolor\":\"white\",\"ticks\":\"\",\"title\":{\"standoff\":15},\"zerolinecolor\":\"white\",\"automargin\":true,\"zerolinewidth\":2},\"scene\":{\"xaxis\":{\"backgroundcolor\":\"#E5ECF6\",\"gridcolor\":\"white\",\"linecolor\":\"white\",\"showbackground\":true,\"ticks\":\"\",\"zerolinecolor\":\"white\",\"gridwidth\":2},\"yaxis\":{\"backgroundcolor\":\"#E5ECF6\",\"gridcolor\":\"white\",\"linecolor\":\"white\",\"showbackground\":true,\"ticks\":\"\",\"zerolinecolor\":\"white\",\"gridwidth\":2},\"zaxis\":{\"backgroundcolor\":\"#E5ECF6\",\"gridcolor\":\"white\",\"linecolor\":\"white\",\"showbackground\":true,\"ticks\":\"\",\"zerolinecolor\":\"white\",\"gridwidth\":2}},\"shapedefaults\":{\"line\":{\"color\":\"#2a3f5f\"}},\"annotationdefaults\":{\"arrowcolor\":\"#2a3f5f\",\"arrowhead\":0,\"arrowwidth\":1},\"geo\":{\"bgcolor\":\"white\",\"landcolor\":\"#E5ECF6\",\"subunitcolor\":\"white\",\"showland\":true,\"showlakes\":true,\"lakecolor\":\"white\"},\"title\":{\"x\":0.05},\"mapbox\":{\"style\":\"light\"}}},\"xaxis\":{\"anchor\":\"y\",\"domain\":[0.0,1.0],\"title\":{\"text\":\"Natural Resources as a Percentage of Total Exports\"}},\"yaxis\":{\"anchor\":\"x\",\"domain\":[0.0,1.0],\"title\":{\"text\":\"GDP Growth\"}},\"legend\":{\"title\":{\"text\":\"WB Region\"},\"tracegroupgap\":0,\"itemsizing\":\"constant\"},\"margin\":{\"t\":60},\"height\":800},                        {\"responsive\": true}                    ).then(function(){\n",
       "                            \n",
       "var gd = document.getElementById('c0cdd12a-b316-4ffa-b275-2a42cd5b8655');\n",
       "var x = new MutationObserver(function (mutations, observer) {{\n",
       "        var display = window.getComputedStyle(gd).display;\n",
       "        if (!display || display === 'none') {{\n",
       "            console.log([gd, 'removed!']);\n",
       "            Plotly.purge(gd);\n",
       "            observer.disconnect();\n",
       "        }}\n",
       "}});\n",
       "\n",
       "// Listen for the removal of the full notebook cells\n",
       "var notebookContainer = gd.closest('#notebook-container');\n",
       "if (notebookContainer) {{\n",
       "    x.observe(notebookContainer, {childList: true});\n",
       "}}\n",
       "\n",
       "// Listen for the clearing of the current output cell\n",
       "var outputEl = gd.closest('.output');\n",
       "if (outputEl) {{\n",
       "    x.observe(outputEl, {childList: true});\n",
       "}}\n",
       "\n",
       "                        })                };                });            </script>        </div>"
      ]
     },
     "metadata": {},
     "output_type": "display_data"
    }
   ],
   "source": [
    "fig1.show()"
   ]
  },
  {
   "cell_type": "code",
   "execution_count": 49,
   "id": "91204ea0",
   "metadata": {},
   "outputs": [],
   "source": [
    "symbols = ['circle', 'x', 'square', 'cross', 'diamond', 'star-diamond', 'triangle-up']\n",
    "fig2 = px.scatter(dffig,\n",
    "                 x=\"OR\", \n",
    "                 y=\"GDP_grow\", \n",
    "                 color='region',\n",
    "                 symbol='region',\n",
    "                 symbol_sequence=symbols,\n",
    "                 hover_name='Country Name',\n",
    "                 hover_data=['iso3c', 'OR', 'GDP_grow'],\n",
    "                 size='gdp_pc',\n",
    "                 size_max=20,\n",
    "                 trendline=\"ols\",\n",
    "                 trendline_scope=\"overall\",\n",
    "                 trendline_color_override=\"black\",\n",
    "                 labels={\n",
    "                     \"OR\": \"Oil Rents as a Percentage of Total GDP\",\n",
    "                     \"GDP_grow\": \"GDP Growth\",\n",
    "                     \"region\": \"WB Region\",\n",
    "                     \"gdp_pc\": \"GDP Per Capita\"\n",
    "                 },\n",
    "                 opacity=0.75,\n",
    "                 height=800,\n",
    "                )"
   ]
  },
  {
   "cell_type": "code",
   "execution_count": 50,
   "id": "bf83a623",
   "metadata": {
    "scrolled": false
   },
   "outputs": [
    {
     "data": {
      "application/vnd.plotly.v1+json": {
       "config": {
        "plotlyServerURL": "https://plot.ly"
       },
       "data": [
        {
         "customdata": [
          [
           "VNM"
          ],
          [
           "MNG"
          ],
          [
           "PNG"
          ],
          [
           "TLS"
          ],
          [
           "LAO"
          ],
          [
           "IDN"
          ],
          [
           "BRN"
          ]
         ],
         "hovertemplate": "<b>%{hovertext}</b><br><br>WB Region=East Asia & Pacific<br>Oil Rents as a Percentage of Total GDP=%{x}<br>GDP Growth=%{y}<br>GDP Per Capita=%{marker.size}<br>iso3c=%{customdata[0]}<extra></extra>",
         "hovertext": [
          "Vietnam",
          "Mongolia",
          "Papua New Guinea",
          "Timor Leste",
          "Lao PDR",
          "Indonesia",
          "Brunei Darussalam"
         ],
         "legendgroup": "East Asia & Pacific",
         "marker": {
          "color": "#636efa",
          "opacity": 0.75,
          "size": [
           10338.2705428349,
           11723.8735008808,
           4063.23970896116,
           3925.94815881534,
           7810.73497037483,
           11445.6140283799,
           62200.8820427958
          ],
          "sizemode": "area",
          "sizeref": 213.22612607424824,
          "symbol": "circle"
         },
         "mode": "markers",
         "name": "East Asia & Pacific",
         "orientation": "v",
         "showlegend": true,
         "type": "scatter",
         "x": [
          0.677569602932463,
          1.26823593921714,
          1.53382336805543,
          7.0758564675877,
          0,
          0.642365487718348,
          8.02099930041582
         ],
         "xaxis": "x",
         "y": [
          2.93999999999815,
          -4.55775197337685,
          -3.49999998706522,
          10.37185523562,
          0.503031829677198,
          -2.06500494092904,
          1.1335733495246
         ],
         "yaxis": "y"
        },
        {
         "customdata": [
          [
           "RUS"
          ],
          [
           "KAZ"
          ],
          [
           "AZE"
          ],
          [
           "AZE"
          ],
          [
           "UZB"
          ],
          [
           "ALB"
          ],
          [
           "NOR"
          ]
         ],
         "hovertemplate": "<b>%{hovertext}</b><br><br>WB Region=Europe & Central Asia<br>Oil Rents as a Percentage of Total GDP=%{x}<br>GDP Growth=%{y}<br>GDP Per Capita=%{marker.size}<br>iso3c=%{customdata[0]}<extra></extra>",
         "hovertext": [
          "Russia",
          "Kazakhstan",
          "Azerbaijan",
          "Iran",
          "Uzbekistan",
          "Albania",
          "Norway"
         ],
         "legendgroup": "Europe & Central Asia",
         "marker": {
          "color": "#EF553B",
          "opacity": 0.75,
          "size": [
           26578.4609375,
           25361.5079910015,
           13726.7696576885,
           13726.7696576885,
           7344.22032645899,
           13253.7333373551,
           63548.0008158322
          ],
          "sizemode": "area",
          "sizeref": 213.22612607424824,
          "symbol": "x"
         },
         "mode": "markers",
         "name": "Europe & Central Asia",
         "orientation": "v",
         "showlegend": true,
         "type": "scatter",
         "x": [
          6.05931737852333,
          9.33823510730207,
          15.2778670937422,
          15.2778670937422,
          0.709234635037206,
          1.05395231261002,
          4.28975028571155
         ],
         "xaxis": "x",
         "y": [
          -2.68329621644421,
          -2.50000000028746,
          -4.30000010230737,
          -4.30000010230737,
          1.88624525878936,
          -3.48163037314293,
          -0.717182669244792
         ],
         "yaxis": "y"
        },
        {
         "customdata": [
          [
           "SUR"
          ],
          [
           "CHL"
          ],
          [
           "PER"
          ],
          [
           "ECU"
          ],
          [
           "TTO"
          ],
          [
           "MEX"
          ],
          [
           "GUY"
          ],
          [
           "BOL"
          ]
         ],
         "hovertemplate": "<b>%{hovertext}</b><br><br>WB Region=Latin America & Caribbean <br>Oil Rents as a Percentage of Total GDP=%{x}<br>GDP Growth=%{y}<br>GDP Per Capita=%{marker.size}<br>iso3c=%{customdata[0]}<extra></extra>",
         "hovertext": [
          "Suriname",
          "Chile",
          "Peru",
          "Ecuador",
          "Trinidad and Tobago",
          "Mexico",
          "Guyana",
          "Bolivia"
         ],
         "legendgroup": "Latin America & Caribbean ",
         "marker": {
          "color": "#00cc96",
          "opacity": 0.75,
          "size": [
           15864.5510032255,
           23239.3700619175,
           11289.7696753248,
           10325.0017094216,
           24768.6815527811,
           17878.2772936361,
           18679.955428894,
           7853.05397242703
          ],
          "sizemode": "area",
          "sizeref": 213.22612607424824,
          "symbol": "square"
         },
         "mode": "markers",
         "name": "Latin America & Caribbean ",
         "orientation": "v",
         "showlegend": true,
         "type": "scatter",
         "x": [
          4.86697404047157,
          0.0179013582337524,
          0.177919471507211,
          4.39456553754512,
          2.36946843809843,
          1.447821520573,
          12.3019331980902,
          0.796516049352838
         ],
         "xaxis": "x",
         "y": [
          -15.9079511896139,
          -5.9782240617438,
          -10.9526989325015,
          -7.78760709093422,
          -7.37428526501073,
          -8.16735801037942,
          43.4795559399402,
          -8.7378843576993
         ],
         "yaxis": "y"
        },
        {
         "customdata": [
          [
           "QAT"
          ],
          [
           "OMN"
          ],
          [
           "SAU"
          ],
          [
           "DZA"
          ],
          [
           "BHR"
          ],
          [
           "LBY"
          ],
          [
           "IRQ"
          ]
         ],
         "hovertemplate": "<b>%{hovertext}</b><br><br>WB Region=Middle East & North Africa<br>Oil Rents as a Percentage of Total GDP=%{x}<br>GDP Growth=%{y}<br>GDP Per Capita=%{marker.size}<br>iso3c=%{customdata[0]}<extra></extra>",
         "hovertext": [
          "Qatar",
          "Oman",
          "Saudi Arabia",
          "Algeria",
          "Bahrain",
          "Libya",
          "Iraq"
         ],
         "legendgroup": "Middle East & North Africa",
         "marker": {
          "color": "#ab63fa",
          "opacity": 0.75,
          "size": [
           85290.4504296993,
           29502.0596686431,
           44349.4728252942,
           10735.3825391141,
           41545.8414992942,
           16388.8243188775,
           9437.49516570457
          ],
          "sizemode": "area",
          "sizeref": 213.22612607424824,
          "symbol": "cross"
         },
         "mode": "markers",
         "name": "Middle East & North Africa",
         "orientation": "v",
         "showlegend": true,
         "type": "scatter",
         "x": [
          11.655722914041,
          19.366174984889,
          17.6953434542833,
          10.1943460569889,
          7.35913107256516,
          21.1421479342577,
          32.2392618296629
         ],
         "xaxis": "x",
         "y": [
          -3.64044980532107,
          -3.2009359899042,
          -4.13767037552623,
          -5.0999999999227,
          -4.93585497941497,
          -23.9297824475795,
          -11.3241992616186
         ],
         "yaxis": "y"
        },
        {
         "customdata": [
          [
           "COG"
          ],
          [
           "LBR"
          ],
          [
           "NER"
          ],
          [
           "GIN"
          ],
          [
           "MLI"
          ],
          [
           "TCD"
          ],
          [
           "ZMB"
          ],
          [
           "BWA"
          ],
          [
           "NGA"
          ],
          [
           "CMR"
          ],
          [
           "SDN"
          ],
          [
           "CIV"
          ],
          [
           "GNQ"
          ],
          [
           "GAB"
          ],
          [
           "AGO"
          ],
          [
           "MRT"
          ],
          [
           "COD"
          ]
         ],
         "hovertemplate": "<b>%{hovertext}</b><br><br>WB Region=Sub-Saharan Africa <br>Oil Rents as a Percentage of Total GDP=%{x}<br>GDP Growth=%{y}<br>GDP Per Capita=%{marker.size}<br>iso3c=%{customdata[0]}<extra></extra>",
         "hovertext": [
          "Congo, Rep. of",
          "Liberia",
          "Niger",
          "Guinea",
          "Mali",
          "Chad",
          "Zambia",
          "Botswana",
          "Nigeria",
          "Cameroon",
          "Sudan",
          "Cote d'Ivoire",
          "Equatorial Guinea",
          "Gabon",
          "Angola",
          "Mauritania",
          "Congo, Dem. Rep"
         ],
         "legendgroup": "Sub-Saharan Africa ",
         "marker": {
          "color": "#FFA15A",
          "opacity": 0.75,
          "size": [
           3497.5654537581,
           1392.01092366288,
           1221.26993034856,
           2611.40331106969,
           2225.89423802753,
           1509.02717218037,
           3277.81650999621,
           14667.8037179871,
           4916.72138086439,
           3666.41062571774,
           3927.0439453125,
           5181.31116022878,
           17214.7381839077,
           14320.8446459612,
           6141.96383913753,
           5109.80494793199,
           1082.44524222678
          ],
          "sizemode": "area",
          "sizeref": 213.22612607424824,
          "symbol": "diamond"
         },
         "mode": "markers",
         "name": "Sub-Saharan Africa ",
         "orientation": "v",
         "showlegend": true,
         "type": "scatter",
         "x": [
          31.9101871168981,
          0,
          0.732430911740999,
          0,
          0,
          11.3338884884912,
          0,
          0,
          4.40967384696464,
          1.7314143892434,
          3.21588058687045,
          null,
          15.6036823965216,
          14.3218738678033,
          24.028004023435,
          0,
          0.500317774125912
         ],
         "xaxis": "x",
         "y": [
          -6.23931963197583,
          -2.98249214979133,
          3.58000640281861,
          4.63727753630549,
          -1.235450447077,
          -1.60000673705524,
          -2.78505506545167,
          -8.72641034557256,
          -1.79425308233591,
          0.491914742161129,
          -3.62980562615675,
          1.95833247878154,
          -4.24147816609674,
          -1.83776092953785,
          -5.50000000331273,
          -1.76332179417277,
          1.7354227636007
         ],
         "yaxis": "y"
        },
        {
         "hovertemplate": "<b>OLS trendline</b><br>GDP_grow = -0.135176 * OR + -1.70931<br>R<sup>2</sup>=0.017063<br><br>Oil Rents as a Percentage of Total GDP=%{x}<br>GDP Growth=%{y} <b>(trend)</b><extra></extra>",
         "legendgroup": "Overall Trendline",
         "line": {
          "color": "black"
         },
         "mode": "lines",
         "name": "Overall Trendline",
         "showlegend": true,
         "type": "scatter",
         "x": [
          0,
          0,
          0,
          0,
          0,
          0,
          0,
          0.0179013582337524,
          0.177919471507211,
          0.500317774125912,
          0.642365487718348,
          0.677569602932463,
          0.709234635037206,
          0.732430911740999,
          0.796516049352838,
          1.05395231261002,
          1.26823593921714,
          1.447821520573,
          1.53382336805543,
          1.7314143892434,
          2.36946843809843,
          3.21588058687045,
          4.28975028571155,
          4.39456553754512,
          4.40967384696464,
          4.86697404047157,
          6.05931737852333,
          7.0758564675877,
          7.35913107256516,
          8.02099930041582,
          9.33823510730207,
          10.1943460569889,
          11.3338884884912,
          11.655722914041,
          12.3019331980902,
          14.3218738678033,
          15.2778670937422,
          15.2778670937422,
          15.6036823965216,
          17.6953434542833,
          19.366174984889,
          21.1421479342577,
          24.028004023435,
          31.9101871168981,
          32.2392618296629
         ],
         "xaxis": "x",
         "y": [
          -1.7093074025431643,
          -1.7093074025431643,
          -1.7093074025431643,
          -1.7093074025431643,
          -1.7093074025431643,
          -1.7093074025431643,
          -1.7093074025431643,
          -1.711727242923644,
          -1.7333579084324344,
          -1.776938536286916,
          -1.7961400286439442,
          -1.80089879266854,
          -1.8051791563334478,
          -1.8083147445000927,
          -1.8169775399012456,
          -1.85177683597114,
          -1.8807429158500353,
          -1.905018640397992,
          -1.9166440567835195,
          -1.9433536910831894,
          -2.029603512587626,
          -2.144018422863291,
          -2.2891802159908066,
          -2.303348759827822,
          -2.3053910460463736,
          -2.367207219981316,
          -2.5283838479856526,
          -2.6657958981739034,
          -2.7040879271327176,
          -2.793556862584215,
          -2.9716159994662132,
          -3.0873419583108994,
          -3.241381152153764,
          -3.284885557160619,
          -3.3722379088204675,
          -3.6452861286772933,
          -3.774513809693725,
          -3.774513809693725,
          -3.818556335179715,
          -4.101299455771865,
          -4.327156374221524,
          -4.567225926565295,
          -4.957325437767653,
          -6.022810228744883,
          -6.067293349396683
         ],
         "yaxis": "y"
        }
       ],
       "layout": {
        "height": 800,
        "legend": {
         "itemsizing": "constant",
         "title": {
          "text": "WB Region"
         },
         "tracegroupgap": 0
        },
        "margin": {
         "t": 60
        },
        "template": {
         "data": {
          "bar": [
           {
            "error_x": {
             "color": "#2a3f5f"
            },
            "error_y": {
             "color": "#2a3f5f"
            },
            "marker": {
             "line": {
              "color": "#E5ECF6",
              "width": 0.5
             },
             "pattern": {
              "fillmode": "overlay",
              "size": 10,
              "solidity": 0.2
             }
            },
            "type": "bar"
           }
          ],
          "barpolar": [
           {
            "marker": {
             "line": {
              "color": "#E5ECF6",
              "width": 0.5
             },
             "pattern": {
              "fillmode": "overlay",
              "size": 10,
              "solidity": 0.2
             }
            },
            "type": "barpolar"
           }
          ],
          "carpet": [
           {
            "aaxis": {
             "endlinecolor": "#2a3f5f",
             "gridcolor": "white",
             "linecolor": "white",
             "minorgridcolor": "white",
             "startlinecolor": "#2a3f5f"
            },
            "baxis": {
             "endlinecolor": "#2a3f5f",
             "gridcolor": "white",
             "linecolor": "white",
             "minorgridcolor": "white",
             "startlinecolor": "#2a3f5f"
            },
            "type": "carpet"
           }
          ],
          "choropleth": [
           {
            "colorbar": {
             "outlinewidth": 0,
             "ticks": ""
            },
            "type": "choropleth"
           }
          ],
          "contour": [
           {
            "colorbar": {
             "outlinewidth": 0,
             "ticks": ""
            },
            "colorscale": [
             [
              0,
              "#0d0887"
             ],
             [
              0.1111111111111111,
              "#46039f"
             ],
             [
              0.2222222222222222,
              "#7201a8"
             ],
             [
              0.3333333333333333,
              "#9c179e"
             ],
             [
              0.4444444444444444,
              "#bd3786"
             ],
             [
              0.5555555555555556,
              "#d8576b"
             ],
             [
              0.6666666666666666,
              "#ed7953"
             ],
             [
              0.7777777777777778,
              "#fb9f3a"
             ],
             [
              0.8888888888888888,
              "#fdca26"
             ],
             [
              1,
              "#f0f921"
             ]
            ],
            "type": "contour"
           }
          ],
          "contourcarpet": [
           {
            "colorbar": {
             "outlinewidth": 0,
             "ticks": ""
            },
            "type": "contourcarpet"
           }
          ],
          "heatmap": [
           {
            "colorbar": {
             "outlinewidth": 0,
             "ticks": ""
            },
            "colorscale": [
             [
              0,
              "#0d0887"
             ],
             [
              0.1111111111111111,
              "#46039f"
             ],
             [
              0.2222222222222222,
              "#7201a8"
             ],
             [
              0.3333333333333333,
              "#9c179e"
             ],
             [
              0.4444444444444444,
              "#bd3786"
             ],
             [
              0.5555555555555556,
              "#d8576b"
             ],
             [
              0.6666666666666666,
              "#ed7953"
             ],
             [
              0.7777777777777778,
              "#fb9f3a"
             ],
             [
              0.8888888888888888,
              "#fdca26"
             ],
             [
              1,
              "#f0f921"
             ]
            ],
            "type": "heatmap"
           }
          ],
          "heatmapgl": [
           {
            "colorbar": {
             "outlinewidth": 0,
             "ticks": ""
            },
            "colorscale": [
             [
              0,
              "#0d0887"
             ],
             [
              0.1111111111111111,
              "#46039f"
             ],
             [
              0.2222222222222222,
              "#7201a8"
             ],
             [
              0.3333333333333333,
              "#9c179e"
             ],
             [
              0.4444444444444444,
              "#bd3786"
             ],
             [
              0.5555555555555556,
              "#d8576b"
             ],
             [
              0.6666666666666666,
              "#ed7953"
             ],
             [
              0.7777777777777778,
              "#fb9f3a"
             ],
             [
              0.8888888888888888,
              "#fdca26"
             ],
             [
              1,
              "#f0f921"
             ]
            ],
            "type": "heatmapgl"
           }
          ],
          "histogram": [
           {
            "marker": {
             "pattern": {
              "fillmode": "overlay",
              "size": 10,
              "solidity": 0.2
             }
            },
            "type": "histogram"
           }
          ],
          "histogram2d": [
           {
            "colorbar": {
             "outlinewidth": 0,
             "ticks": ""
            },
            "colorscale": [
             [
              0,
              "#0d0887"
             ],
             [
              0.1111111111111111,
              "#46039f"
             ],
             [
              0.2222222222222222,
              "#7201a8"
             ],
             [
              0.3333333333333333,
              "#9c179e"
             ],
             [
              0.4444444444444444,
              "#bd3786"
             ],
             [
              0.5555555555555556,
              "#d8576b"
             ],
             [
              0.6666666666666666,
              "#ed7953"
             ],
             [
              0.7777777777777778,
              "#fb9f3a"
             ],
             [
              0.8888888888888888,
              "#fdca26"
             ],
             [
              1,
              "#f0f921"
             ]
            ],
            "type": "histogram2d"
           }
          ],
          "histogram2dcontour": [
           {
            "colorbar": {
             "outlinewidth": 0,
             "ticks": ""
            },
            "colorscale": [
             [
              0,
              "#0d0887"
             ],
             [
              0.1111111111111111,
              "#46039f"
             ],
             [
              0.2222222222222222,
              "#7201a8"
             ],
             [
              0.3333333333333333,
              "#9c179e"
             ],
             [
              0.4444444444444444,
              "#bd3786"
             ],
             [
              0.5555555555555556,
              "#d8576b"
             ],
             [
              0.6666666666666666,
              "#ed7953"
             ],
             [
              0.7777777777777778,
              "#fb9f3a"
             ],
             [
              0.8888888888888888,
              "#fdca26"
             ],
             [
              1,
              "#f0f921"
             ]
            ],
            "type": "histogram2dcontour"
           }
          ],
          "mesh3d": [
           {
            "colorbar": {
             "outlinewidth": 0,
             "ticks": ""
            },
            "type": "mesh3d"
           }
          ],
          "parcoords": [
           {
            "line": {
             "colorbar": {
              "outlinewidth": 0,
              "ticks": ""
             }
            },
            "type": "parcoords"
           }
          ],
          "pie": [
           {
            "automargin": true,
            "type": "pie"
           }
          ],
          "scatter": [
           {
            "fillpattern": {
             "fillmode": "overlay",
             "size": 10,
             "solidity": 0.2
            },
            "type": "scatter"
           }
          ],
          "scatter3d": [
           {
            "line": {
             "colorbar": {
              "outlinewidth": 0,
              "ticks": ""
             }
            },
            "marker": {
             "colorbar": {
              "outlinewidth": 0,
              "ticks": ""
             }
            },
            "type": "scatter3d"
           }
          ],
          "scattercarpet": [
           {
            "marker": {
             "colorbar": {
              "outlinewidth": 0,
              "ticks": ""
             }
            },
            "type": "scattercarpet"
           }
          ],
          "scattergeo": [
           {
            "marker": {
             "colorbar": {
              "outlinewidth": 0,
              "ticks": ""
             }
            },
            "type": "scattergeo"
           }
          ],
          "scattergl": [
           {
            "marker": {
             "colorbar": {
              "outlinewidth": 0,
              "ticks": ""
             }
            },
            "type": "scattergl"
           }
          ],
          "scattermapbox": [
           {
            "marker": {
             "colorbar": {
              "outlinewidth": 0,
              "ticks": ""
             }
            },
            "type": "scattermapbox"
           }
          ],
          "scatterpolar": [
           {
            "marker": {
             "colorbar": {
              "outlinewidth": 0,
              "ticks": ""
             }
            },
            "type": "scatterpolar"
           }
          ],
          "scatterpolargl": [
           {
            "marker": {
             "colorbar": {
              "outlinewidth": 0,
              "ticks": ""
             }
            },
            "type": "scatterpolargl"
           }
          ],
          "scatterternary": [
           {
            "marker": {
             "colorbar": {
              "outlinewidth": 0,
              "ticks": ""
             }
            },
            "type": "scatterternary"
           }
          ],
          "surface": [
           {
            "colorbar": {
             "outlinewidth": 0,
             "ticks": ""
            },
            "colorscale": [
             [
              0,
              "#0d0887"
             ],
             [
              0.1111111111111111,
              "#46039f"
             ],
             [
              0.2222222222222222,
              "#7201a8"
             ],
             [
              0.3333333333333333,
              "#9c179e"
             ],
             [
              0.4444444444444444,
              "#bd3786"
             ],
             [
              0.5555555555555556,
              "#d8576b"
             ],
             [
              0.6666666666666666,
              "#ed7953"
             ],
             [
              0.7777777777777778,
              "#fb9f3a"
             ],
             [
              0.8888888888888888,
              "#fdca26"
             ],
             [
              1,
              "#f0f921"
             ]
            ],
            "type": "surface"
           }
          ],
          "table": [
           {
            "cells": {
             "fill": {
              "color": "#EBF0F8"
             },
             "line": {
              "color": "white"
             }
            },
            "header": {
             "fill": {
              "color": "#C8D4E3"
             },
             "line": {
              "color": "white"
             }
            },
            "type": "table"
           }
          ]
         },
         "layout": {
          "annotationdefaults": {
           "arrowcolor": "#2a3f5f",
           "arrowhead": 0,
           "arrowwidth": 1
          },
          "autotypenumbers": "strict",
          "coloraxis": {
           "colorbar": {
            "outlinewidth": 0,
            "ticks": ""
           }
          },
          "colorscale": {
           "diverging": [
            [
             0,
             "#8e0152"
            ],
            [
             0.1,
             "#c51b7d"
            ],
            [
             0.2,
             "#de77ae"
            ],
            [
             0.3,
             "#f1b6da"
            ],
            [
             0.4,
             "#fde0ef"
            ],
            [
             0.5,
             "#f7f7f7"
            ],
            [
             0.6,
             "#e6f5d0"
            ],
            [
             0.7,
             "#b8e186"
            ],
            [
             0.8,
             "#7fbc41"
            ],
            [
             0.9,
             "#4d9221"
            ],
            [
             1,
             "#276419"
            ]
           ],
           "sequential": [
            [
             0,
             "#0d0887"
            ],
            [
             0.1111111111111111,
             "#46039f"
            ],
            [
             0.2222222222222222,
             "#7201a8"
            ],
            [
             0.3333333333333333,
             "#9c179e"
            ],
            [
             0.4444444444444444,
             "#bd3786"
            ],
            [
             0.5555555555555556,
             "#d8576b"
            ],
            [
             0.6666666666666666,
             "#ed7953"
            ],
            [
             0.7777777777777778,
             "#fb9f3a"
            ],
            [
             0.8888888888888888,
             "#fdca26"
            ],
            [
             1,
             "#f0f921"
            ]
           ],
           "sequentialminus": [
            [
             0,
             "#0d0887"
            ],
            [
             0.1111111111111111,
             "#46039f"
            ],
            [
             0.2222222222222222,
             "#7201a8"
            ],
            [
             0.3333333333333333,
             "#9c179e"
            ],
            [
             0.4444444444444444,
             "#bd3786"
            ],
            [
             0.5555555555555556,
             "#d8576b"
            ],
            [
             0.6666666666666666,
             "#ed7953"
            ],
            [
             0.7777777777777778,
             "#fb9f3a"
            ],
            [
             0.8888888888888888,
             "#fdca26"
            ],
            [
             1,
             "#f0f921"
            ]
           ]
          },
          "colorway": [
           "#636efa",
           "#EF553B",
           "#00cc96",
           "#ab63fa",
           "#FFA15A",
           "#19d3f3",
           "#FF6692",
           "#B6E880",
           "#FF97FF",
           "#FECB52"
          ],
          "font": {
           "color": "#2a3f5f"
          },
          "geo": {
           "bgcolor": "white",
           "lakecolor": "white",
           "landcolor": "#E5ECF6",
           "showlakes": true,
           "showland": true,
           "subunitcolor": "white"
          },
          "hoverlabel": {
           "align": "left"
          },
          "hovermode": "closest",
          "mapbox": {
           "style": "light"
          },
          "paper_bgcolor": "white",
          "plot_bgcolor": "#E5ECF6",
          "polar": {
           "angularaxis": {
            "gridcolor": "white",
            "linecolor": "white",
            "ticks": ""
           },
           "bgcolor": "#E5ECF6",
           "radialaxis": {
            "gridcolor": "white",
            "linecolor": "white",
            "ticks": ""
           }
          },
          "scene": {
           "xaxis": {
            "backgroundcolor": "#E5ECF6",
            "gridcolor": "white",
            "gridwidth": 2,
            "linecolor": "white",
            "showbackground": true,
            "ticks": "",
            "zerolinecolor": "white"
           },
           "yaxis": {
            "backgroundcolor": "#E5ECF6",
            "gridcolor": "white",
            "gridwidth": 2,
            "linecolor": "white",
            "showbackground": true,
            "ticks": "",
            "zerolinecolor": "white"
           },
           "zaxis": {
            "backgroundcolor": "#E5ECF6",
            "gridcolor": "white",
            "gridwidth": 2,
            "linecolor": "white",
            "showbackground": true,
            "ticks": "",
            "zerolinecolor": "white"
           }
          },
          "shapedefaults": {
           "line": {
            "color": "#2a3f5f"
           }
          },
          "ternary": {
           "aaxis": {
            "gridcolor": "white",
            "linecolor": "white",
            "ticks": ""
           },
           "baxis": {
            "gridcolor": "white",
            "linecolor": "white",
            "ticks": ""
           },
           "bgcolor": "#E5ECF6",
           "caxis": {
            "gridcolor": "white",
            "linecolor": "white",
            "ticks": ""
           }
          },
          "title": {
           "x": 0.05
          },
          "xaxis": {
           "automargin": true,
           "gridcolor": "white",
           "linecolor": "white",
           "ticks": "",
           "title": {
            "standoff": 15
           },
           "zerolinecolor": "white",
           "zerolinewidth": 2
          },
          "yaxis": {
           "automargin": true,
           "gridcolor": "white",
           "linecolor": "white",
           "ticks": "",
           "title": {
            "standoff": 15
           },
           "zerolinecolor": "white",
           "zerolinewidth": 2
          }
         }
        },
        "xaxis": {
         "anchor": "y",
         "domain": [
          0,
          1
         ],
         "title": {
          "text": "Oil Rents as a Percentage of Total GDP"
         }
        },
        "yaxis": {
         "anchor": "x",
         "domain": [
          0,
          1
         ],
         "title": {
          "text": "GDP Growth"
         }
        }
       }
      },
      "text/html": [
       "<div>                            <div id=\"62a55d7e-97ab-4d35-a523-1acb89a2cd0f\" class=\"plotly-graph-div\" style=\"height:800px; width:100%;\"></div>            <script type=\"text/javascript\">                require([\"plotly\"], function(Plotly) {                    window.PLOTLYENV=window.PLOTLYENV || {};                                    if (document.getElementById(\"62a55d7e-97ab-4d35-a523-1acb89a2cd0f\")) {                    Plotly.newPlot(                        \"62a55d7e-97ab-4d35-a523-1acb89a2cd0f\",                        [{\"customdata\":[[\"VNM\"],[\"MNG\"],[\"PNG\"],[\"TLS\"],[\"LAO\"],[\"IDN\"],[\"BRN\"]],\"hovertemplate\":\"<b>%{hovertext}</b><br><br>WB Region=East Asia & Pacific<br>Oil Rents as a Percentage of Total GDP=%{x}<br>GDP Growth=%{y}<br>GDP Per Capita=%{marker.size}<br>iso3c=%{customdata[0]}<extra></extra>\",\"hovertext\":[\"Vietnam\",\"Mongolia\",\"Papua New Guinea\",\"Timor Leste\",\"Lao PDR\",\"Indonesia\",\"Brunei Darussalam\"],\"legendgroup\":\"East Asia & Pacific\",\"marker\":{\"color\":\"#636efa\",\"opacity\":0.75,\"size\":[10338.2705428349,11723.8735008808,4063.23970896116,3925.94815881534,7810.73497037483,11445.6140283799,62200.8820427958],\"sizemode\":\"area\",\"sizeref\":213.22612607424824,\"symbol\":\"circle\"},\"mode\":\"markers\",\"name\":\"East Asia & Pacific\",\"orientation\":\"v\",\"showlegend\":true,\"x\":[0.677569602932463,1.26823593921714,1.53382336805543,7.0758564675877,0.0,0.642365487718348,8.02099930041582],\"xaxis\":\"x\",\"y\":[2.93999999999815,-4.55775197337685,-3.49999998706522,10.37185523562,0.503031829677198,-2.06500494092904,1.1335733495246],\"yaxis\":\"y\",\"type\":\"scatter\"},{\"customdata\":[[\"RUS\"],[\"KAZ\"],[\"AZE\"],[\"AZE\"],[\"UZB\"],[\"ALB\"],[\"NOR\"]],\"hovertemplate\":\"<b>%{hovertext}</b><br><br>WB Region=Europe & Central Asia<br>Oil Rents as a Percentage of Total GDP=%{x}<br>GDP Growth=%{y}<br>GDP Per Capita=%{marker.size}<br>iso3c=%{customdata[0]}<extra></extra>\",\"hovertext\":[\"Russia\",\"Kazakhstan\",\"Azerbaijan\",\"Iran\",\"Uzbekistan\",\"Albania\",\"Norway\"],\"legendgroup\":\"Europe & Central Asia\",\"marker\":{\"color\":\"#EF553B\",\"opacity\":0.75,\"size\":[26578.4609375,25361.5079910015,13726.7696576885,13726.7696576885,7344.22032645899,13253.7333373551,63548.0008158322],\"sizemode\":\"area\",\"sizeref\":213.22612607424824,\"symbol\":\"x\"},\"mode\":\"markers\",\"name\":\"Europe & Central Asia\",\"orientation\":\"v\",\"showlegend\":true,\"x\":[6.05931737852333,9.33823510730207,15.2778670937422,15.2778670937422,0.709234635037206,1.05395231261002,4.28975028571155],\"xaxis\":\"x\",\"y\":[-2.68329621644421,-2.50000000028746,-4.30000010230737,-4.30000010230737,1.88624525878936,-3.48163037314293,-0.717182669244792],\"yaxis\":\"y\",\"type\":\"scatter\"},{\"customdata\":[[\"SUR\"],[\"CHL\"],[\"PER\"],[\"ECU\"],[\"TTO\"],[\"MEX\"],[\"GUY\"],[\"BOL\"]],\"hovertemplate\":\"<b>%{hovertext}</b><br><br>WB Region=Latin America & Caribbean <br>Oil Rents as a Percentage of Total GDP=%{x}<br>GDP Growth=%{y}<br>GDP Per Capita=%{marker.size}<br>iso3c=%{customdata[0]}<extra></extra>\",\"hovertext\":[\"Suriname\",\"Chile\",\"Peru\",\"Ecuador\",\"Trinidad and Tobago\",\"Mexico\",\"Guyana\",\"Bolivia\"],\"legendgroup\":\"Latin America & Caribbean \",\"marker\":{\"color\":\"#00cc96\",\"opacity\":0.75,\"size\":[15864.5510032255,23239.3700619175,11289.7696753248,10325.0017094216,24768.6815527811,17878.2772936361,18679.955428894,7853.05397242703],\"sizemode\":\"area\",\"sizeref\":213.22612607424824,\"symbol\":\"square\"},\"mode\":\"markers\",\"name\":\"Latin America & Caribbean \",\"orientation\":\"v\",\"showlegend\":true,\"x\":[4.86697404047157,0.0179013582337524,0.177919471507211,4.39456553754512,2.36946843809843,1.447821520573,12.3019331980902,0.796516049352838],\"xaxis\":\"x\",\"y\":[-15.9079511896139,-5.9782240617438,-10.9526989325015,-7.78760709093422,-7.37428526501073,-8.16735801037942,43.4795559399402,-8.7378843576993],\"yaxis\":\"y\",\"type\":\"scatter\"},{\"customdata\":[[\"QAT\"],[\"OMN\"],[\"SAU\"],[\"DZA\"],[\"BHR\"],[\"LBY\"],[\"IRQ\"]],\"hovertemplate\":\"<b>%{hovertext}</b><br><br>WB Region=Middle East & North Africa<br>Oil Rents as a Percentage of Total GDP=%{x}<br>GDP Growth=%{y}<br>GDP Per Capita=%{marker.size}<br>iso3c=%{customdata[0]}<extra></extra>\",\"hovertext\":[\"Qatar\",\"Oman\",\"Saudi Arabia\",\"Algeria\",\"Bahrain\",\"Libya\",\"Iraq\"],\"legendgroup\":\"Middle East & North Africa\",\"marker\":{\"color\":\"#ab63fa\",\"opacity\":0.75,\"size\":[85290.4504296993,29502.0596686431,44349.4728252942,10735.3825391141,41545.8414992942,16388.8243188775,9437.49516570457],\"sizemode\":\"area\",\"sizeref\":213.22612607424824,\"symbol\":\"cross\"},\"mode\":\"markers\",\"name\":\"Middle East & North Africa\",\"orientation\":\"v\",\"showlegend\":true,\"x\":[11.655722914041,19.366174984889,17.6953434542833,10.1943460569889,7.35913107256516,21.1421479342577,32.2392618296629],\"xaxis\":\"x\",\"y\":[-3.64044980532107,-3.2009359899042,-4.13767037552623,-5.0999999999227,-4.93585497941497,-23.9297824475795,-11.3241992616186],\"yaxis\":\"y\",\"type\":\"scatter\"},{\"customdata\":[[\"COG\"],[\"LBR\"],[\"NER\"],[\"GIN\"],[\"MLI\"],[\"TCD\"],[\"ZMB\"],[\"BWA\"],[\"NGA\"],[\"CMR\"],[\"SDN\"],[\"CIV\"],[\"GNQ\"],[\"GAB\"],[\"AGO\"],[\"MRT\"],[\"COD\"]],\"hovertemplate\":\"<b>%{hovertext}</b><br><br>WB Region=Sub-Saharan Africa <br>Oil Rents as a Percentage of Total GDP=%{x}<br>GDP Growth=%{y}<br>GDP Per Capita=%{marker.size}<br>iso3c=%{customdata[0]}<extra></extra>\",\"hovertext\":[\"Congo, Rep. of\",\"Liberia\",\"Niger\",\"Guinea\",\"Mali\",\"Chad\",\"Zambia\",\"Botswana\",\"Nigeria\",\"Cameroon\",\"Sudan\",\"Cote d'Ivoire\",\"Equatorial Guinea\",\"Gabon\",\"Angola\",\"Mauritania\",\"Congo, Dem. Rep\"],\"legendgroup\":\"Sub-Saharan Africa \",\"marker\":{\"color\":\"#FFA15A\",\"opacity\":0.75,\"size\":[3497.5654537581,1392.01092366288,1221.26993034856,2611.40331106969,2225.89423802753,1509.02717218037,3277.81650999621,14667.8037179871,4916.72138086439,3666.41062571774,3927.0439453125,5181.31116022878,17214.7381839077,14320.8446459612,6141.96383913753,5109.80494793199,1082.44524222678],\"sizemode\":\"area\",\"sizeref\":213.22612607424824,\"symbol\":\"diamond\"},\"mode\":\"markers\",\"name\":\"Sub-Saharan Africa \",\"orientation\":\"v\",\"showlegend\":true,\"x\":[31.9101871168981,0.0,0.732430911740999,0.0,0.0,11.3338884884912,0.0,0.0,4.40967384696464,1.7314143892434,3.21588058687045,null,15.6036823965216,14.3218738678033,24.028004023435,0.0,0.500317774125912],\"xaxis\":\"x\",\"y\":[-6.23931963197583,-2.98249214979133,3.58000640281861,4.63727753630549,-1.235450447077,-1.60000673705524,-2.78505506545167,-8.72641034557256,-1.79425308233591,0.491914742161129,-3.62980562615675,1.95833247878154,-4.24147816609674,-1.83776092953785,-5.50000000331273,-1.76332179417277,1.7354227636007],\"yaxis\":\"y\",\"type\":\"scatter\"},{\"hovertemplate\":\"<b>OLS trendline</b><br>GDP_grow = -0.135176 * OR + -1.70931<br>R<sup>2</sup>=0.017063<br><br>Oil Rents as a Percentage of Total GDP=%{x}<br>GDP Growth=%{y} <b>(trend)</b><extra></extra>\",\"legendgroup\":\"Overall Trendline\",\"line\":{\"color\":\"black\"},\"mode\":\"lines\",\"name\":\"Overall Trendline\",\"showlegend\":true,\"x\":[0.0,0.0,0.0,0.0,0.0,0.0,0.0,0.0179013582337524,0.177919471507211,0.500317774125912,0.642365487718348,0.677569602932463,0.709234635037206,0.732430911740999,0.796516049352838,1.05395231261002,1.26823593921714,1.447821520573,1.53382336805543,1.7314143892434,2.36946843809843,3.21588058687045,4.28975028571155,4.39456553754512,4.40967384696464,4.86697404047157,6.05931737852333,7.0758564675877,7.35913107256516,8.02099930041582,9.33823510730207,10.1943460569889,11.3338884884912,11.655722914041,12.3019331980902,14.3218738678033,15.2778670937422,15.2778670937422,15.6036823965216,17.6953434542833,19.366174984889,21.1421479342577,24.028004023435,31.9101871168981,32.2392618296629],\"y\":[-1.7093074025431643,-1.7093074025431643,-1.7093074025431643,-1.7093074025431643,-1.7093074025431643,-1.7093074025431643,-1.7093074025431643,-1.711727242923644,-1.7333579084324344,-1.776938536286916,-1.7961400286439442,-1.80089879266854,-1.8051791563334478,-1.8083147445000927,-1.8169775399012456,-1.85177683597114,-1.8807429158500353,-1.905018640397992,-1.9166440567835195,-1.9433536910831894,-2.029603512587626,-2.144018422863291,-2.2891802159908066,-2.303348759827822,-2.3053910460463736,-2.367207219981316,-2.5283838479856526,-2.6657958981739034,-2.7040879271327176,-2.793556862584215,-2.9716159994662132,-3.0873419583108994,-3.241381152153764,-3.284885557160619,-3.3722379088204675,-3.6452861286772933,-3.774513809693725,-3.774513809693725,-3.818556335179715,-4.101299455771865,-4.327156374221524,-4.567225926565295,-4.957325437767653,-6.022810228744883,-6.067293349396683],\"type\":\"scatter\",\"xaxis\":\"x\",\"yaxis\":\"y\"}],                        {\"template\":{\"data\":{\"histogram2dcontour\":[{\"type\":\"histogram2dcontour\",\"colorbar\":{\"outlinewidth\":0,\"ticks\":\"\"},\"colorscale\":[[0.0,\"#0d0887\"],[0.1111111111111111,\"#46039f\"],[0.2222222222222222,\"#7201a8\"],[0.3333333333333333,\"#9c179e\"],[0.4444444444444444,\"#bd3786\"],[0.5555555555555556,\"#d8576b\"],[0.6666666666666666,\"#ed7953\"],[0.7777777777777778,\"#fb9f3a\"],[0.8888888888888888,\"#fdca26\"],[1.0,\"#f0f921\"]]}],\"choropleth\":[{\"type\":\"choropleth\",\"colorbar\":{\"outlinewidth\":0,\"ticks\":\"\"}}],\"histogram2d\":[{\"type\":\"histogram2d\",\"colorbar\":{\"outlinewidth\":0,\"ticks\":\"\"},\"colorscale\":[[0.0,\"#0d0887\"],[0.1111111111111111,\"#46039f\"],[0.2222222222222222,\"#7201a8\"],[0.3333333333333333,\"#9c179e\"],[0.4444444444444444,\"#bd3786\"],[0.5555555555555556,\"#d8576b\"],[0.6666666666666666,\"#ed7953\"],[0.7777777777777778,\"#fb9f3a\"],[0.8888888888888888,\"#fdca26\"],[1.0,\"#f0f921\"]]}],\"heatmap\":[{\"type\":\"heatmap\",\"colorbar\":{\"outlinewidth\":0,\"ticks\":\"\"},\"colorscale\":[[0.0,\"#0d0887\"],[0.1111111111111111,\"#46039f\"],[0.2222222222222222,\"#7201a8\"],[0.3333333333333333,\"#9c179e\"],[0.4444444444444444,\"#bd3786\"],[0.5555555555555556,\"#d8576b\"],[0.6666666666666666,\"#ed7953\"],[0.7777777777777778,\"#fb9f3a\"],[0.8888888888888888,\"#fdca26\"],[1.0,\"#f0f921\"]]}],\"heatmapgl\":[{\"type\":\"heatmapgl\",\"colorbar\":{\"outlinewidth\":0,\"ticks\":\"\"},\"colorscale\":[[0.0,\"#0d0887\"],[0.1111111111111111,\"#46039f\"],[0.2222222222222222,\"#7201a8\"],[0.3333333333333333,\"#9c179e\"],[0.4444444444444444,\"#bd3786\"],[0.5555555555555556,\"#d8576b\"],[0.6666666666666666,\"#ed7953\"],[0.7777777777777778,\"#fb9f3a\"],[0.8888888888888888,\"#fdca26\"],[1.0,\"#f0f921\"]]}],\"contourcarpet\":[{\"type\":\"contourcarpet\",\"colorbar\":{\"outlinewidth\":0,\"ticks\":\"\"}}],\"contour\":[{\"type\":\"contour\",\"colorbar\":{\"outlinewidth\":0,\"ticks\":\"\"},\"colorscale\":[[0.0,\"#0d0887\"],[0.1111111111111111,\"#46039f\"],[0.2222222222222222,\"#7201a8\"],[0.3333333333333333,\"#9c179e\"],[0.4444444444444444,\"#bd3786\"],[0.5555555555555556,\"#d8576b\"],[0.6666666666666666,\"#ed7953\"],[0.7777777777777778,\"#fb9f3a\"],[0.8888888888888888,\"#fdca26\"],[1.0,\"#f0f921\"]]}],\"surface\":[{\"type\":\"surface\",\"colorbar\":{\"outlinewidth\":0,\"ticks\":\"\"},\"colorscale\":[[0.0,\"#0d0887\"],[0.1111111111111111,\"#46039f\"],[0.2222222222222222,\"#7201a8\"],[0.3333333333333333,\"#9c179e\"],[0.4444444444444444,\"#bd3786\"],[0.5555555555555556,\"#d8576b\"],[0.6666666666666666,\"#ed7953\"],[0.7777777777777778,\"#fb9f3a\"],[0.8888888888888888,\"#fdca26\"],[1.0,\"#f0f921\"]]}],\"mesh3d\":[{\"type\":\"mesh3d\",\"colorbar\":{\"outlinewidth\":0,\"ticks\":\"\"}}],\"scatter\":[{\"fillpattern\":{\"fillmode\":\"overlay\",\"size\":10,\"solidity\":0.2},\"type\":\"scatter\"}],\"parcoords\":[{\"type\":\"parcoords\",\"line\":{\"colorbar\":{\"outlinewidth\":0,\"ticks\":\"\"}}}],\"scatterpolargl\":[{\"type\":\"scatterpolargl\",\"marker\":{\"colorbar\":{\"outlinewidth\":0,\"ticks\":\"\"}}}],\"bar\":[{\"error_x\":{\"color\":\"#2a3f5f\"},\"error_y\":{\"color\":\"#2a3f5f\"},\"marker\":{\"line\":{\"color\":\"#E5ECF6\",\"width\":0.5},\"pattern\":{\"fillmode\":\"overlay\",\"size\":10,\"solidity\":0.2}},\"type\":\"bar\"}],\"scattergeo\":[{\"type\":\"scattergeo\",\"marker\":{\"colorbar\":{\"outlinewidth\":0,\"ticks\":\"\"}}}],\"scatterpolar\":[{\"type\":\"scatterpolar\",\"marker\":{\"colorbar\":{\"outlinewidth\":0,\"ticks\":\"\"}}}],\"histogram\":[{\"marker\":{\"pattern\":{\"fillmode\":\"overlay\",\"size\":10,\"solidity\":0.2}},\"type\":\"histogram\"}],\"scattergl\":[{\"type\":\"scattergl\",\"marker\":{\"colorbar\":{\"outlinewidth\":0,\"ticks\":\"\"}}}],\"scatter3d\":[{\"type\":\"scatter3d\",\"line\":{\"colorbar\":{\"outlinewidth\":0,\"ticks\":\"\"}},\"marker\":{\"colorbar\":{\"outlinewidth\":0,\"ticks\":\"\"}}}],\"scattermapbox\":[{\"type\":\"scattermapbox\",\"marker\":{\"colorbar\":{\"outlinewidth\":0,\"ticks\":\"\"}}}],\"scatterternary\":[{\"type\":\"scatterternary\",\"marker\":{\"colorbar\":{\"outlinewidth\":0,\"ticks\":\"\"}}}],\"scattercarpet\":[{\"type\":\"scattercarpet\",\"marker\":{\"colorbar\":{\"outlinewidth\":0,\"ticks\":\"\"}}}],\"carpet\":[{\"aaxis\":{\"endlinecolor\":\"#2a3f5f\",\"gridcolor\":\"white\",\"linecolor\":\"white\",\"minorgridcolor\":\"white\",\"startlinecolor\":\"#2a3f5f\"},\"baxis\":{\"endlinecolor\":\"#2a3f5f\",\"gridcolor\":\"white\",\"linecolor\":\"white\",\"minorgridcolor\":\"white\",\"startlinecolor\":\"#2a3f5f\"},\"type\":\"carpet\"}],\"table\":[{\"cells\":{\"fill\":{\"color\":\"#EBF0F8\"},\"line\":{\"color\":\"white\"}},\"header\":{\"fill\":{\"color\":\"#C8D4E3\"},\"line\":{\"color\":\"white\"}},\"type\":\"table\"}],\"barpolar\":[{\"marker\":{\"line\":{\"color\":\"#E5ECF6\",\"width\":0.5},\"pattern\":{\"fillmode\":\"overlay\",\"size\":10,\"solidity\":0.2}},\"type\":\"barpolar\"}],\"pie\":[{\"automargin\":true,\"type\":\"pie\"}]},\"layout\":{\"autotypenumbers\":\"strict\",\"colorway\":[\"#636efa\",\"#EF553B\",\"#00cc96\",\"#ab63fa\",\"#FFA15A\",\"#19d3f3\",\"#FF6692\",\"#B6E880\",\"#FF97FF\",\"#FECB52\"],\"font\":{\"color\":\"#2a3f5f\"},\"hovermode\":\"closest\",\"hoverlabel\":{\"align\":\"left\"},\"paper_bgcolor\":\"white\",\"plot_bgcolor\":\"#E5ECF6\",\"polar\":{\"bgcolor\":\"#E5ECF6\",\"angularaxis\":{\"gridcolor\":\"white\",\"linecolor\":\"white\",\"ticks\":\"\"},\"radialaxis\":{\"gridcolor\":\"white\",\"linecolor\":\"white\",\"ticks\":\"\"}},\"ternary\":{\"bgcolor\":\"#E5ECF6\",\"aaxis\":{\"gridcolor\":\"white\",\"linecolor\":\"white\",\"ticks\":\"\"},\"baxis\":{\"gridcolor\":\"white\",\"linecolor\":\"white\",\"ticks\":\"\"},\"caxis\":{\"gridcolor\":\"white\",\"linecolor\":\"white\",\"ticks\":\"\"}},\"coloraxis\":{\"colorbar\":{\"outlinewidth\":0,\"ticks\":\"\"}},\"colorscale\":{\"sequential\":[[0.0,\"#0d0887\"],[0.1111111111111111,\"#46039f\"],[0.2222222222222222,\"#7201a8\"],[0.3333333333333333,\"#9c179e\"],[0.4444444444444444,\"#bd3786\"],[0.5555555555555556,\"#d8576b\"],[0.6666666666666666,\"#ed7953\"],[0.7777777777777778,\"#fb9f3a\"],[0.8888888888888888,\"#fdca26\"],[1.0,\"#f0f921\"]],\"sequentialminus\":[[0.0,\"#0d0887\"],[0.1111111111111111,\"#46039f\"],[0.2222222222222222,\"#7201a8\"],[0.3333333333333333,\"#9c179e\"],[0.4444444444444444,\"#bd3786\"],[0.5555555555555556,\"#d8576b\"],[0.6666666666666666,\"#ed7953\"],[0.7777777777777778,\"#fb9f3a\"],[0.8888888888888888,\"#fdca26\"],[1.0,\"#f0f921\"]],\"diverging\":[[0,\"#8e0152\"],[0.1,\"#c51b7d\"],[0.2,\"#de77ae\"],[0.3,\"#f1b6da\"],[0.4,\"#fde0ef\"],[0.5,\"#f7f7f7\"],[0.6,\"#e6f5d0\"],[0.7,\"#b8e186\"],[0.8,\"#7fbc41\"],[0.9,\"#4d9221\"],[1,\"#276419\"]]},\"xaxis\":{\"gridcolor\":\"white\",\"linecolor\":\"white\",\"ticks\":\"\",\"title\":{\"standoff\":15},\"zerolinecolor\":\"white\",\"automargin\":true,\"zerolinewidth\":2},\"yaxis\":{\"gridcolor\":\"white\",\"linecolor\":\"white\",\"ticks\":\"\",\"title\":{\"standoff\":15},\"zerolinecolor\":\"white\",\"automargin\":true,\"zerolinewidth\":2},\"scene\":{\"xaxis\":{\"backgroundcolor\":\"#E5ECF6\",\"gridcolor\":\"white\",\"linecolor\":\"white\",\"showbackground\":true,\"ticks\":\"\",\"zerolinecolor\":\"white\",\"gridwidth\":2},\"yaxis\":{\"backgroundcolor\":\"#E5ECF6\",\"gridcolor\":\"white\",\"linecolor\":\"white\",\"showbackground\":true,\"ticks\":\"\",\"zerolinecolor\":\"white\",\"gridwidth\":2},\"zaxis\":{\"backgroundcolor\":\"#E5ECF6\",\"gridcolor\":\"white\",\"linecolor\":\"white\",\"showbackground\":true,\"ticks\":\"\",\"zerolinecolor\":\"white\",\"gridwidth\":2}},\"shapedefaults\":{\"line\":{\"color\":\"#2a3f5f\"}},\"annotationdefaults\":{\"arrowcolor\":\"#2a3f5f\",\"arrowhead\":0,\"arrowwidth\":1},\"geo\":{\"bgcolor\":\"white\",\"landcolor\":\"#E5ECF6\",\"subunitcolor\":\"white\",\"showland\":true,\"showlakes\":true,\"lakecolor\":\"white\"},\"title\":{\"x\":0.05},\"mapbox\":{\"style\":\"light\"}}},\"xaxis\":{\"anchor\":\"y\",\"domain\":[0.0,1.0],\"title\":{\"text\":\"Oil Rents as a Percentage of Total GDP\"}},\"yaxis\":{\"anchor\":\"x\",\"domain\":[0.0,1.0],\"title\":{\"text\":\"GDP Growth\"}},\"legend\":{\"title\":{\"text\":\"WB Region\"},\"tracegroupgap\":0,\"itemsizing\":\"constant\"},\"margin\":{\"t\":60},\"height\":800},                        {\"responsive\": true}                    ).then(function(){\n",
       "                            \n",
       "var gd = document.getElementById('62a55d7e-97ab-4d35-a523-1acb89a2cd0f');\n",
       "var x = new MutationObserver(function (mutations, observer) {{\n",
       "        var display = window.getComputedStyle(gd).display;\n",
       "        if (!display || display === 'none') {{\n",
       "            console.log([gd, 'removed!']);\n",
       "            Plotly.purge(gd);\n",
       "            observer.disconnect();\n",
       "        }}\n",
       "}});\n",
       "\n",
       "// Listen for the removal of the full notebook cells\n",
       "var notebookContainer = gd.closest('#notebook-container');\n",
       "if (notebookContainer) {{\n",
       "    x.observe(notebookContainer, {childList: true});\n",
       "}}\n",
       "\n",
       "// Listen for the clearing of the current output cell\n",
       "var outputEl = gd.closest('.output');\n",
       "if (outputEl) {{\n",
       "    x.observe(outputEl, {childList: true});\n",
       "}}\n",
       "\n",
       "                        })                };                });            </script>        </div>"
      ]
     },
     "metadata": {},
     "output_type": "display_data"
    }
   ],
   "source": [
    "fig2.show()"
   ]
  },
  {
   "cell_type": "code",
   "execution_count": 59,
   "id": "8f027fe7",
   "metadata": {},
   "outputs": [],
   "source": [
    "symbols = ['circle', 'x', 'square', 'cross', 'diamond', 'star-diamond', 'triangle-up']\n",
    "fig3 = px.scatter(dffig,\n",
    "                 x=\"Exports%\", \n",
    "                 y=\"GDP_grow\", \n",
    "                 color='region',\n",
    "                 symbol='region',\n",
    "                 symbol_sequence=symbols,\n",
    "                 hover_name='Country Name',\n",
    "                 hover_data=['iso3c', 'Exports%', 'GDP_grow'],\n",
    "                 size='gdp_pc',\n",
    "                 size_max=20,\n",
    "                 trendline=\"ols\",\n",
    "                 trendline_scope=\"overall\",\n",
    "                 trendline_color_override=\"black\",\n",
    "                 labels={\n",
    "                     \"Exports%\": \"Total Exports as a Percentage of GDP\",\n",
    "                     \"GDP_grow\": \"GDP Growth\",\n",
    "                     \"region\": \"WB Region\",\n",
    "                     \"gdp_pc\": \"GDP Per Capita\"\n",
    "                 },\n",
    "                 opacity=0.75,\n",
    "                 height=800,\n",
    "                )"
   ]
  },
  {
   "cell_type": "code",
   "execution_count": 60,
   "id": "55998602",
   "metadata": {},
   "outputs": [
    {
     "data": {
      "application/vnd.plotly.v1+json": {
       "config": {
        "plotlyServerURL": "https://plot.ly"
       },
       "data": [
        {
         "customdata": [
          [
           "VNM"
          ],
          [
           "MNG"
          ],
          [
           "PNG"
          ],
          [
           "TLS"
          ],
          [
           "LAO"
          ],
          [
           "IDN"
          ],
          [
           "BRN"
          ]
         ],
         "hovertemplate": "<b>%{hovertext}</b><br><br>WB Region=East Asia & Pacific<br>Total Exports as a Percentage of GDP=%{x}<br>GDP Growth=%{y}<br>GDP Per Capita=%{marker.size}<br>iso3c=%{customdata[0]}<extra></extra>",
         "hovertext": [
          "Vietnam",
          "Mongolia",
          "Papua New Guinea",
          "Timor Leste",
          "Lao PDR",
          "Indonesia",
          "Brunei Darussalam"
         ],
         "legendgroup": "East Asia & Pacific",
         "marker": {
          "color": "#636efa",
          "opacity": 0.75,
          "size": [
           10338.2705428349,
           11723.8735008808,
           4063.23970896116,
           3925.94815881534,
           7810.73497037483,
           11445.6140283799,
           62200.8820427958
          ],
          "sizemode": "area",
          "sizeref": 213.22612607424824,
          "symbol": "circle"
         },
         "mode": "markers",
         "name": "East Asia & Pacific",
         "orientation": "v",
         "showlegend": true,
         "type": "scatter",
         "x": [
          null,
          57.6603497333803,
          null,
          68.7404213995397,
          null,
          17.2714213388682,
          57.3561113888546
         ],
         "xaxis": "x",
         "y": [
          2.93999999999815,
          -4.55775197337685,
          -3.49999998706522,
          10.37185523562,
          0.503031829677198,
          -2.06500494092904,
          1.1335733495246
         ],
         "yaxis": "y"
        },
        {
         "customdata": [
          [
           "RUS"
          ],
          [
           "KAZ"
          ],
          [
           "AZE"
          ],
          [
           "AZE"
          ],
          [
           "UZB"
          ],
          [
           "ALB"
          ],
          [
           "NOR"
          ]
         ],
         "hovertemplate": "<b>%{hovertext}</b><br><br>WB Region=Europe & Central Asia<br>Total Exports as a Percentage of GDP=%{x}<br>GDP Growth=%{y}<br>GDP Per Capita=%{marker.size}<br>iso3c=%{customdata[0]}<extra></extra>",
         "hovertext": [
          "Russia",
          "Kazakhstan",
          "Azerbaijan",
          "Iran",
          "Uzbekistan",
          "Albania",
          "Norway"
         ],
         "legendgroup": "Europe & Central Asia",
         "marker": {
          "color": "#EF553B",
          "opacity": 0.75,
          "size": [
           26578.4609375,
           25361.5079910015,
           13726.7696576885,
           13726.7696576885,
           7344.22032645899,
           13253.7333373551,
           63548.0008158322
          ],
          "sizemode": "area",
          "sizeref": 213.22612607424824,
          "symbol": "x"
         },
         "mode": "markers",
         "name": "Europe & Central Asia",
         "orientation": "v",
         "showlegend": true,
         "type": "scatter",
         "x": [
          25.531215027121,
          30.2259878624921,
          35.6235558660257,
          35.6235558660257,
          24.2880630917945,
          22.7039815429045,
          32.2452592790462
         ],
         "xaxis": "x",
         "y": [
          -2.68329621644421,
          -2.50000000028746,
          -4.30000010230737,
          -4.30000010230737,
          1.88624525878936,
          -3.48163037314293,
          -0.717182669244792
         ],
         "yaxis": "y"
        },
        {
         "customdata": [
          [
           "SUR"
          ],
          [
           "CHL"
          ],
          [
           "PER"
          ],
          [
           "ECU"
          ],
          [
           "TTO"
          ],
          [
           "MEX"
          ],
          [
           "GUY"
          ],
          [
           "BOL"
          ]
         ],
         "hovertemplate": "<b>%{hovertext}</b><br><br>WB Region=Latin America & Caribbean <br>Total Exports as a Percentage of GDP=%{x}<br>GDP Growth=%{y}<br>GDP Per Capita=%{marker.size}<br>iso3c=%{customdata[0]}<extra></extra>",
         "hovertext": [
          "Suriname",
          "Chile",
          "Peru",
          "Ecuador",
          "Trinidad and Tobago",
          "Mexico",
          "Guyana",
          "Bolivia"
         ],
         "legendgroup": "Latin America & Caribbean ",
         "marker": {
          "color": "#00cc96",
          "opacity": 0.75,
          "size": [
           15864.5510032255,
           23239.3700619175,
           11289.7696753248,
           10325.0017094216,
           24768.6815527811,
           17878.2772936361,
           18679.955428894,
           7853.05397242703
          ],
          "sizemode": "area",
          "sizeref": 213.22612607424824,
          "symbol": "square"
         },
         "mode": "markers",
         "name": "Latin America & Caribbean ",
         "orientation": "v",
         "showlegend": true,
         "type": "scatter",
         "x": [
          null,
          31.533534451743,
          22.3808017431295,
          21.8579265957348,
          null,
          39.6030465121765,
          null,
          20.2725897857053
         ],
         "xaxis": "x",
         "y": [
          -15.9079511896139,
          -5.9782240617438,
          -10.9526989325015,
          -7.78760709093422,
          -7.37428526501073,
          -8.16735801037942,
          43.4795559399402,
          -8.7378843576993
         ],
         "yaxis": "y"
        },
        {
         "customdata": [
          [
           "QAT"
          ],
          [
           "OMN"
          ],
          [
           "SAU"
          ],
          [
           "DZA"
          ],
          [
           "BHR"
          ],
          [
           "LBY"
          ],
          [
           "IRQ"
          ]
         ],
         "hovertemplate": "<b>%{hovertext}</b><br><br>WB Region=Middle East & North Africa<br>Total Exports as a Percentage of GDP=%{x}<br>GDP Growth=%{y}<br>GDP Per Capita=%{marker.size}<br>iso3c=%{customdata[0]}<extra></extra>",
         "hovertext": [
          "Qatar",
          "Oman",
          "Saudi Arabia",
          "Algeria",
          "Bahrain",
          "Libya",
          "Iraq"
         ],
         "legendgroup": "Middle East & North Africa",
         "marker": {
          "color": "#ab63fa",
          "opacity": 0.75,
          "size": [
           85290.4504296993,
           29502.0596686431,
           44349.4728252942,
           10735.3825391141,
           41545.8414992942,
           16388.8243188775,
           9437.49516570457
          ],
          "sizemode": "area",
          "sizeref": 213.22612607424824,
          "symbol": "cross"
         },
         "mode": "markers",
         "name": "Middle East & North Africa",
         "orientation": "v",
         "showlegend": true,
         "type": "scatter",
         "x": [
          49.1188782621275,
          44.2454820336123,
          26.1829049524404,
          18.0011749475081,
          72.7153247387956,
          null,
          27.2218072972819
         ],
         "xaxis": "x",
         "y": [
          -3.64044980532107,
          -3.2009359899042,
          -4.13767037552623,
          -5.0999999999227,
          -4.93585497941497,
          -23.9297824475795,
          -11.3241992616186
         ],
         "yaxis": "y"
        },
        {
         "customdata": [
          [
           "COG"
          ],
          [
           "LBR"
          ],
          [
           "NER"
          ],
          [
           "GIN"
          ],
          [
           "MLI"
          ],
          [
           "TCD"
          ],
          [
           "ZMB"
          ],
          [
           "BWA"
          ],
          [
           "NGA"
          ],
          [
           "CMR"
          ],
          [
           "SDN"
          ],
          [
           "CIV"
          ],
          [
           "GNQ"
          ],
          [
           "GAB"
          ],
          [
           "AGO"
          ],
          [
           "MRT"
          ],
          [
           "COD"
          ]
         ],
         "hovertemplate": "<b>%{hovertext}</b><br><br>WB Region=Sub-Saharan Africa <br>Total Exports as a Percentage of GDP=%{x}<br>GDP Growth=%{y}<br>GDP Per Capita=%{marker.size}<br>iso3c=%{customdata[0]}<extra></extra>",
         "hovertext": [
          "Congo, Rep. of",
          "Liberia",
          "Niger",
          "Guinea",
          "Mali",
          "Chad",
          "Zambia",
          "Botswana",
          "Nigeria",
          "Cameroon",
          "Sudan",
          "Cote d'Ivoire",
          "Equatorial Guinea",
          "Gabon",
          "Angola",
          "Mauritania",
          "Congo, Dem. Rep"
         ],
         "legendgroup": "Sub-Saharan Africa ",
         "marker": {
          "color": "#FFA15A",
          "opacity": 0.75,
          "size": [
           3497.5654537581,
           1392.01092366288,
           1221.26993034856,
           2611.40331106969,
           2225.89423802753,
           1509.02717218037,
           3277.81650999621,
           14667.8037179871,
           4916.72138086439,
           3666.41062571774,
           3927.0439453125,
           5181.31116022878,
           17214.7381839077,
           14320.8446459612,
           6141.96383913753,
           5109.80494793199,
           1082.44524222678
          ],
          "sizemode": "area",
          "sizeref": 213.22612607424824,
          "symbol": "diamond"
         },
         "mode": "markers",
         "name": "Sub-Saharan Africa ",
         "orientation": "v",
         "showlegend": true,
         "type": "scatter",
         "x": [
          null,
          null,
          10.2875991447739,
          58.8090590863307,
          30.6566300509484,
          26.7161490487759,
          46.7901653766552,
          31.3537209303685,
          null,
          15.0350691270336,
          0.435765181853457,
          21.5515551658309,
          43.486734954319,
          47.7301165597302,
          37.911272976472,
          39.7750211948715,
          28.6045874477254
         ],
         "xaxis": "x",
         "y": [
          -6.23931963197583,
          -2.98249214979133,
          3.58000640281861,
          4.63727753630549,
          -1.235450447077,
          -1.60000673705524,
          -2.78505506545167,
          -8.72641034557256,
          -1.79425308233591,
          0.491914742161129,
          -3.62980562615675,
          1.95833247878154,
          -4.24147816609674,
          -1.83776092953785,
          -5.50000000331273,
          -1.76332179417277,
          1.7354227636007
         ],
         "yaxis": "y"
        },
        {
         "hovertemplate": "<b>OLS trendline</b><br>GDP_grow = 0.0641372 * Exports% + -5.06419<br>R<sup>2</sup>=0.054940<br><br>Total Exports as a Percentage of GDP=%{x}<br>GDP Growth=%{y} <b>(trend)</b><extra></extra>",
         "legendgroup": "Overall Trendline",
         "line": {
          "color": "black"
         },
         "mode": "lines",
         "name": "Overall Trendline",
         "showlegend": true,
         "type": "scatter",
         "x": [
          0.435765181853457,
          10.2875991447739,
          15.0350691270336,
          17.2714213388682,
          18.0011749475081,
          20.2725897857053,
          21.5515551658309,
          21.8579265957348,
          22.3808017431295,
          22.7039815429045,
          24.2880630917945,
          25.531215027121,
          26.1829049524404,
          26.7161490487759,
          27.2218072972819,
          28.6045874477254,
          30.2259878624921,
          30.6566300509484,
          31.3537209303685,
          31.533534451743,
          32.2452592790462,
          35.6235558660257,
          35.6235558660257,
          37.911272976472,
          39.6030465121765,
          39.7750211948715,
          43.486734954319,
          44.2454820336123,
          46.7901653766552,
          47.7301165597302,
          49.1188782621275,
          57.3561113888546,
          57.6603497333803,
          58.8090590863307,
          68.7404213995397,
          72.7153247387956
         ],
         "xaxis": "x",
         "y": [
          -5.036237958296186,
          -4.404368981503339,
          -4.099879582744131,
          -3.956446229202161,
          -3.9096418811246694,
          -3.7639597091467834,
          -3.6819304596552627,
          -3.662280656109999,
          -3.628744911839624,
          -3.608017066631054,
          -3.5064185225203044,
          -3.426686246851709,
          -3.3848886843016692,
          -3.350687904751335,
          -3.3182564040487352,
          -3.2295687665917203,
          -3.1255766951757673,
          -3.097956513998551,
          -3.0532470616906244,
          -3.041714327156927,
          -2.996066294508514,
          -2.7793918341236052,
          -2.7793918341236052,
          -2.6326640801632974,
          -2.5241584743041083,
          -2.5131285008800988,
          -2.2750695989378675,
          -2.2264056910358407,
          -2.0631968442077238,
          -2.0029110137196953,
          -1.9138397363102708,
          -1.385526725049747,
          -1.3660137316131813,
          -1.2923387380827402,
          -0.6553690361343545,
          -0.40042989330276324
         ],
         "yaxis": "y"
        }
       ],
       "layout": {
        "height": 800,
        "legend": {
         "itemsizing": "constant",
         "title": {
          "text": "WB Region"
         },
         "tracegroupgap": 0
        },
        "margin": {
         "t": 60
        },
        "template": {
         "data": {
          "bar": [
           {
            "error_x": {
             "color": "#2a3f5f"
            },
            "error_y": {
             "color": "#2a3f5f"
            },
            "marker": {
             "line": {
              "color": "#E5ECF6",
              "width": 0.5
             },
             "pattern": {
              "fillmode": "overlay",
              "size": 10,
              "solidity": 0.2
             }
            },
            "type": "bar"
           }
          ],
          "barpolar": [
           {
            "marker": {
             "line": {
              "color": "#E5ECF6",
              "width": 0.5
             },
             "pattern": {
              "fillmode": "overlay",
              "size": 10,
              "solidity": 0.2
             }
            },
            "type": "barpolar"
           }
          ],
          "carpet": [
           {
            "aaxis": {
             "endlinecolor": "#2a3f5f",
             "gridcolor": "white",
             "linecolor": "white",
             "minorgridcolor": "white",
             "startlinecolor": "#2a3f5f"
            },
            "baxis": {
             "endlinecolor": "#2a3f5f",
             "gridcolor": "white",
             "linecolor": "white",
             "minorgridcolor": "white",
             "startlinecolor": "#2a3f5f"
            },
            "type": "carpet"
           }
          ],
          "choropleth": [
           {
            "colorbar": {
             "outlinewidth": 0,
             "ticks": ""
            },
            "type": "choropleth"
           }
          ],
          "contour": [
           {
            "colorbar": {
             "outlinewidth": 0,
             "ticks": ""
            },
            "colorscale": [
             [
              0,
              "#0d0887"
             ],
             [
              0.1111111111111111,
              "#46039f"
             ],
             [
              0.2222222222222222,
              "#7201a8"
             ],
             [
              0.3333333333333333,
              "#9c179e"
             ],
             [
              0.4444444444444444,
              "#bd3786"
             ],
             [
              0.5555555555555556,
              "#d8576b"
             ],
             [
              0.6666666666666666,
              "#ed7953"
             ],
             [
              0.7777777777777778,
              "#fb9f3a"
             ],
             [
              0.8888888888888888,
              "#fdca26"
             ],
             [
              1,
              "#f0f921"
             ]
            ],
            "type": "contour"
           }
          ],
          "contourcarpet": [
           {
            "colorbar": {
             "outlinewidth": 0,
             "ticks": ""
            },
            "type": "contourcarpet"
           }
          ],
          "heatmap": [
           {
            "colorbar": {
             "outlinewidth": 0,
             "ticks": ""
            },
            "colorscale": [
             [
              0,
              "#0d0887"
             ],
             [
              0.1111111111111111,
              "#46039f"
             ],
             [
              0.2222222222222222,
              "#7201a8"
             ],
             [
              0.3333333333333333,
              "#9c179e"
             ],
             [
              0.4444444444444444,
              "#bd3786"
             ],
             [
              0.5555555555555556,
              "#d8576b"
             ],
             [
              0.6666666666666666,
              "#ed7953"
             ],
             [
              0.7777777777777778,
              "#fb9f3a"
             ],
             [
              0.8888888888888888,
              "#fdca26"
             ],
             [
              1,
              "#f0f921"
             ]
            ],
            "type": "heatmap"
           }
          ],
          "heatmapgl": [
           {
            "colorbar": {
             "outlinewidth": 0,
             "ticks": ""
            },
            "colorscale": [
             [
              0,
              "#0d0887"
             ],
             [
              0.1111111111111111,
              "#46039f"
             ],
             [
              0.2222222222222222,
              "#7201a8"
             ],
             [
              0.3333333333333333,
              "#9c179e"
             ],
             [
              0.4444444444444444,
              "#bd3786"
             ],
             [
              0.5555555555555556,
              "#d8576b"
             ],
             [
              0.6666666666666666,
              "#ed7953"
             ],
             [
              0.7777777777777778,
              "#fb9f3a"
             ],
             [
              0.8888888888888888,
              "#fdca26"
             ],
             [
              1,
              "#f0f921"
             ]
            ],
            "type": "heatmapgl"
           }
          ],
          "histogram": [
           {
            "marker": {
             "pattern": {
              "fillmode": "overlay",
              "size": 10,
              "solidity": 0.2
             }
            },
            "type": "histogram"
           }
          ],
          "histogram2d": [
           {
            "colorbar": {
             "outlinewidth": 0,
             "ticks": ""
            },
            "colorscale": [
             [
              0,
              "#0d0887"
             ],
             [
              0.1111111111111111,
              "#46039f"
             ],
             [
              0.2222222222222222,
              "#7201a8"
             ],
             [
              0.3333333333333333,
              "#9c179e"
             ],
             [
              0.4444444444444444,
              "#bd3786"
             ],
             [
              0.5555555555555556,
              "#d8576b"
             ],
             [
              0.6666666666666666,
              "#ed7953"
             ],
             [
              0.7777777777777778,
              "#fb9f3a"
             ],
             [
              0.8888888888888888,
              "#fdca26"
             ],
             [
              1,
              "#f0f921"
             ]
            ],
            "type": "histogram2d"
           }
          ],
          "histogram2dcontour": [
           {
            "colorbar": {
             "outlinewidth": 0,
             "ticks": ""
            },
            "colorscale": [
             [
              0,
              "#0d0887"
             ],
             [
              0.1111111111111111,
              "#46039f"
             ],
             [
              0.2222222222222222,
              "#7201a8"
             ],
             [
              0.3333333333333333,
              "#9c179e"
             ],
             [
              0.4444444444444444,
              "#bd3786"
             ],
             [
              0.5555555555555556,
              "#d8576b"
             ],
             [
              0.6666666666666666,
              "#ed7953"
             ],
             [
              0.7777777777777778,
              "#fb9f3a"
             ],
             [
              0.8888888888888888,
              "#fdca26"
             ],
             [
              1,
              "#f0f921"
             ]
            ],
            "type": "histogram2dcontour"
           }
          ],
          "mesh3d": [
           {
            "colorbar": {
             "outlinewidth": 0,
             "ticks": ""
            },
            "type": "mesh3d"
           }
          ],
          "parcoords": [
           {
            "line": {
             "colorbar": {
              "outlinewidth": 0,
              "ticks": ""
             }
            },
            "type": "parcoords"
           }
          ],
          "pie": [
           {
            "automargin": true,
            "type": "pie"
           }
          ],
          "scatter": [
           {
            "fillpattern": {
             "fillmode": "overlay",
             "size": 10,
             "solidity": 0.2
            },
            "type": "scatter"
           }
          ],
          "scatter3d": [
           {
            "line": {
             "colorbar": {
              "outlinewidth": 0,
              "ticks": ""
             }
            },
            "marker": {
             "colorbar": {
              "outlinewidth": 0,
              "ticks": ""
             }
            },
            "type": "scatter3d"
           }
          ],
          "scattercarpet": [
           {
            "marker": {
             "colorbar": {
              "outlinewidth": 0,
              "ticks": ""
             }
            },
            "type": "scattercarpet"
           }
          ],
          "scattergeo": [
           {
            "marker": {
             "colorbar": {
              "outlinewidth": 0,
              "ticks": ""
             }
            },
            "type": "scattergeo"
           }
          ],
          "scattergl": [
           {
            "marker": {
             "colorbar": {
              "outlinewidth": 0,
              "ticks": ""
             }
            },
            "type": "scattergl"
           }
          ],
          "scattermapbox": [
           {
            "marker": {
             "colorbar": {
              "outlinewidth": 0,
              "ticks": ""
             }
            },
            "type": "scattermapbox"
           }
          ],
          "scatterpolar": [
           {
            "marker": {
             "colorbar": {
              "outlinewidth": 0,
              "ticks": ""
             }
            },
            "type": "scatterpolar"
           }
          ],
          "scatterpolargl": [
           {
            "marker": {
             "colorbar": {
              "outlinewidth": 0,
              "ticks": ""
             }
            },
            "type": "scatterpolargl"
           }
          ],
          "scatterternary": [
           {
            "marker": {
             "colorbar": {
              "outlinewidth": 0,
              "ticks": ""
             }
            },
            "type": "scatterternary"
           }
          ],
          "surface": [
           {
            "colorbar": {
             "outlinewidth": 0,
             "ticks": ""
            },
            "colorscale": [
             [
              0,
              "#0d0887"
             ],
             [
              0.1111111111111111,
              "#46039f"
             ],
             [
              0.2222222222222222,
              "#7201a8"
             ],
             [
              0.3333333333333333,
              "#9c179e"
             ],
             [
              0.4444444444444444,
              "#bd3786"
             ],
             [
              0.5555555555555556,
              "#d8576b"
             ],
             [
              0.6666666666666666,
              "#ed7953"
             ],
             [
              0.7777777777777778,
              "#fb9f3a"
             ],
             [
              0.8888888888888888,
              "#fdca26"
             ],
             [
              1,
              "#f0f921"
             ]
            ],
            "type": "surface"
           }
          ],
          "table": [
           {
            "cells": {
             "fill": {
              "color": "#EBF0F8"
             },
             "line": {
              "color": "white"
             }
            },
            "header": {
             "fill": {
              "color": "#C8D4E3"
             },
             "line": {
              "color": "white"
             }
            },
            "type": "table"
           }
          ]
         },
         "layout": {
          "annotationdefaults": {
           "arrowcolor": "#2a3f5f",
           "arrowhead": 0,
           "arrowwidth": 1
          },
          "autotypenumbers": "strict",
          "coloraxis": {
           "colorbar": {
            "outlinewidth": 0,
            "ticks": ""
           }
          },
          "colorscale": {
           "diverging": [
            [
             0,
             "#8e0152"
            ],
            [
             0.1,
             "#c51b7d"
            ],
            [
             0.2,
             "#de77ae"
            ],
            [
             0.3,
             "#f1b6da"
            ],
            [
             0.4,
             "#fde0ef"
            ],
            [
             0.5,
             "#f7f7f7"
            ],
            [
             0.6,
             "#e6f5d0"
            ],
            [
             0.7,
             "#b8e186"
            ],
            [
             0.8,
             "#7fbc41"
            ],
            [
             0.9,
             "#4d9221"
            ],
            [
             1,
             "#276419"
            ]
           ],
           "sequential": [
            [
             0,
             "#0d0887"
            ],
            [
             0.1111111111111111,
             "#46039f"
            ],
            [
             0.2222222222222222,
             "#7201a8"
            ],
            [
             0.3333333333333333,
             "#9c179e"
            ],
            [
             0.4444444444444444,
             "#bd3786"
            ],
            [
             0.5555555555555556,
             "#d8576b"
            ],
            [
             0.6666666666666666,
             "#ed7953"
            ],
            [
             0.7777777777777778,
             "#fb9f3a"
            ],
            [
             0.8888888888888888,
             "#fdca26"
            ],
            [
             1,
             "#f0f921"
            ]
           ],
           "sequentialminus": [
            [
             0,
             "#0d0887"
            ],
            [
             0.1111111111111111,
             "#46039f"
            ],
            [
             0.2222222222222222,
             "#7201a8"
            ],
            [
             0.3333333333333333,
             "#9c179e"
            ],
            [
             0.4444444444444444,
             "#bd3786"
            ],
            [
             0.5555555555555556,
             "#d8576b"
            ],
            [
             0.6666666666666666,
             "#ed7953"
            ],
            [
             0.7777777777777778,
             "#fb9f3a"
            ],
            [
             0.8888888888888888,
             "#fdca26"
            ],
            [
             1,
             "#f0f921"
            ]
           ]
          },
          "colorway": [
           "#636efa",
           "#EF553B",
           "#00cc96",
           "#ab63fa",
           "#FFA15A",
           "#19d3f3",
           "#FF6692",
           "#B6E880",
           "#FF97FF",
           "#FECB52"
          ],
          "font": {
           "color": "#2a3f5f"
          },
          "geo": {
           "bgcolor": "white",
           "lakecolor": "white",
           "landcolor": "#E5ECF6",
           "showlakes": true,
           "showland": true,
           "subunitcolor": "white"
          },
          "hoverlabel": {
           "align": "left"
          },
          "hovermode": "closest",
          "mapbox": {
           "style": "light"
          },
          "paper_bgcolor": "white",
          "plot_bgcolor": "#E5ECF6",
          "polar": {
           "angularaxis": {
            "gridcolor": "white",
            "linecolor": "white",
            "ticks": ""
           },
           "bgcolor": "#E5ECF6",
           "radialaxis": {
            "gridcolor": "white",
            "linecolor": "white",
            "ticks": ""
           }
          },
          "scene": {
           "xaxis": {
            "backgroundcolor": "#E5ECF6",
            "gridcolor": "white",
            "gridwidth": 2,
            "linecolor": "white",
            "showbackground": true,
            "ticks": "",
            "zerolinecolor": "white"
           },
           "yaxis": {
            "backgroundcolor": "#E5ECF6",
            "gridcolor": "white",
            "gridwidth": 2,
            "linecolor": "white",
            "showbackground": true,
            "ticks": "",
            "zerolinecolor": "white"
           },
           "zaxis": {
            "backgroundcolor": "#E5ECF6",
            "gridcolor": "white",
            "gridwidth": 2,
            "linecolor": "white",
            "showbackground": true,
            "ticks": "",
            "zerolinecolor": "white"
           }
          },
          "shapedefaults": {
           "line": {
            "color": "#2a3f5f"
           }
          },
          "ternary": {
           "aaxis": {
            "gridcolor": "white",
            "linecolor": "white",
            "ticks": ""
           },
           "baxis": {
            "gridcolor": "white",
            "linecolor": "white",
            "ticks": ""
           },
           "bgcolor": "#E5ECF6",
           "caxis": {
            "gridcolor": "white",
            "linecolor": "white",
            "ticks": ""
           }
          },
          "title": {
           "x": 0.05
          },
          "xaxis": {
           "automargin": true,
           "gridcolor": "white",
           "linecolor": "white",
           "ticks": "",
           "title": {
            "standoff": 15
           },
           "zerolinecolor": "white",
           "zerolinewidth": 2
          },
          "yaxis": {
           "automargin": true,
           "gridcolor": "white",
           "linecolor": "white",
           "ticks": "",
           "title": {
            "standoff": 15
           },
           "zerolinecolor": "white",
           "zerolinewidth": 2
          }
         }
        },
        "xaxis": {
         "anchor": "y",
         "domain": [
          0,
          1
         ],
         "title": {
          "text": "Total Exports as a Percentage of GDP"
         }
        },
        "yaxis": {
         "anchor": "x",
         "domain": [
          0,
          1
         ],
         "title": {
          "text": "GDP Growth"
         }
        }
       }
      },
      "text/html": [
       "<div>                            <div id=\"937ad289-9420-4782-be9c-528f58ef0d5a\" class=\"plotly-graph-div\" style=\"height:800px; width:100%;\"></div>            <script type=\"text/javascript\">                require([\"plotly\"], function(Plotly) {                    window.PLOTLYENV=window.PLOTLYENV || {};                                    if (document.getElementById(\"937ad289-9420-4782-be9c-528f58ef0d5a\")) {                    Plotly.newPlot(                        \"937ad289-9420-4782-be9c-528f58ef0d5a\",                        [{\"customdata\":[[\"VNM\"],[\"MNG\"],[\"PNG\"],[\"TLS\"],[\"LAO\"],[\"IDN\"],[\"BRN\"]],\"hovertemplate\":\"<b>%{hovertext}</b><br><br>WB Region=East Asia & Pacific<br>Total Exports as a Percentage of GDP=%{x}<br>GDP Growth=%{y}<br>GDP Per Capita=%{marker.size}<br>iso3c=%{customdata[0]}<extra></extra>\",\"hovertext\":[\"Vietnam\",\"Mongolia\",\"Papua New Guinea\",\"Timor Leste\",\"Lao PDR\",\"Indonesia\",\"Brunei Darussalam\"],\"legendgroup\":\"East Asia & Pacific\",\"marker\":{\"color\":\"#636efa\",\"opacity\":0.75,\"size\":[10338.2705428349,11723.8735008808,4063.23970896116,3925.94815881534,7810.73497037483,11445.6140283799,62200.8820427958],\"sizemode\":\"area\",\"sizeref\":213.22612607424824,\"symbol\":\"circle\"},\"mode\":\"markers\",\"name\":\"East Asia & Pacific\",\"orientation\":\"v\",\"showlegend\":true,\"x\":[null,57.6603497333803,null,68.7404213995397,null,17.2714213388682,57.3561113888546],\"xaxis\":\"x\",\"y\":[2.93999999999815,-4.55775197337685,-3.49999998706522,10.37185523562,0.503031829677198,-2.06500494092904,1.1335733495246],\"yaxis\":\"y\",\"type\":\"scatter\"},{\"customdata\":[[\"RUS\"],[\"KAZ\"],[\"AZE\"],[\"AZE\"],[\"UZB\"],[\"ALB\"],[\"NOR\"]],\"hovertemplate\":\"<b>%{hovertext}</b><br><br>WB Region=Europe & Central Asia<br>Total Exports as a Percentage of GDP=%{x}<br>GDP Growth=%{y}<br>GDP Per Capita=%{marker.size}<br>iso3c=%{customdata[0]}<extra></extra>\",\"hovertext\":[\"Russia\",\"Kazakhstan\",\"Azerbaijan\",\"Iran\",\"Uzbekistan\",\"Albania\",\"Norway\"],\"legendgroup\":\"Europe & Central Asia\",\"marker\":{\"color\":\"#EF553B\",\"opacity\":0.75,\"size\":[26578.4609375,25361.5079910015,13726.7696576885,13726.7696576885,7344.22032645899,13253.7333373551,63548.0008158322],\"sizemode\":\"area\",\"sizeref\":213.22612607424824,\"symbol\":\"x\"},\"mode\":\"markers\",\"name\":\"Europe & Central Asia\",\"orientation\":\"v\",\"showlegend\":true,\"x\":[25.531215027121,30.2259878624921,35.6235558660257,35.6235558660257,24.2880630917945,22.7039815429045,32.2452592790462],\"xaxis\":\"x\",\"y\":[-2.68329621644421,-2.50000000028746,-4.30000010230737,-4.30000010230737,1.88624525878936,-3.48163037314293,-0.717182669244792],\"yaxis\":\"y\",\"type\":\"scatter\"},{\"customdata\":[[\"SUR\"],[\"CHL\"],[\"PER\"],[\"ECU\"],[\"TTO\"],[\"MEX\"],[\"GUY\"],[\"BOL\"]],\"hovertemplate\":\"<b>%{hovertext}</b><br><br>WB Region=Latin America & Caribbean <br>Total Exports as a Percentage of GDP=%{x}<br>GDP Growth=%{y}<br>GDP Per Capita=%{marker.size}<br>iso3c=%{customdata[0]}<extra></extra>\",\"hovertext\":[\"Suriname\",\"Chile\",\"Peru\",\"Ecuador\",\"Trinidad and Tobago\",\"Mexico\",\"Guyana\",\"Bolivia\"],\"legendgroup\":\"Latin America & Caribbean \",\"marker\":{\"color\":\"#00cc96\",\"opacity\":0.75,\"size\":[15864.5510032255,23239.3700619175,11289.7696753248,10325.0017094216,24768.6815527811,17878.2772936361,18679.955428894,7853.05397242703],\"sizemode\":\"area\",\"sizeref\":213.22612607424824,\"symbol\":\"square\"},\"mode\":\"markers\",\"name\":\"Latin America & Caribbean \",\"orientation\":\"v\",\"showlegend\":true,\"x\":[null,31.533534451743,22.3808017431295,21.8579265957348,null,39.6030465121765,null,20.2725897857053],\"xaxis\":\"x\",\"y\":[-15.9079511896139,-5.9782240617438,-10.9526989325015,-7.78760709093422,-7.37428526501073,-8.16735801037942,43.4795559399402,-8.7378843576993],\"yaxis\":\"y\",\"type\":\"scatter\"},{\"customdata\":[[\"QAT\"],[\"OMN\"],[\"SAU\"],[\"DZA\"],[\"BHR\"],[\"LBY\"],[\"IRQ\"]],\"hovertemplate\":\"<b>%{hovertext}</b><br><br>WB Region=Middle East & North Africa<br>Total Exports as a Percentage of GDP=%{x}<br>GDP Growth=%{y}<br>GDP Per Capita=%{marker.size}<br>iso3c=%{customdata[0]}<extra></extra>\",\"hovertext\":[\"Qatar\",\"Oman\",\"Saudi Arabia\",\"Algeria\",\"Bahrain\",\"Libya\",\"Iraq\"],\"legendgroup\":\"Middle East & North Africa\",\"marker\":{\"color\":\"#ab63fa\",\"opacity\":0.75,\"size\":[85290.4504296993,29502.0596686431,44349.4728252942,10735.3825391141,41545.8414992942,16388.8243188775,9437.49516570457],\"sizemode\":\"area\",\"sizeref\":213.22612607424824,\"symbol\":\"cross\"},\"mode\":\"markers\",\"name\":\"Middle East & North Africa\",\"orientation\":\"v\",\"showlegend\":true,\"x\":[49.1188782621275,44.2454820336123,26.1829049524404,18.0011749475081,72.7153247387956,null,27.2218072972819],\"xaxis\":\"x\",\"y\":[-3.64044980532107,-3.2009359899042,-4.13767037552623,-5.0999999999227,-4.93585497941497,-23.9297824475795,-11.3241992616186],\"yaxis\":\"y\",\"type\":\"scatter\"},{\"customdata\":[[\"COG\"],[\"LBR\"],[\"NER\"],[\"GIN\"],[\"MLI\"],[\"TCD\"],[\"ZMB\"],[\"BWA\"],[\"NGA\"],[\"CMR\"],[\"SDN\"],[\"CIV\"],[\"GNQ\"],[\"GAB\"],[\"AGO\"],[\"MRT\"],[\"COD\"]],\"hovertemplate\":\"<b>%{hovertext}</b><br><br>WB Region=Sub-Saharan Africa <br>Total Exports as a Percentage of GDP=%{x}<br>GDP Growth=%{y}<br>GDP Per Capita=%{marker.size}<br>iso3c=%{customdata[0]}<extra></extra>\",\"hovertext\":[\"Congo, Rep. of\",\"Liberia\",\"Niger\",\"Guinea\",\"Mali\",\"Chad\",\"Zambia\",\"Botswana\",\"Nigeria\",\"Cameroon\",\"Sudan\",\"Cote d'Ivoire\",\"Equatorial Guinea\",\"Gabon\",\"Angola\",\"Mauritania\",\"Congo, Dem. Rep\"],\"legendgroup\":\"Sub-Saharan Africa \",\"marker\":{\"color\":\"#FFA15A\",\"opacity\":0.75,\"size\":[3497.5654537581,1392.01092366288,1221.26993034856,2611.40331106969,2225.89423802753,1509.02717218037,3277.81650999621,14667.8037179871,4916.72138086439,3666.41062571774,3927.0439453125,5181.31116022878,17214.7381839077,14320.8446459612,6141.96383913753,5109.80494793199,1082.44524222678],\"sizemode\":\"area\",\"sizeref\":213.22612607424824,\"symbol\":\"diamond\"},\"mode\":\"markers\",\"name\":\"Sub-Saharan Africa \",\"orientation\":\"v\",\"showlegend\":true,\"x\":[null,null,10.2875991447739,58.8090590863307,30.6566300509484,26.7161490487759,46.7901653766552,31.3537209303685,null,15.0350691270336,0.435765181853457,21.5515551658309,43.486734954319,47.7301165597302,37.911272976472,39.7750211948715,28.6045874477254],\"xaxis\":\"x\",\"y\":[-6.23931963197583,-2.98249214979133,3.58000640281861,4.63727753630549,-1.235450447077,-1.60000673705524,-2.78505506545167,-8.72641034557256,-1.79425308233591,0.491914742161129,-3.62980562615675,1.95833247878154,-4.24147816609674,-1.83776092953785,-5.50000000331273,-1.76332179417277,1.7354227636007],\"yaxis\":\"y\",\"type\":\"scatter\"},{\"hovertemplate\":\"<b>OLS trendline</b><br>GDP_grow = 0.0641372 * Exports% + -5.06419<br>R<sup>2</sup>=0.054940<br><br>Total Exports as a Percentage of GDP=%{x}<br>GDP Growth=%{y} <b>(trend)</b><extra></extra>\",\"legendgroup\":\"Overall Trendline\",\"line\":{\"color\":\"black\"},\"mode\":\"lines\",\"name\":\"Overall Trendline\",\"showlegend\":true,\"x\":[0.435765181853457,10.2875991447739,15.0350691270336,17.2714213388682,18.0011749475081,20.2725897857053,21.5515551658309,21.8579265957348,22.3808017431295,22.7039815429045,24.2880630917945,25.531215027121,26.1829049524404,26.7161490487759,27.2218072972819,28.6045874477254,30.2259878624921,30.6566300509484,31.3537209303685,31.533534451743,32.2452592790462,35.6235558660257,35.6235558660257,37.911272976472,39.6030465121765,39.7750211948715,43.486734954319,44.2454820336123,46.7901653766552,47.7301165597302,49.1188782621275,57.3561113888546,57.6603497333803,58.8090590863307,68.7404213995397,72.7153247387956],\"y\":[-5.036237958296186,-4.404368981503339,-4.099879582744131,-3.956446229202161,-3.9096418811246694,-3.7639597091467834,-3.6819304596552627,-3.662280656109999,-3.628744911839624,-3.608017066631054,-3.5064185225203044,-3.426686246851709,-3.3848886843016692,-3.350687904751335,-3.3182564040487352,-3.2295687665917203,-3.1255766951757673,-3.097956513998551,-3.0532470616906244,-3.041714327156927,-2.996066294508514,-2.7793918341236052,-2.7793918341236052,-2.6326640801632974,-2.5241584743041083,-2.5131285008800988,-2.2750695989378675,-2.2264056910358407,-2.0631968442077238,-2.0029110137196953,-1.9138397363102708,-1.385526725049747,-1.3660137316131813,-1.2923387380827402,-0.6553690361343545,-0.40042989330276324],\"type\":\"scatter\",\"xaxis\":\"x\",\"yaxis\":\"y\"}],                        {\"template\":{\"data\":{\"histogram2dcontour\":[{\"type\":\"histogram2dcontour\",\"colorbar\":{\"outlinewidth\":0,\"ticks\":\"\"},\"colorscale\":[[0.0,\"#0d0887\"],[0.1111111111111111,\"#46039f\"],[0.2222222222222222,\"#7201a8\"],[0.3333333333333333,\"#9c179e\"],[0.4444444444444444,\"#bd3786\"],[0.5555555555555556,\"#d8576b\"],[0.6666666666666666,\"#ed7953\"],[0.7777777777777778,\"#fb9f3a\"],[0.8888888888888888,\"#fdca26\"],[1.0,\"#f0f921\"]]}],\"choropleth\":[{\"type\":\"choropleth\",\"colorbar\":{\"outlinewidth\":0,\"ticks\":\"\"}}],\"histogram2d\":[{\"type\":\"histogram2d\",\"colorbar\":{\"outlinewidth\":0,\"ticks\":\"\"},\"colorscale\":[[0.0,\"#0d0887\"],[0.1111111111111111,\"#46039f\"],[0.2222222222222222,\"#7201a8\"],[0.3333333333333333,\"#9c179e\"],[0.4444444444444444,\"#bd3786\"],[0.5555555555555556,\"#d8576b\"],[0.6666666666666666,\"#ed7953\"],[0.7777777777777778,\"#fb9f3a\"],[0.8888888888888888,\"#fdca26\"],[1.0,\"#f0f921\"]]}],\"heatmap\":[{\"type\":\"heatmap\",\"colorbar\":{\"outlinewidth\":0,\"ticks\":\"\"},\"colorscale\":[[0.0,\"#0d0887\"],[0.1111111111111111,\"#46039f\"],[0.2222222222222222,\"#7201a8\"],[0.3333333333333333,\"#9c179e\"],[0.4444444444444444,\"#bd3786\"],[0.5555555555555556,\"#d8576b\"],[0.6666666666666666,\"#ed7953\"],[0.7777777777777778,\"#fb9f3a\"],[0.8888888888888888,\"#fdca26\"],[1.0,\"#f0f921\"]]}],\"heatmapgl\":[{\"type\":\"heatmapgl\",\"colorbar\":{\"outlinewidth\":0,\"ticks\":\"\"},\"colorscale\":[[0.0,\"#0d0887\"],[0.1111111111111111,\"#46039f\"],[0.2222222222222222,\"#7201a8\"],[0.3333333333333333,\"#9c179e\"],[0.4444444444444444,\"#bd3786\"],[0.5555555555555556,\"#d8576b\"],[0.6666666666666666,\"#ed7953\"],[0.7777777777777778,\"#fb9f3a\"],[0.8888888888888888,\"#fdca26\"],[1.0,\"#f0f921\"]]}],\"contourcarpet\":[{\"type\":\"contourcarpet\",\"colorbar\":{\"outlinewidth\":0,\"ticks\":\"\"}}],\"contour\":[{\"type\":\"contour\",\"colorbar\":{\"outlinewidth\":0,\"ticks\":\"\"},\"colorscale\":[[0.0,\"#0d0887\"],[0.1111111111111111,\"#46039f\"],[0.2222222222222222,\"#7201a8\"],[0.3333333333333333,\"#9c179e\"],[0.4444444444444444,\"#bd3786\"],[0.5555555555555556,\"#d8576b\"],[0.6666666666666666,\"#ed7953\"],[0.7777777777777778,\"#fb9f3a\"],[0.8888888888888888,\"#fdca26\"],[1.0,\"#f0f921\"]]}],\"surface\":[{\"type\":\"surface\",\"colorbar\":{\"outlinewidth\":0,\"ticks\":\"\"},\"colorscale\":[[0.0,\"#0d0887\"],[0.1111111111111111,\"#46039f\"],[0.2222222222222222,\"#7201a8\"],[0.3333333333333333,\"#9c179e\"],[0.4444444444444444,\"#bd3786\"],[0.5555555555555556,\"#d8576b\"],[0.6666666666666666,\"#ed7953\"],[0.7777777777777778,\"#fb9f3a\"],[0.8888888888888888,\"#fdca26\"],[1.0,\"#f0f921\"]]}],\"mesh3d\":[{\"type\":\"mesh3d\",\"colorbar\":{\"outlinewidth\":0,\"ticks\":\"\"}}],\"scatter\":[{\"fillpattern\":{\"fillmode\":\"overlay\",\"size\":10,\"solidity\":0.2},\"type\":\"scatter\"}],\"parcoords\":[{\"type\":\"parcoords\",\"line\":{\"colorbar\":{\"outlinewidth\":0,\"ticks\":\"\"}}}],\"scatterpolargl\":[{\"type\":\"scatterpolargl\",\"marker\":{\"colorbar\":{\"outlinewidth\":0,\"ticks\":\"\"}}}],\"bar\":[{\"error_x\":{\"color\":\"#2a3f5f\"},\"error_y\":{\"color\":\"#2a3f5f\"},\"marker\":{\"line\":{\"color\":\"#E5ECF6\",\"width\":0.5},\"pattern\":{\"fillmode\":\"overlay\",\"size\":10,\"solidity\":0.2}},\"type\":\"bar\"}],\"scattergeo\":[{\"type\":\"scattergeo\",\"marker\":{\"colorbar\":{\"outlinewidth\":0,\"ticks\":\"\"}}}],\"scatterpolar\":[{\"type\":\"scatterpolar\",\"marker\":{\"colorbar\":{\"outlinewidth\":0,\"ticks\":\"\"}}}],\"histogram\":[{\"marker\":{\"pattern\":{\"fillmode\":\"overlay\",\"size\":10,\"solidity\":0.2}},\"type\":\"histogram\"}],\"scattergl\":[{\"type\":\"scattergl\",\"marker\":{\"colorbar\":{\"outlinewidth\":0,\"ticks\":\"\"}}}],\"scatter3d\":[{\"type\":\"scatter3d\",\"line\":{\"colorbar\":{\"outlinewidth\":0,\"ticks\":\"\"}},\"marker\":{\"colorbar\":{\"outlinewidth\":0,\"ticks\":\"\"}}}],\"scattermapbox\":[{\"type\":\"scattermapbox\",\"marker\":{\"colorbar\":{\"outlinewidth\":0,\"ticks\":\"\"}}}],\"scatterternary\":[{\"type\":\"scatterternary\",\"marker\":{\"colorbar\":{\"outlinewidth\":0,\"ticks\":\"\"}}}],\"scattercarpet\":[{\"type\":\"scattercarpet\",\"marker\":{\"colorbar\":{\"outlinewidth\":0,\"ticks\":\"\"}}}],\"carpet\":[{\"aaxis\":{\"endlinecolor\":\"#2a3f5f\",\"gridcolor\":\"white\",\"linecolor\":\"white\",\"minorgridcolor\":\"white\",\"startlinecolor\":\"#2a3f5f\"},\"baxis\":{\"endlinecolor\":\"#2a3f5f\",\"gridcolor\":\"white\",\"linecolor\":\"white\",\"minorgridcolor\":\"white\",\"startlinecolor\":\"#2a3f5f\"},\"type\":\"carpet\"}],\"table\":[{\"cells\":{\"fill\":{\"color\":\"#EBF0F8\"},\"line\":{\"color\":\"white\"}},\"header\":{\"fill\":{\"color\":\"#C8D4E3\"},\"line\":{\"color\":\"white\"}},\"type\":\"table\"}],\"barpolar\":[{\"marker\":{\"line\":{\"color\":\"#E5ECF6\",\"width\":0.5},\"pattern\":{\"fillmode\":\"overlay\",\"size\":10,\"solidity\":0.2}},\"type\":\"barpolar\"}],\"pie\":[{\"automargin\":true,\"type\":\"pie\"}]},\"layout\":{\"autotypenumbers\":\"strict\",\"colorway\":[\"#636efa\",\"#EF553B\",\"#00cc96\",\"#ab63fa\",\"#FFA15A\",\"#19d3f3\",\"#FF6692\",\"#B6E880\",\"#FF97FF\",\"#FECB52\"],\"font\":{\"color\":\"#2a3f5f\"},\"hovermode\":\"closest\",\"hoverlabel\":{\"align\":\"left\"},\"paper_bgcolor\":\"white\",\"plot_bgcolor\":\"#E5ECF6\",\"polar\":{\"bgcolor\":\"#E5ECF6\",\"angularaxis\":{\"gridcolor\":\"white\",\"linecolor\":\"white\",\"ticks\":\"\"},\"radialaxis\":{\"gridcolor\":\"white\",\"linecolor\":\"white\",\"ticks\":\"\"}},\"ternary\":{\"bgcolor\":\"#E5ECF6\",\"aaxis\":{\"gridcolor\":\"white\",\"linecolor\":\"white\",\"ticks\":\"\"},\"baxis\":{\"gridcolor\":\"white\",\"linecolor\":\"white\",\"ticks\":\"\"},\"caxis\":{\"gridcolor\":\"white\",\"linecolor\":\"white\",\"ticks\":\"\"}},\"coloraxis\":{\"colorbar\":{\"outlinewidth\":0,\"ticks\":\"\"}},\"colorscale\":{\"sequential\":[[0.0,\"#0d0887\"],[0.1111111111111111,\"#46039f\"],[0.2222222222222222,\"#7201a8\"],[0.3333333333333333,\"#9c179e\"],[0.4444444444444444,\"#bd3786\"],[0.5555555555555556,\"#d8576b\"],[0.6666666666666666,\"#ed7953\"],[0.7777777777777778,\"#fb9f3a\"],[0.8888888888888888,\"#fdca26\"],[1.0,\"#f0f921\"]],\"sequentialminus\":[[0.0,\"#0d0887\"],[0.1111111111111111,\"#46039f\"],[0.2222222222222222,\"#7201a8\"],[0.3333333333333333,\"#9c179e\"],[0.4444444444444444,\"#bd3786\"],[0.5555555555555556,\"#d8576b\"],[0.6666666666666666,\"#ed7953\"],[0.7777777777777778,\"#fb9f3a\"],[0.8888888888888888,\"#fdca26\"],[1.0,\"#f0f921\"]],\"diverging\":[[0,\"#8e0152\"],[0.1,\"#c51b7d\"],[0.2,\"#de77ae\"],[0.3,\"#f1b6da\"],[0.4,\"#fde0ef\"],[0.5,\"#f7f7f7\"],[0.6,\"#e6f5d0\"],[0.7,\"#b8e186\"],[0.8,\"#7fbc41\"],[0.9,\"#4d9221\"],[1,\"#276419\"]]},\"xaxis\":{\"gridcolor\":\"white\",\"linecolor\":\"white\",\"ticks\":\"\",\"title\":{\"standoff\":15},\"zerolinecolor\":\"white\",\"automargin\":true,\"zerolinewidth\":2},\"yaxis\":{\"gridcolor\":\"white\",\"linecolor\":\"white\",\"ticks\":\"\",\"title\":{\"standoff\":15},\"zerolinecolor\":\"white\",\"automargin\":true,\"zerolinewidth\":2},\"scene\":{\"xaxis\":{\"backgroundcolor\":\"#E5ECF6\",\"gridcolor\":\"white\",\"linecolor\":\"white\",\"showbackground\":true,\"ticks\":\"\",\"zerolinecolor\":\"white\",\"gridwidth\":2},\"yaxis\":{\"backgroundcolor\":\"#E5ECF6\",\"gridcolor\":\"white\",\"linecolor\":\"white\",\"showbackground\":true,\"ticks\":\"\",\"zerolinecolor\":\"white\",\"gridwidth\":2},\"zaxis\":{\"backgroundcolor\":\"#E5ECF6\",\"gridcolor\":\"white\",\"linecolor\":\"white\",\"showbackground\":true,\"ticks\":\"\",\"zerolinecolor\":\"white\",\"gridwidth\":2}},\"shapedefaults\":{\"line\":{\"color\":\"#2a3f5f\"}},\"annotationdefaults\":{\"arrowcolor\":\"#2a3f5f\",\"arrowhead\":0,\"arrowwidth\":1},\"geo\":{\"bgcolor\":\"white\",\"landcolor\":\"#E5ECF6\",\"subunitcolor\":\"white\",\"showland\":true,\"showlakes\":true,\"lakecolor\":\"white\"},\"title\":{\"x\":0.05},\"mapbox\":{\"style\":\"light\"}}},\"xaxis\":{\"anchor\":\"y\",\"domain\":[0.0,1.0],\"title\":{\"text\":\"Total Exports as a Percentage of GDP\"}},\"yaxis\":{\"anchor\":\"x\",\"domain\":[0.0,1.0],\"title\":{\"text\":\"GDP Growth\"}},\"legend\":{\"title\":{\"text\":\"WB Region\"},\"tracegroupgap\":0,\"itemsizing\":\"constant\"},\"margin\":{\"t\":60},\"height\":800},                        {\"responsive\": true}                    ).then(function(){\n",
       "                            \n",
       "var gd = document.getElementById('937ad289-9420-4782-be9c-528f58ef0d5a');\n",
       "var x = new MutationObserver(function (mutations, observer) {{\n",
       "        var display = window.getComputedStyle(gd).display;\n",
       "        if (!display || display === 'none') {{\n",
       "            console.log([gd, 'removed!']);\n",
       "            Plotly.purge(gd);\n",
       "            observer.disconnect();\n",
       "        }}\n",
       "}});\n",
       "\n",
       "// Listen for the removal of the full notebook cells\n",
       "var notebookContainer = gd.closest('#notebook-container');\n",
       "if (notebookContainer) {{\n",
       "    x.observe(notebookContainer, {childList: true});\n",
       "}}\n",
       "\n",
       "// Listen for the clearing of the current output cell\n",
       "var outputEl = gd.closest('.output');\n",
       "if (outputEl) {{\n",
       "    x.observe(outputEl, {childList: true});\n",
       "}}\n",
       "\n",
       "                        })                };                });            </script>        </div>"
      ]
     },
     "metadata": {},
     "output_type": "display_data"
    }
   ],
   "source": [
    "fig3.show()"
   ]
  },
  {
   "cell_type": "markdown",
   "id": "1e7b475d",
   "metadata": {},
   "source": [
    "## Sources\n",
    "Adams, Dawda, Kweku Adams, Subhan Ullah, and Farid Ullah. “Globalisation, Governance, Accountability and the Natural Resource ‘curse’: Implications for Socio-Economic Growth of Oil-Rich Developing Countries.” *Resources Policy* 61 (2019): 128–40. https://doi.org/10.1016/j.resourpol.2019.02.009.\n",
    "\n",
    "Ghura, Dhaneshwar and Catherine Pattillo. “Macroeconomic Policy Frameworks for Resource-Rich Developing Countries.” *International Monetary Fund* (2012): 1-55.\n",
    "\n",
    "Haseeb, Muhammad, Sebastian Kot, Hafezali Iqbal Hussain, and Fakarudin Kamarudin. “The Natural Resources Curse-Economic Growth Hypotheses: Quantile–on–Quantile Evidence from Top Asian Economies.” *Journal of Cleaner Production* 279 (2021): 123596–. https://doi.org/10.1016/j.jclepro.2020.123596.\n",
    "\n",
    "Lederman, Daniel, William F. Maloney. *Natural Resources Neither Curse nor Destiny.* Palo Alto, CA: Stanford Economics and Finance, an imprint of Stanford University Press, 2007.\n",
    "\n",
    "Murshed, Syed Mansoob, and Leandro Antonio Serino. “The Pattern of Specialization and Economic Growth: The Resource Curse Hypothesis Revisited.” *Structural Change and Economic Dynamics* 22, no. 2 (2011): 151–61. https://doi.org/10.1016/j.strueco.2010.12.004.\n",
    "\n",
    "Ross, Michael Lewin. *The Oil Curse : How Petroleum Wealth Shapes the Development of Nations.* Princeton, N.J: Princeton University Press, 2012.\n",
    "\n",
    "Shu Yang, Elyas Abdulahi, Muhammad Afaq Haider, and Muhammed Asif Khan. “Revisiting the Curse: Resource Rent and Economic Growth of Sub-Sahara African Countries.” *International Journal of Economics and Financial Issues* 9, no. 1 (2019): 121–30.\n",
    "\n",
    "Venables, Anthony. “Using Natural Resources for Development: Why Has It Proven So Difficult?” *Journal of Economic Perspectives*, 30 no.1 (2016): 161-184. https://www.aeaweb.org/articles?id=10.1257/jep.30.1.161. \n",
    "\n",
    "Wang, Rong, Junlan Tan, and Shuangliang Yao. “Are Natural Resources a Blessing or a Curse for Economic Development? The Importance of Energy Innovations.” *Resources Policy* 72 (2021): 102042–. https://doi.org/10.1016/j.resourpol.2021.102042.\n",
    "\n",
    "Williams, Andrew. “Shining a Light on the Resource Curse: An Empirical Analysis of the Relationship Between Natural Resources, Transparency, and Economic Growth.” *World Development* 39, no. 4 (2011): 490–505. https://doi.org/10.1016/j.worlddev.2010.08.015."
   ]
  },
  {
   "cell_type": "markdown",
   "id": "bd034911",
   "metadata": {},
   "source": [
    "### Sources for Data\n",
    "[Venables - Appendix Data](https://assets.aeaweb.org/asset-server/articles-attachments/jep/app/3001/30010161_app.pdf) \\\n",
    "[World Bank - GDP growth Data](https://data.worldbank.org/indicator/NY.GDP.MKTP.KD.ZG) \\\n",
    "[World Bank - GDP per capita Data](https://data.worldbank.org/indicator/NY.GDP.PCAP.KD.ZG) \\\n",
    "[World Bank - Oil Rents as % of GDP](https://data.worldbank.org/indicator/NY.GDP.PETR.RT.ZS) \\\n",
    "[World Bank - Total Exports as % of GDP](https://data.worldbank.org/indicator/NE.EXP.GNFS.ZS) \\\n",
    "[World Bank - Total Natural Resources Rents as % of GDP](https://data.worldbank.org/indicator/NY.GDP.TOTL.RT.ZS) \\\n",
    "[OEC - Export information](https://oec.world/en/profile/country/lbr) "
   ]
  }
 ],
 "metadata": {
  "kernelspec": {
   "display_name": "Python 3 (ipykernel)",
   "language": "python",
   "name": "python3"
  },
  "language_info": {
   "codemirror_mode": {
    "name": "ipython",
    "version": 3
   },
   "file_extension": ".py",
   "mimetype": "text/x-python",
   "name": "python",
   "nbconvert_exporter": "python",
   "pygments_lexer": "ipython3",
   "version": "3.9.13"
  }
 },
 "nbformat": 4,
 "nbformat_minor": 5
}
